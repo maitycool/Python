{
  "nbformat": 4,
  "nbformat_minor": 0,
  "metadata": {
    "colab": {
      "name": "12th_April_TensorFlow_API_Session.ipynb",
      "provenance": []
    },
    "kernelspec": {
      "name": "python3",
      "display_name": "Python 3"
    }
  },
  "cells": [
    {
      "cell_type": "code",
      "metadata": {
        "id": "6KqAXd7K4zT8",
        "colab_type": "code",
        "colab": {}
      },
      "source": [
        "%tensorflow_version 2.x"
      ],
      "execution_count": 0,
      "outputs": []
    },
    {
      "cell_type": "code",
      "metadata": {
        "id": "dIR9Gyv16H4J",
        "colab_type": "code",
        "colab": {
          "base_uri": "https://localhost:8080/",
          "height": 34
        },
        "outputId": "6092b253-1193-41a6-a193-fe245a1b11cd"
      },
      "source": [
        "import tensorflow as tf\n",
        "\n",
        "tf.__version__"
      ],
      "execution_count": 2,
      "outputs": [
        {
          "output_type": "execute_result",
          "data": {
            "text/plain": [
              "'2.2.0-rc2'"
            ]
          },
          "metadata": {
            "tags": []
          },
          "execution_count": 2
        }
      ]
    },
    {
      "cell_type": "code",
      "metadata": {
        "id": "2_eEwfck6Mmc",
        "colab_type": "code",
        "colab": {}
      },
      "source": [
        "from tensorflow.keras.datasets import mnist\n",
        "(xtrain, ytrain), (xtest, ytest) = mnist.load_data()"
      ],
      "execution_count": 0,
      "outputs": []
    },
    {
      "cell_type": "code",
      "metadata": {
        "id": "J7Ij46GO6cSB",
        "colab_type": "code",
        "colab": {
          "base_uri": "https://localhost:8080/",
          "height": 34
        },
        "outputId": "6c230e92-b205-4818-b468-4c79ab1f56e1"
      },
      "source": [
        "xtrain.shape, ytrain.shape"
      ],
      "execution_count": 5,
      "outputs": [
        {
          "output_type": "execute_result",
          "data": {
            "text/plain": [
              "((60000, 28, 28), (60000,))"
            ]
          },
          "metadata": {
            "tags": []
          },
          "execution_count": 5
        }
      ]
    },
    {
      "cell_type": "code",
      "metadata": {
        "id": "jz4NNlsN6ryA",
        "colab_type": "code",
        "colab": {
          "base_uri": "https://localhost:8080/",
          "height": 34
        },
        "outputId": "fae080ce-9fbf-4dda-ad9f-e7f722225454"
      },
      "source": [
        "xtest.shape, ytest.shape"
      ],
      "execution_count": 6,
      "outputs": [
        {
          "output_type": "execute_result",
          "data": {
            "text/plain": [
              "((10000, 28, 28), (10000,))"
            ]
          },
          "metadata": {
            "tags": []
          },
          "execution_count": 6
        }
      ]
    },
    {
      "cell_type": "code",
      "metadata": {
        "id": "h7tleLBo62pn",
        "colab_type": "code",
        "colab": {
          "base_uri": "https://localhost:8080/",
          "height": 282
        },
        "outputId": "4732872e-8843-4b4c-bf4c-3d502a1b5aa2"
      },
      "source": [
        "import matplotlib.pyplot as plt\n",
        "plt.imshow(xtrain[50000])\n",
        "print(ytrain[50000])"
      ],
      "execution_count": 9,
      "outputs": [
        {
          "output_type": "stream",
          "text": [
            "3\n"
          ],
          "name": "stdout"
        },
        {
          "output_type": "display_data",
          "data": {
            "image/png": "[encoded data removed]",
            "text/plain": [
              "<Figure size 432x288 with 1 Axes>"
            ]
          },
          "metadata": {
            "tags": [],
            "needs_background": "light"
          }
        }
      ]
    },
    {
      "cell_type": "code",
      "metadata": {
        "id": "V18BvSp17I_g",
        "colab_type": "code",
        "colab": {}
      },
      "source": [
        "xtrain = xtrain/255"
      ],
      "execution_count": 0,
      "outputs": []
    },
    {
      "cell_type": "code",
      "metadata": {
        "id": "byGUA-Qm7dmx",
        "colab_type": "code",
        "colab": {}
      },
      "source": [
        "xtest = xtest/255"
      ],
      "execution_count": 0,
      "outputs": []
    },
    {
      "cell_type": "code",
      "metadata": {
        "id": "9WhQdKZF7geG",
        "colab_type": "code",
        "colab": {}
      },
      "source": [
        "from tensorflow.keras.utils import to_categorical\n",
        "\n",
        "ytrain = to_categorical(ytrain)\n",
        "ytest = to_categorical(ytest)\n"
      ],
      "execution_count": 0,
      "outputs": []
    },
    {
      "cell_type": "code",
      "metadata": {
        "id": "XINIqhvY7-qn",
        "colab_type": "code",
        "colab": {}
      },
      "source": [
        "from tensorflow.keras.models import Sequential\n",
        "from tensorflow.keras.layers import Flatten, Dense, Dropout, Conv2D\n",
        "from tensorflow.keras.activations import relu, softmax\n",
        "from tensorflow.keras.losses import categorical_crossentropy\n",
        "from tensorflow.keras.optimizers import SGD\n"
      ],
      "execution_count": 0,
      "outputs": []
    },
    {
      "cell_type": "code",
      "metadata": {
        "id": "szeflVLS8yDz",
        "colab_type": "code",
        "colab": {}
      },
      "source": [
        "model = Sequential()\n",
        "model.add(Flatten(input_shape=(28,28)))\n",
        "model.add(Dense(1024,activation=relu))\n",
        "model.add(Dense(256,activation=relu))\n",
        "model.add(Dense(10,activation=softmax))"
      ],
      "execution_count": 0,
      "outputs": []
    },
    {
      "cell_type": "code",
      "metadata": {
        "id": "k1nVv3VQ9iXi",
        "colab_type": "code",
        "colab": {
          "base_uri": "https://localhost:8080/",
          "height": 289
        },
        "outputId": "109b0be3-792c-4d97-cc3b-66ec94d01816"
      },
      "source": [
        "model.summary()"
      ],
      "execution_count": 16,
      "outputs": [
        {
          "output_type": "stream",
          "text": [
            "Model: \"sequential\"\n",
            "_________________________________________________________________\n",
            "Layer (type)                 Output Shape              Param #   \n",
            "=================================================================\n",
            "flatten (Flatten)            (None, 784)               0         \n",
            "_________________________________________________________________\n",
            "dense (Dense)                (None, 1024)              803840    \n",
            "_________________________________________________________________\n",
            "dense_1 (Dense)              (None, 256)               262400    \n",
            "_________________________________________________________________\n",
            "dense_2 (Dense)              (None, 10)                2570      \n",
            "=================================================================\n",
            "Total params: 1,068,810\n",
            "Trainable params: 1,068,810\n",
            "Non-trainable params: 0\n",
            "_________________________________________________________________\n"
          ],
          "name": "stdout"
        }
      ]
    },
    {
      "cell_type": "code",
      "metadata": {
        "id": "Ep6RE_MS9kzz",
        "colab_type": "code",
        "colab": {}
      },
      "source": [
        "model.compile(optimizer='rmsprop', loss=categorical_crossentropy, metrics=[\"acc\"])"
      ],
      "execution_count": 0,
      "outputs": []
    },
    {
      "cell_type": "code",
      "metadata": {
        "id": "EPmA5hrq-oDx",
        "colab_type": "code",
        "colab": {
          "base_uri": "https://localhost:8080/",
          "height": 374
        },
        "outputId": "58d501dc-eea2-4029-ccf4-fdcb8ceebd17"
      },
      "source": [
        "model.fit(xtrain, ytrain,batch_size=256, epochs=10, validation_split=0.2)"
      ],
      "execution_count": 18,
      "outputs": [
        {
          "output_type": "stream",
          "text": [
            "Epoch 1/10\n",
            "188/188 [==============================] - 7s 35ms/step - loss: 0.3022 - acc: 0.9054 - val_loss: 0.1389 - val_acc: 0.9578\n",
            "Epoch 2/10\n",
            "188/188 [==============================] - 7s 35ms/step - loss: 0.0995 - acc: 0.9692 - val_loss: 0.1365 - val_acc: 0.9595\n",
            "Epoch 3/10\n",
            "188/188 [==============================] - 7s 35ms/step - loss: 0.0625 - acc: 0.9804 - val_loss: 0.0893 - val_acc: 0.9743\n",
            "Epoch 4/10\n",
            "188/188 [==============================] - 7s 35ms/step - loss: 0.0401 - acc: 0.9872 - val_loss: 0.0849 - val_acc: 0.9756\n",
            "Epoch 5/10\n",
            "188/188 [==============================] - 6s 34ms/step - loss: 0.0272 - acc: 0.9912 - val_loss: 0.1107 - val_acc: 0.9722\n",
            "Epoch 6/10\n",
            "188/188 [==============================] - 6s 34ms/step - loss: 0.0214 - acc: 0.9933 - val_loss: 0.1090 - val_acc: 0.9749\n",
            "Epoch 7/10\n",
            "188/188 [==============================] - 7s 35ms/step - loss: 0.0172 - acc: 0.9942 - val_loss: 0.0972 - val_acc: 0.9777\n",
            "Epoch 8/10\n",
            "188/188 [==============================] - 7s 35ms/step - loss: 0.0121 - acc: 0.9959 - val_loss: 0.1254 - val_acc: 0.9728\n",
            "Epoch 9/10\n",
            "188/188 [==============================] - 7s 35ms/step - loss: 0.0113 - acc: 0.9964 - val_loss: 0.1120 - val_acc: 0.9811\n",
            "Epoch 10/10\n",
            "188/188 [==============================] - 6s 34ms/step - loss: 0.0082 - acc: 0.9971 - val_loss: 0.1278 - val_acc: 0.9753\n"
          ],
          "name": "stdout"
        },
        {
          "output_type": "execute_result",
          "data": {
            "text/plain": [
              "<tensorflow.python.keras.callbacks.History at 0x7fd6ef30c048>"
            ]
          },
          "metadata": {
            "tags": []
          },
          "execution_count": 18
        }
      ]
    },
    {
      "cell_type": "code",
      "metadata": {
        "id": "JzGV_hft-yT6",
        "colab_type": "code",
        "colab": {}
      },
      "source": [
        "from tensorflow.keras.models import save_model\n",
        "import os"
      ],
      "execution_count": 0,
      "outputs": []
    },
    {
      "cell_type": "code",
      "metadata": {
        "id": "OymgA90nAbyN",
        "colab_type": "code",
        "colab": {}
      },
      "source": [
        "#!rm -rf mnist_model/"
      ],
      "execution_count": 0,
      "outputs": []
    },
    {
      "cell_type": "code",
      "metadata": {
        "id": "tCRktPEU_RSk",
        "colab_type": "code",
        "colab": {
          "base_uri": "https://localhost:8080/",
          "height": 34
        },
        "outputId": "8cb3b682-60c8-4494-fba4-9219d6799adb"
      },
      "source": [
        "version = 1\n",
        "!mkdir -p mnist_model/{version}\n",
        "save_model(model, filepath=os.path.join(\"mnist_model\",str(version)))"
      ],
      "execution_count": 23,
      "outputs": [
        {
          "output_type": "stream",
          "text": [
            "INFO:tensorflow:Assets written to: mnist_model/1/assets\n"
          ],
          "name": "stdout"
        }
      ]
    },
    {
      "cell_type": "code",
      "metadata": {
        "id": "LmuQGdu7_cua",
        "colab_type": "code",
        "colab": {
          "base_uri": "https://localhost:8080/",
          "height": 68
        },
        "outputId": "f90378ab-d131-4dde-a22e-ac2a6f205768"
      },
      "source": [
        "\n",
        "!echo \"deb http://storage.googleapis.com/tensorflow-serving-apt stable tensorflow-model-server tensorflow-model-server-universal\" | tee /etc/apt/sources.list.d/tensorflow-serving.list && \\\n",
        "curl -s https://storage.googleapis.com/tensorflow-serving-apt/tensorflow-serving.release.pub.gpg | apt-key add -\n",
        "!apt -qq update "
      ],
      "execution_count": 24,
      "outputs": [
        {
          "output_type": "stream",
          "text": [
            "deb http://storage.googleapis.com/tensorflow-serving-apt stable tensorflow-model-server tensorflow-model-server-universal\n",
            "OK\n",
            "54 packages can be upgraded. Run 'apt list --upgradable' to see them.\n"
          ],
          "name": "stdout"
        }
      ]
    },
    {
      "cell_type": "code",
      "metadata": {
        "id": "vlW-XB3HB7ev",
        "colab_type": "code",
        "colab": {
          "base_uri": "https://localhost:8080/",
          "height": 102
        },
        "outputId": "a163dce9-bc40-4324-cf45-13686d1faa5a"
      },
      "source": [
        "# Download the TensorFlow Serving \n",
        "!apt-get -qq install  tensorflow-model-server"
      ],
      "execution_count": 25,
      "outputs": [
        {
          "output_type": "stream",
          "text": [
            "Selecting previously unselected package tensorflow-model-server.\n",
            "(Reading database ... 144568 files and directories currently installed.)\n",
            "Preparing to unpack .../tensorflow-model-server_2.1.0_all.deb ...\n",
            "Unpacking tensorflow-model-server (2.1.0) ...\n",
            "Setting up tensorflow-model-server (2.1.0) ...\n"
          ],
          "name": "stdout"
        }
      ]
    },
    {
      "cell_type": "code",
      "metadata": {
        "id": "DWpLEHNKCERF",
        "colab_type": "code",
        "colab": {
          "base_uri": "https://localhost:8080/",
          "height": 34
        },
        "outputId": "b5b42768-5025-4d1e-a0cb-e1c9b2debfff"
      },
      "source": [
        "!pwd"
      ],
      "execution_count": 27,
      "outputs": [
        {
          "output_type": "stream",
          "text": [
            "/content\n"
          ],
          "name": "stdout"
        }
      ]
    },
    {
      "cell_type": "code",
      "metadata": {
        "id": "36YxWnHlD0lq",
        "colab_type": "code",
        "colab": {
          "base_uri": "https://localhost:8080/",
          "height": 34
        },
        "outputId": "2ce9e189-08e5-45c5-988d-90eb71caa24c"
      },
      "source": [
        "# This will start the server against the host where model will be deployed and exposed from\n",
        "%%bash --bg\n",
        "nohup tensorflow_model_server --rest_api_port=8501 --model_name=predictMnist --model_base_path=\"/content/mnist_model\" >> /content/mnist_model.log"
      ],
      "execution_count": 52,
      "outputs": [
        {
          "output_type": "stream",
          "text": [
            "Starting job # 2 in a separate thread.\n"
          ],
          "name": "stdout"
        }
      ]
    },
    {
      "cell_type": "code",
      "metadata": {
        "id": "MXmPy9HjDObE",
        "colab_type": "code",
        "colab": {
          "base_uri": "https://localhost:8080/",
          "height": 68
        },
        "outputId": "495a5df7-807e-44d0-ba58-679cdaf9a8fc"
      },
      "source": [
        "#%%bash\n",
        "#!tail -f /content/mnist_model.log"
      ],
      "execution_count": 33,
      "outputs": [
        {
          "output_type": "stream",
          "text": [
            "[warn] getaddrinfo: address family for nodename not supported\n",
            "[evhttp_server.cc : 238] NET_LOG: Entering the event loop ...\n",
            "^C\n"
          ],
          "name": "stdout"
        }
      ]
    },
    {
      "cell_type": "code",
      "metadata": {
        "id": "yyz4E-qPFtsi",
        "colab_type": "code",
        "colab": {
          "base_uri": "https://localhost:8080/",
          "height": 51
        },
        "outputId": "c08b5ba5-83df-4cf7-a59c-4b36cb9cfd1a"
      },
      "source": [
        "#!cat /content/mnist_model.log"
      ],
      "execution_count": 35,
      "outputs": [
        {
          "output_type": "stream",
          "text": [
            "[warn] getaddrinfo: address family for nodename not supported\n",
            "[evhttp_server.cc : 238] NET_LOG: Entering the event loop ...\n"
          ],
          "name": "stdout"
        }
      ]
    },
    {
      "cell_type": "code",
      "metadata": {
        "id": "LGrWN0UCGaGG",
        "colab_type": "code",
        "colab": {
          "base_uri": "https://localhost:8080/",
          "height": 34
        },
        "outputId": "e93cb08f-57b3-4f28-a4c7-6cb94eb9b79e"
      },
      "source": [
        "!type hostname\n"
      ],
      "execution_count": 36,
      "outputs": [
        {
          "output_type": "stream",
          "text": [
            "hostname is /bin/hostname\n"
          ],
          "name": "stdout"
        }
      ]
    },
    {
      "cell_type": "code",
      "metadata": {
        "id": "jIRnVtBOGkql",
        "colab_type": "code",
        "colab": {}
      },
      "source": [
        "import requests\n"
      ],
      "execution_count": 0,
      "outputs": []
    },
    {
      "cell_type": "code",
      "metadata": {
        "id": "kdwnnyYUHDlB",
        "colab_type": "code",
        "colab": {}
      },
      "source": [
        "def predict(data):\n",
        "  headers = {\"content-type\": \"application/json\"}\n",
        "  json_response = requests.post(\"http://localhost:8501/v1/models/predictMnist:predict\",data=data, headers= headers)\n",
        "  json_result = json.loads(json_response.text)\n",
        "  return json_result\n",
        "\n"
      ],
      "execution_count": 0,
      "outputs": []
    },
    {
      "cell_type": "code",
      "metadata": {
        "id": "AIDLIynyJYPO",
        "colab_type": "code",
        "colab": {
          "base_uri": "https://localhost:8080/",
          "height": 282
        },
        "outputId": "fba9292f-9fc5-4eee-d62e-3ee6fafbd90d"
      },
      "source": [
        "plt.imshow(xtest[1000])"
      ],
      "execution_count": 40,
      "outputs": [
        {
          "output_type": "execute_result",
          "data": {
            "text/plain": [
              "<matplotlib.image.AxesImage at 0x7fd6ebacec18>"
            ]
          },
          "metadata": {
            "tags": []
          },
          "execution_count": 40
        },
        {
          "output_type": "display_data",
          "data": {
            "image/png": "[encoded data removed]",
            "text/plain": [
              "<Figure size 432x288 with 1 Axes>"
            ]
          },
          "metadata": {
            "tags": [],
            "needs_background": "light"
          }
        }
      ]
    },
    {
      "cell_type": "code",
      "metadata": {
        "id": "nzW3t-ZWJllg",
        "colab_type": "code",
        "colab": {}
      },
      "source": [
        "import json"
      ],
      "execution_count": 0,
      "outputs": []
    },
    {
      "cell_type": "code",
      "metadata": {
        "id": "C5XX25cUJudZ",
        "colab_type": "code",
        "colab": {
          "base_uri": "https://localhost:8080/",
          "height": 282
        },
        "outputId": "6d7a6359-a986-4d34-9cfa-bde3403ea11d"
      },
      "source": [
        "predicted_response = predict(json.dumps({\"signature_name\": \"serving_default\",\"instances\":xtest[1001].tolist()}))\n",
        "plt.imshow(xtest[1001])"
      ],
      "execution_count": 65,
      "outputs": [
        {
          "output_type": "execute_result",
          "data": {
            "text/plain": [
              "<matplotlib.image.AxesImage at 0x7fd6ebb90278>"
            ]
          },
          "metadata": {
            "tags": []
          },
          "execution_count": 65
        },
        {
          "output_type": "display_data",
          "data": {
            "image/png": "[encoded data removed]",
            "text/plain": [
              "<Figure size 432x288 with 1 Axes>"
            ]
          },
          "metadata": {
            "tags": [],
            "needs_background": "light"
          }
        }
      ]
    },
    {
      "cell_type": "code",
      "metadata": {
        "id": "mVyqLHhIMxNH",
        "colab_type": "code",
        "colab": {
          "base_uri": "https://localhost:8080/",
          "height": 34
        },
        "outputId": "9c10552a-0039-4354-9d94-e437ba28289a"
      },
      "source": [
        "import numpy as np\n",
        "np.argmax(predicted_response[\"predictions\"])"
      ],
      "execution_count": 66,
      "outputs": [
        {
          "output_type": "execute_result",
          "data": {
            "text/plain": [
              "0"
            ]
          },
          "metadata": {
            "tags": []
          },
          "execution_count": 66
        }
      ]
    },
    {
      "cell_type": "code",
      "metadata": {
        "id": "wQUUgwzcMWgr",
        "colab_type": "code",
        "colab": {
          "base_uri": "https://localhost:8080/",
          "height": 51
        },
        "outputId": "4d345cc2-2fdc-489b-ab67-fee78a5f0ad8"
      },
      "source": [
        "!ps -eaf | grep tensorflow-model-server"
      ],
      "execution_count": 69,
      "outputs": [
        {
          "output_type": "stream",
          "text": [
            "root        2886     119  0 16:28 ?        00:00:00 /bin/bash -c ps -eaf | grep tensorflow-model-server\n",
            "root        2888    2886  0 16:28 ?        00:00:00 grep tensorflow-model-server\n"
          ],
          "name": "stdout"
        }
      ]
    },
    {
      "cell_type": "code",
      "metadata": {
        "id": "Y3k5GlVrN5HK",
        "colab_type": "code",
        "colab": {
          "base_uri": "https://localhost:8080/",
          "height": 170
        },
        "outputId": "28e44dbd-de38-4df9-9c41-8ae442c2837d"
      },
      "source": [
        "!ps"
      ],
      "execution_count": 70,
      "outputs": [
        {
          "output_type": "stream",
          "text": [
            "    PID TTY          TIME CMD\n",
            "      1 ?        00:00:00 run.sh\n",
            "      8 ?        00:00:07 node\n",
            "     18 ?        00:00:15 jupyter-noteboo\n",
            "    110 ?        00:00:00 tail\n",
            "    119 ?        00:02:14 python3\n",
            "   2730 ?        00:00:00 bash\n",
            "   2732 ?        00:00:00 tensorflow_mode\n",
            "   2895 ?        00:00:00 ps\n"
          ],
          "name": "stdout"
        }
      ]
    },
    {
      "cell_type": "code",
      "metadata": {
        "id": "FdVhMXA1OMXs",
        "colab_type": "code",
        "colab": {}
      },
      "source": [
        ""
      ],
      "execution_count": 0,
      "outputs": []
    }
  ]
}