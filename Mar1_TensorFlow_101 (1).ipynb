{
 "cells": [
  {
   "cell_type": "code",
   "execution_count": 1,
   "metadata": {
    "colab": {},
    "colab_type": "code",
    "id": "UuIE7kjJVbqh"
   },
   "outputs": [],
   "source": [
    "#Python Version - 3.x\n",
    "#TensorFlow - 2.x"
   ]
  },
  {
   "cell_type": "code",
   "execution_count": 1,
   "metadata": {
    "colab": {
     "base_uri": "https://localhost:8080/",
     "height": 35
    },
    "colab_type": "code",
    "id": "J-AXTrWyZwM0",
    "outputId": "1670c658-e8b7-405b-8a54-5f26c0e522ec"
   },
   "outputs": [
    {
     "data": {
      "text/plain": [
       "'3.6.9 (default, Nov  7 2019, 10:44:02) \\n[GCC 8.3.0]'"
      ]
     },
     "execution_count": 1,
     "metadata": {},
     "output_type": "execute_result"
    }
   ],
   "source": [
    "import sys;sys.version"
   ]
  },
  {
   "cell_type": "code",
   "execution_count": 0,
   "metadata": {
    "colab": {},
    "colab_type": "code",
    "id": "cYGVsLH-Z6ai"
   },
   "outputs": [],
   "source": [
    "# How to check RAM"
   ]
  },
  {
   "cell_type": "code",
   "execution_count": 2,
   "metadata": {
    "colab": {
     "base_uri": "https://localhost:8080/",
     "height": 69
    },
    "colab_type": "code",
    "id": "8aneSaokZ9KF",
    "outputId": "bd074c5d-2cdb-46ef-a8cb-6f5268f6e330"
   },
   "outputs": [
    {
     "name": "stdout",
     "output_type": "stream",
     "text": [
      "              total        used        free      shared  buff/cache   available\r\n",
      "Mem:           8030        6155        1650          17         223        1744\r\n",
      "Swap:         24576        1068       23507\r\n"
     ]
    }
   ],
   "source": [
    "!free -m"
   ]
  },
  {
   "cell_type": "code",
   "execution_count": 3,
   "metadata": {
    "colab": {
     "base_uri": "https://localhost:8080/",
     "height": 312
    },
    "colab_type": "code",
    "id": "1H4BmHp8Z-Qw",
    "outputId": "2b944842-6ce0-42d7-f146-7ba0d3be6923"
   },
   "outputs": [
    {
     "name": "stdout",
     "output_type": "stream",
     "text": [
      "/bin/sh: 1: nvidia-smi: not found\r\n"
     ]
    }
   ],
   "source": [
    "! nvidia-smi"
   ]
  },
  {
   "cell_type": "code",
   "execution_count": 4,
   "metadata": {
    "colab": {
     "base_uri": "https://localhost:8080/",
     "height": 35
    },
    "colab_type": "code",
    "id": "hp5TYl7GaIfD",
    "outputId": "4ea978d0-2934-449a-ec87-c46db9c34606"
   },
   "outputs": [],
   "source": [
    "! df -h | grep sda1"
   ]
  },
  {
   "cell_type": "code",
   "execution_count": 0,
   "metadata": {
    "colab": {},
    "colab_type": "code",
    "id": "uMrfe9YHaSU-"
   },
   "outputs": [],
   "source": [
    "# If you want to install tensorflow - pip install tensorflow==2.0.0   #us e this line if on local Jupyter system"
   ]
  },
  {
   "cell_type": "code",
   "execution_count": 6,
   "metadata": {
    "colab": {
     "base_uri": "https://localhost:8080/",
     "height": 104
    },
    "colab_type": "code",
    "id": "fVnkT4o6alBl",
    "outputId": "6d7e09d4-853e-4d1c-84b4-f6b0e278e8cf"
   },
   "outputs": [
    {
     "name": "stderr",
     "output_type": "stream",
     "text": [
      "UsageError: Line magic function `%tensorflow_version` not found.\n"
     ]
    }
   ],
   "source": [
    "%tensorflow_version 2.0.0     #use this line if on COlab"
   ]
  },
  {
   "cell_type": "code",
   "execution_count": null,
   "metadata": {},
   "outputs": [],
   "source": []
  },
  {
   "cell_type": "code",
   "execution_count": 14,
   "metadata": {},
   "outputs": [
    {
     "name": "stdout",
     "output_type": "stream",
     "text": [
      "Defaulting to user installation because normal site-packages is not writeable\n",
      "Collecting tensorflow-gpu==2.0\n",
      "  Downloading tensorflow_gpu-2.0.0-cp36-cp36m-manylinux2010_x86_64.whl (380.8 MB)\n",
      "\u001b[K     |████████████████████████████████| 380.8 MB 28 kB/s s eta 0:00:01  |▍                               | 4.6 MB 4.2 MB/s eta 0:01:31     |█▋                              | 19.1 MB 9.3 MB/s eta 0:00:39     |███▋                            | 43.5 MB 9.5 MB/s eta 0:00:36     |████                            | 48.7 MB 8.1 MB/s eta 0:00:42     |████▉                           | 57.7 MB 17.8 MB/s eta 0:00:19     |█████▎                          | 62.2 MB 17.8 MB/s eta 0:00:18     |█████▍                          | 63.8 MB 17.8 MB/s eta 0:00:18     |█████▋                          | 67.4 MB 17.8 MB/s eta 0:00:18     |██████▊                         | 80.4 MB 11.8 MB/s eta 0:00:26     |████████                        | 94.7 MB 22.5 MB/s eta 0:00:13                 | 95.4 MB 22.5 MB/s eta 0:00:13     |█████████▍                      | 111.1 MB 9.1 MB/s eta 0:00:30     |█████████▋                      | 114.0 MB 9.1 MB/s eta 0:00:30     |█████████▊                      | 115.2 MB 9.1 MB/s eta 0:00:30     |████████████▉                   | 152.4 MB 10.7 MB/s eta 0:00:22     |█████████████▌                  | 161.1 MB 17.2 MB/s eta 0:00:13     |█████████████▋                  | 161.7 MB 17.2 MB/s eta 0:00:13     |██████████████▏                 | 168.5 MB 17.2 MB/s eta 0:00:13     |███████████████▉                | 188.9 MB 17.0 MB/s eta 0:00:12     |████████████████                | 190.4 MB 17.0 MB/s eta 0:00:12     |████████████████▏               | 192.4 MB 17.0 MB/s eta 0:00:12     |████████████████▎               | 193.8 MB 17.0 MB/s eta 0:00:12     |████████████████▋               | 198.1 MB 8.0 MB/s eta 0:00:23     |█████████████████▌              | 208.8 MB 14.7 MB/s eta 0:00:12     |█████████████████▋              | 209.3 MB 14.7 MB/s eta 0:00:12     |█████████████████▊              | 211.3 MB 14.7 MB/s eta 0:00:12     |█████████████████▉              | 212.3 MB 14.7 MB/s eta 0:00:12     |██████████████████              | 214.4 MB 14.7 MB/s eta 0:00:12��████████              | 214.9 MB 2.6 MB/s eta 0:01:03   |██████████████████▎             | 217.5 MB 2.6 MB/s eta 0:01:02     |███████████████████             | 224.8 MB 6.6 MB/s eta 0:00:24     |███████████████████             | 226.6 MB 6.6 MB/s eta 0:00:24     |█████████████████████▋          | 257.1 MB 15.0 MB/s eta 0:00:09     |███████████████████████▌        | 280.1 MB 8.4 MB/s eta 0:00:12��███▋        | 281.5 MB 8.4 MB/s eta 0:00:12     |████████████████████████▏       | 287.4 MB 19.5 MB/s eta 0:00:05██████████████████████▉       | 295.9 MB 19.5 MB/s eta 0:00:05     |█████████████████████████       | 298.5 MB 19.5 MB/s eta 0:00:05| 301.6 MB 23.0 MB/s eta 0:00:04     |█████████████████████████▍      | 302.3 MB 23.0 MB/s eta 0:00:04     |█████████████████████████▋      | 305.0 MB 23.0 MB/s eta 0:00:04     |██████████████████████████▍     | 313.7 MB 13.7 MB/s eta 0:00:05     |██████████████████████████▌     | 315.7 MB 13.7 MB/s eta 0:00:05     |██████████████████████████▌     | 315.8 MB 13.7 MB/s eta 0:00:05��██████████████████▉     | 319.2 MB 13.7 MB/s eta 0:00:05     |███████████████████████████▋    | 328.9 MB 21.1 MB/s eta 0:00:03     |████████████████████████████    | 332.7 MB 6.2 MB/s eta 0:00:08     |████████████████████████████    | 333.6 MB 6.2 MB/s eta 0:00:08     |████████████████████████████▎   | 336.3 MB 6.2 MB/s eta 0:00:08     |█████████████████████████████▉  | 354.5 MB 12.3 MB/s eta 0:00:03     |██████████████████████████████▏ | 359.1 MB 16.2 MB/s eta 0:00:02     |██████████████████████████████▏ | 359.4 MB 16.2 MB/s eta 0:00:02     |██████████████████████████████▍ | 362.1 MB 3.2 MB/s eta 0:00:06     |███████████████████████████████▍| 373.1 MB 11.3 MB/s eta 0:00:01\n",
      "\u001b[?25hRequirement already satisfied, skipping upgrade: termcolor>=1.1.0 in /home/kumarmai/.local/lib/python3.6/site-packages (from tensorflow-gpu==2.0) (1.1.0)\n",
      "Collecting tensorboard<2.1.0,>=2.0.0\n",
      "  Downloading tensorboard-2.0.2-py3-none-any.whl (3.8 MB)\n",
      "\u001b[K     |████████████████████████████████| 3.8 MB 477 kB/s eta 0:00:01\n",
      "\u001b[?25hProcessing /home/kumarmai/.cache/pip/wheels/19/a7/b9/0740c7a3a7d1d348f04823339274b90de25fbcd217b2ee1fbe/gast-0.2.2-py3-none-any.whl\n",
      "Requirement already satisfied, skipping upgrade: google-pasta>=0.1.6 in /home/kumarmai/.local/lib/python3.6/site-packages (from tensorflow-gpu==2.0) (0.2.0)\n",
      "Requirement already satisfied, skipping upgrade: keras-applications>=1.0.8 in /home/kumarmai/.local/lib/python3.6/site-packages (from tensorflow-gpu==2.0) (1.0.8)\n",
      "Collecting tensorflow-estimator<2.1.0,>=2.0.0\n",
      "  Downloading tensorflow_estimator-2.0.1-py2.py3-none-any.whl (449 kB)\n",
      "\u001b[K     |████████████████████████████████| 449 kB 17.0 MB/s eta 0:00:01\n",
      "\u001b[?25hRequirement already satisfied, skipping upgrade: numpy<2.0,>=1.16.0 in /home/kumarmai/.local/lib/python3.6/site-packages (from tensorflow-gpu==2.0) (1.18.3)\n",
      "Requirement already satisfied, skipping upgrade: astor>=0.6.0 in /home/kumarmai/.local/lib/python3.6/site-packages (from tensorflow-gpu==2.0) (0.8.1)\n",
      "Requirement already satisfied, skipping upgrade: opt-einsum>=2.3.2 in /home/kumarmai/.local/lib/python3.6/site-packages (from tensorflow-gpu==2.0) (3.2.1)\n",
      "Requirement already satisfied, skipping upgrade: grpcio>=1.8.6 in /home/kumarmai/.local/lib/python3.6/site-packages (from tensorflow-gpu==2.0) (1.28.1)\n",
      "Requirement already satisfied, skipping upgrade: wrapt>=1.11.1 in /home/kumarmai/.local/lib/python3.6/site-packages (from tensorflow-gpu==2.0) (1.12.1)\n",
      "Requirement already satisfied, skipping upgrade: six>=1.10.0 in /home/kumarmai/.local/lib/python3.6/site-packages (from tensorflow-gpu==2.0) (1.14.0)\n",
      "Requirement already satisfied, skipping upgrade: keras-preprocessing>=1.0.5 in /home/kumarmai/.local/lib/python3.6/site-packages (from tensorflow-gpu==2.0) (1.1.0)\n",
      "Requirement already satisfied, skipping upgrade: wheel>=0.26 in /home/kumarmai/.local/lib/python3.6/site-packages (from tensorflow-gpu==2.0) (0.34.2)\n",
      "Requirement already satisfied, skipping upgrade: protobuf>=3.6.1 in /home/kumarmai/.local/lib/python3.6/site-packages (from tensorflow-gpu==2.0) (3.11.3)\n",
      "Requirement already satisfied, skipping upgrade: absl-py>=0.7.0 in /home/kumarmai/.local/lib/python3.6/site-packages (from tensorflow-gpu==2.0) (0.9.0)\n",
      "Requirement already satisfied, skipping upgrade: requests<3,>=2.21.0 in /home/kumarmai/.local/lib/python3.6/site-packages (from tensorboard<2.1.0,>=2.0.0->tensorflow-gpu==2.0) (2.23.0)\n",
      "\u001b[31mERROR: Exception:\n",
      "Traceback (most recent call last):\n",
      "  File \"/home/kumarmai/.local/lib/python3.6/site-packages/pip/_internal/req/req_install.py\", line 430, in check_if_exists\n",
      "    self.satisfied_by = pkg_resources.get_distribution(str(no_marker))\n",
      "  File \"/home/kumarmai/.local/lib/python3.6/site-packages/pip/_vendor/pkg_resources/__init__.py\", line 481, in get_distribution\n",
      "    dist = get_provider(dist)\n",
      "  File \"/home/kumarmai/.local/lib/python3.6/site-packages/pip/_vendor/pkg_resources/__init__.py\", line 357, in get_provider\n",
      "    return working_set.find(moduleOrReq) or require(str(moduleOrReq))[0]\n",
      "  File \"/home/kumarmai/.local/lib/python3.6/site-packages/pip/_vendor/pkg_resources/__init__.py\", line 900, in require\n",
      "    needed = self.resolve(parse_requirements(requirements))\n",
      "  File \"/home/kumarmai/.local/lib/python3.6/site-packages/pip/_vendor/pkg_resources/__init__.py\", line 791, in resolve\n",
      "    raise VersionConflict(dist, req).with_context(dependent_req)\n",
      "pip._vendor.pkg_resources.ContextualVersionConflict: (oauthlib 2.0.6 (/usr/lib/python3/dist-packages), Requirement.parse('oauthlib>=3.0.0'), {'requests-oauthlib'})\n",
      "\n",
      "During handling of the above exception, another exception occurred:\n",
      "\n",
      "Traceback (most recent call last):\n",
      "  File \"/home/kumarmai/.local/lib/python3.6/site-packages/pip/_internal/cli/base_command.py\", line 188, in _main\n",
      "    status = self.run(options, args)\n",
      "  File \"/home/kumarmai/.local/lib/python3.6/site-packages/pip/_internal/cli/req_command.py\", line 185, in wrapper\n",
      "    return func(self, options, args)\n",
      "  File \"/home/kumarmai/.local/lib/python3.6/site-packages/pip/_internal/commands/install.py\", line 333, in run\n",
      "    reqs, check_supported_wheels=not options.target_dir\n",
      "  File \"/home/kumarmai/.local/lib/python3.6/site-packages/pip/_internal/resolution/legacy/resolver.py\", line 179, in resolve\n",
      "    discovered_reqs.extend(self._resolve_one(requirement_set, req))\n",
      "  File \"/home/kumarmai/.local/lib/python3.6/site-packages/pip/_internal/resolution/legacy/resolver.py\", line 362, in _resolve_one\n",
      "    abstract_dist = self._get_abstract_dist_for(req_to_install)\n",
      "  File \"/home/kumarmai/.local/lib/python3.6/site-packages/pip/_internal/resolution/legacy/resolver.py\", line 305, in _get_abstract_dist_for\n",
      "    skip_reason = self._check_skip_installed(req)\n",
      "  File \"/home/kumarmai/.local/lib/python3.6/site-packages/pip/_internal/resolution/legacy/resolver.py\", line 232, in _check_skip_installed\n",
      "    req_to_install.check_if_exists(self.use_user_site)\n",
      "  File \"/home/kumarmai/.local/lib/python3.6/site-packages/pip/_internal/req/req_install.py\", line 435, in check_if_exists\n",
      "    self.req.name\n",
      "  File \"/home/kumarmai/.local/lib/python3.6/site-packages/pip/_vendor/pkg_resources/__init__.py\", line 481, in get_distribution\n",
      "    dist = get_provider(dist)\n",
      "  File \"/home/kumarmai/.local/lib/python3.6/site-packages/pip/_vendor/pkg_resources/__init__.py\", line 357, in get_provider\n",
      "    return working_set.find(moduleOrReq) or require(str(moduleOrReq))[0]\n",
      "  File \"/home/kumarmai/.local/lib/python3.6/site-packages/pip/_vendor/pkg_resources/__init__.py\", line 900, in require\n",
      "    needed = self.resolve(parse_requirements(requirements))\n",
      "  File \"/home/kumarmai/.local/lib/python3.6/site-packages/pip/_vendor/pkg_resources/__init__.py\", line 791, in resolve\n",
      "    raise VersionConflict(dist, req).with_context(dependent_req)\n",
      "pip._vendor.pkg_resources.ContextualVersionConflict: (oauthlib 2.0.6 (/usr/lib/python3/dist-packages), Requirement.parse('oauthlib>=3.0.0'), {'requests-oauthlib'})\u001b[0m\n"
     ]
    }
   ],
   "source": [
    "!pip3 install --upgrade tensorflow-gpu==2.0"
   ]
  },
  {
   "cell_type": "code",
   "execution_count": 5,
   "metadata": {
    "colab": {},
    "colab_type": "code",
    "id": "6tqYcYagao7Q"
   },
   "outputs": [],
   "source": [
    "import tensorflow as tf"
   ]
  },
  {
   "cell_type": "code",
   "execution_count": 6,
   "metadata": {
    "colab": {
     "base_uri": "https://localhost:8080/",
     "height": 35
    },
    "colab_type": "code",
    "id": "vgwRMpJVcb8N",
    "outputId": "1da151ab-6020-4d8b-8e4a-066a6687e436"
   },
   "outputs": [
    {
     "data": {
      "text/plain": [
       "'2.0.0'"
      ]
     },
     "execution_count": 6,
     "metadata": {},
     "output_type": "execute_result"
    }
   ],
   "source": [
    "tf.__version__"
   ]
  },
  {
   "cell_type": "code",
   "execution_count": 7,
   "metadata": {
    "colab": {
     "base_uri": "https://localhost:8080/",
     "height": 35
    },
    "colab_type": "code",
    "id": "4_wOHpdockDa",
    "outputId": "f4db4c76-b845-4784-927b-2ea936dd7217"
   },
   "outputs": [
    {
     "data": {
      "text/plain": [
       "'2.2.4-tf'"
      ]
     },
     "execution_count": 7,
     "metadata": {},
     "output_type": "execute_result"
    }
   ],
   "source": [
    "tf.keras.__version__"
   ]
  },
  {
   "cell_type": "code",
   "execution_count": 8,
   "metadata": {
    "colab": {},
    "colab_type": "code",
    "id": "RlzVRwNvctz7"
   },
   "outputs": [],
   "source": [
    "import numpy as np\n",
    "\n",
    "import pandas as pd\n",
    "\n"
   ]
  },
  {
   "cell_type": "code",
   "execution_count": 21,
   "metadata": {},
   "outputs": [
    {
     "name": "stdout",
     "output_type": "stream",
     "text": [
      "Defaulting to user installation because normal site-packages is not writeable\n",
      "Collecting matplotlib\n",
      "  Downloading matplotlib-3.2.1-cp36-cp36m-manylinux1_x86_64.whl (12.4 MB)\n",
      "\u001b[K     |████████████████████████████████| 12.4 MB 791 kB/s eta 0:00:01    |████▍                           | 1.7 MB 4.8 MB/s eta 0:00:03     |██████████████████████████▊     | 10.3 MB 856 kB/s eta 0:00:03     |████████████████████████████▎   | 11.0 MB 856 kB/s eta 0:00:02\n",
      "\u001b[?25hRequirement already satisfied: python-dateutil>=2.1 in /home/kumarmai/.local/lib/python3.6/site-packages (from matplotlib) (2.8.1)\n",
      "Collecting cycler>=0.10\n",
      "  Downloading cycler-0.10.0-py2.py3-none-any.whl (6.5 kB)\n",
      "Collecting kiwisolver>=1.0.1\n",
      "  Downloading kiwisolver-1.2.0-cp36-cp36m-manylinux1_x86_64.whl (88 kB)\n",
      "\u001b[K     |████████████████████████████████| 88 kB 204 kB/s eta 0:00:011\n",
      "\u001b[?25hRequirement already satisfied: numpy>=1.11 in /home/kumarmai/.local/lib/python3.6/site-packages (from matplotlib) (1.18.3)\n",
      "Collecting pyparsing!=2.0.4,!=2.1.2,!=2.1.6,>=2.0.1\n",
      "  Downloading pyparsing-2.4.7-py2.py3-none-any.whl (67 kB)\n",
      "\u001b[K     |████████████████████████████████| 67 kB 218 kB/s  eta 0:00:01\n",
      "\u001b[?25hRequirement already satisfied: six>=1.5 in /home/kumarmai/.local/lib/python3.6/site-packages (from python-dateutil>=2.1->matplotlib) (1.14.0)\n",
      "Installing collected packages: cycler, kiwisolver, pyparsing, matplotlib\n",
      "Successfully installed cycler-0.10.0 kiwisolver-1.2.0 matplotlib-3.2.1 pyparsing-2.4.7\n"
     ]
    }
   ],
   "source": [
    "!pip3 install matplotlib"
   ]
  },
  {
   "cell_type": "code",
   "execution_count": null,
   "metadata": {},
   "outputs": [],
   "source": [
    "\n"
   ]
  },
  {
   "cell_type": "code",
   "execution_count": 9,
   "metadata": {},
   "outputs": [],
   "source": [
    "import matplotlib.pyplot as plt"
   ]
  },
  {
   "cell_type": "code",
   "execution_count": 10,
   "metadata": {
    "colab": {},
    "colab_type": "code",
    "id": "ll37EdlGeEYB"
   },
   "outputs": [],
   "source": [
    "from tensorflow.keras.datasets import fashion_mnist"
   ]
  },
  {
   "cell_type": "code",
   "execution_count": 11,
   "metadata": {
    "colab": {
     "base_uri": "https://localhost:8080/",
     "height": 156
    },
    "colab_type": "code",
    "id": "JwZRUzCxez9w",
    "outputId": "a8aa486d-90c1-41e2-daf5-f1f39f47eeb2"
   },
   "outputs": [
    {
     "name": "stdout",
     "output_type": "stream",
     "text": [
      "Downloading data from https://storage.googleapis.com/tensorflow/tf-keras-datasets/train-labels-idx1-ubyte.gz\n",
      "32768/29515 [=================================] - 0s 0us/step\n",
      "Downloading data from https://storage.googleapis.com/tensorflow/tf-keras-datasets/train-images-idx3-ubyte.gz\n",
      "26427392/26421880 [==============================] - 2s 0us/step\n",
      "Downloading data from https://storage.googleapis.com/tensorflow/tf-keras-datasets/t10k-labels-idx1-ubyte.gz\n",
      "8192/5148 [===============================================] - 0s 0us/step\n",
      "Downloading data from https://storage.googleapis.com/tensorflow/tf-keras-datasets/t10k-images-idx3-ubyte.gz\n",
      "4423680/4422102 [==============================] - 0s 0us/step\n"
     ]
    }
   ],
   "source": [
    "#Input to the model is images and output is label \n",
    "# Dataset is divided in 2 parts - test & train \n",
    "(x_train, y_train),(x_test, y_test) = fashion_mnist.load_data()"
   ]
  },
  {
   "cell_type": "code",
   "execution_count": 12,
   "metadata": {
    "colab": {
     "base_uri": "https://localhost:8080/",
     "height": 35
    },
    "colab_type": "code",
    "id": "ey-7zmqMixZx",
    "outputId": "9ca112a4-c5c4-4e1d-be13-925b99f49826"
   },
   "outputs": [
    {
     "data": {
      "text/plain": [
       "(numpy.ndarray, numpy.ndarray, numpy.ndarray, numpy.ndarray)"
      ]
     },
     "execution_count": 12,
     "metadata": {},
     "output_type": "execute_result"
    }
   ],
   "source": [
    "type(x_train), type(y_train), type(x_test), type(y_test)"
   ]
  },
  {
   "cell_type": "code",
   "execution_count": 13,
   "metadata": {
    "colab": {
     "base_uri": "https://localhost:8080/",
     "height": 35
    },
    "colab_type": "code",
    "id": "HMCWvJp9jCh9",
    "outputId": "c96bf401-7fb5-45da-b58b-2ea3933180b1"
   },
   "outputs": [
    {
     "data": {
      "text/plain": [
       "((60000, 28, 28), (60000,))"
      ]
     },
     "execution_count": 13,
     "metadata": {},
     "output_type": "execute_result"
    }
   ],
   "source": [
    "x_train.shape, y_train.shape"
   ]
  },
  {
   "cell_type": "code",
   "execution_count": 0,
   "metadata": {
    "colab": {},
    "colab_type": "code",
    "id": "-1c1jj-QjUKM"
   },
   "outputs": [],
   "source": [
    "#Channels are R G B A"
   ]
  },
  {
   "cell_type": "code",
   "execution_count": 0,
   "metadata": {
    "colab": {},
    "colab_type": "code",
    "id": "7B3ascX5j4mc"
   },
   "outputs": [],
   "source": [
    "#Grayscale has only 1 channel"
   ]
  },
  {
   "cell_type": "code",
   "execution_count": 14,
   "metadata": {
    "colab": {
     "base_uri": "https://localhost:8080/",
     "height": 35
    },
    "colab_type": "code",
    "id": "-v_Z8h5mkBOc",
    "outputId": "f309c2ee-1dd3-43a9-d0cc-15951865c54e"
   },
   "outputs": [
    {
     "data": {
      "text/plain": [
       "((10000, 28, 28), (10000,))"
      ]
     },
     "execution_count": 14,
     "metadata": {},
     "output_type": "execute_result"
    }
   ],
   "source": [
    "x_test.shape, y_test.shape"
   ]
  },
  {
   "cell_type": "code",
   "execution_count": 15,
   "metadata": {
    "colab": {
     "base_uri": "https://localhost:8080/",
     "height": 283
    },
    "colab_type": "code",
    "id": "1ip1E_pokSRc",
    "outputId": "ce885a9a-2376-4eb7-fd36-68e207a1e955"
   },
   "outputs": [
    {
     "data": {
      "text/plain": [
       "<matplotlib.image.AxesImage at 0x7f9e31913eb8>"
      ]
     },
     "execution_count": 15,
     "metadata": {},
     "output_type": "execute_result"
    },
    {
     "data": {
      "image/png": "[encoded data removed]",
      "text/plain": [
       "<Figure size 432x288 with 1 Axes>"
      ]
     },
     "metadata": {
      "needs_background": "light"
     },
     "output_type": "display_data"
    }
   ],
   "source": [
    "plt.imshow(x_train[3],cmap=\"gray\")"
   ]
  },
  {
   "cell_type": "code",
   "execution_count": 16,
   "metadata": {
    "colab": {
     "base_uri": "https://localhost:8080/",
     "height": 35
    },
    "colab_type": "code",
    "id": "UnD9kxuIkvcc",
    "outputId": "7bf9bf18-f54b-4075-be6d-75bda020feb9"
   },
   "outputs": [
    {
     "name": "stdout",
     "output_type": "stream",
     "text": [
      "3\n"
     ]
    }
   ],
   "source": [
    "\n",
    "print( y_train[3])\n"
   ]
  },
  {
   "cell_type": "markdown",
   "metadata": {
    "colab_type": "text",
    "id": "UETKwXOplvSS"
   },
   "source": [
    "\n",
    "```\n",
    "Label\tDescription\n",
    "0\tT-shirt/top\n",
    "1\tTrouser\n",
    "2\tPullover\n",
    "3\tDress\n",
    "4\tCoat\n",
    "5\tSandal\n",
    "6\tShirt\n",
    "7\tSneaker\n",
    "8\tBag\n",
    "9\tAnkle boot\n",
    "\n",
    "# This is formatted as code\n",
    "```\n",
    "\n"
   ]
  },
  {
   "cell_type": "code",
   "execution_count": 30,
   "metadata": {
    "colab": {
     "base_uri": "https://localhost:8080/",
     "height": 35
    },
    "colab_type": "code",
    "id": "5YlfX1zpk6gc",
    "outputId": "8dbc1fce-0ead-4491-948e-f020d0902f5f"
   },
   "outputs": [
    {
     "data": {
      "text/plain": [
       "(255, 0)"
      ]
     },
     "execution_count": 30,
     "metadata": {
      "tags": []
     },
     "output_type": "execute_result"
    }
   ],
   "source": [
    "x_train[3].max(),x_train[3].min()"
   ]
  },
  {
   "cell_type": "code",
   "execution_count": 31,
   "metadata": {
    "colab": {
     "base_uri": "https://localhost:8080/",
     "height": 35
    },
    "colab_type": "code",
    "id": "OZfE-74PmVce",
    "outputId": "e2344cfa-ae2c-4409-be35-4d561d7c4e47"
   },
   "outputs": [
    {
     "data": {
      "text/plain": [
       "(28, 28)"
      ]
     },
     "execution_count": 31,
     "metadata": {
      "tags": []
     },
     "output_type": "execute_result"
    }
   ],
   "source": [
    "x_train[3].shape"
   ]
  },
  {
   "cell_type": "code",
   "execution_count": 34,
   "metadata": {
    "colab": {
     "base_uri": "https://localhost:8080/",
     "height": 52
    },
    "colab_type": "code",
    "id": "WRAQntC0mp69",
    "outputId": "33b45e3d-1c52-404b-e232-3b252ef0536c"
   },
   "outputs": [
    {
     "data": {
      "text/plain": [
       "(array([0, 1, 2, 3, 4, 5, 6, 7, 8, 9], dtype=uint8),\n",
       " array([6000, 6000, 6000, 6000, 6000, 6000, 6000, 6000, 6000, 6000]))"
      ]
     },
     "execution_count": 34,
     "metadata": {
      "tags": []
     },
     "output_type": "execute_result"
    }
   ],
   "source": [
    "np.unique(y_train, return_counts=True)"
   ]
  },
  {
   "cell_type": "code",
   "execution_count": 0,
   "metadata": {
    "colab": {},
    "colab_type": "code",
    "id": "oUiS964vnRAt"
   },
   "outputs": [],
   "source": [
    "#normalize dataset\n",
    "\n",
    "x_train = x_train / 255"
   ]
  },
  {
   "cell_type": "code",
   "execution_count": 0,
   "metadata": {
    "colab": {},
    "colab_type": "code",
    "id": "0aLdLntvn-rt"
   },
   "outputs": [],
   "source": [
    "# [5, 10, 15]  - [0.33, 0.66, 1]  - MinMaxScaler"
   ]
  },
  {
   "cell_type": "code",
   "execution_count": 39,
   "metadata": {
    "colab": {
     "base_uri": "https://localhost:8080/",
     "height": 283
    },
    "colab_type": "code",
    "id": "K034hUneo7rN",
    "outputId": "db93d9c5-851c-44f2-8554-14293894e713"
   },
   "outputs": [
    {
     "data": {
      "text/plain": [
       "<matplotlib.image.AxesImage at 0x7f89d23bf400>"
      ]
     },
     "execution_count": 39,
     "metadata": {
      "tags": []
     },
     "output_type": "execute_result"
    },
    {
     "data": {
      "image/png": "[encoded data removed]",
      "text/plain": [
       "<Figure size 432x288 with 1 Axes>"
      ]
     },
     "metadata": {
      "tags": []
     },
     "output_type": "display_data"
    }
   ],
   "source": [
    "plt.imshow(x_train[3],cmap=\"gray\")"
   ]
  },
  {
   "cell_type": "code",
   "execution_count": 40,
   "metadata": {
    "colab": {
     "base_uri": "https://localhost:8080/",
     "height": 35
    },
    "colab_type": "code",
    "id": "rAuRvsN1pPsO",
    "outputId": "3f49b1b5-f79a-4d83-851a-f6ee9d853d7c"
   },
   "outputs": [
    {
     "data": {
      "text/plain": [
       "(1.0, 0.0)"
      ]
     },
     "execution_count": 40,
     "metadata": {
      "tags": []
     },
     "output_type": "execute_result"
    }
   ],
   "source": [
    "x_train[3].max(),x_train[3].min()"
   ]
  },
  {
   "cell_type": "code",
   "execution_count": 0,
   "metadata": {
    "colab": {},
    "colab_type": "code",
    "id": "ypzZlbe1pY9N"
   },
   "outputs": [],
   "source": [
    "# [I, II, III]\n",
    "# We do onehot encoding for categorical values\n",
    "# I   1     [1,0,0]\n",
    "# II  2     [0,1,0]\n",
    "# III 3     [0,0,1]"
   ]
  },
  {
   "cell_type": "code",
   "execution_count": 0,
   "metadata": {
    "colab": {},
    "colab_type": "code",
    "id": "DnAmWDIxqSx7"
   },
   "outputs": [],
   "source": [
    "# Cat       1     [1, 0, 0, 0]\n",
    "# Dog       2     [0, 1, 0, 0]\n",
    "# Elephant  3     [0, 0, 1, 0]\n",
    "# Horse     4     [0, 0, 0, 1]"
   ]
  },
  {
   "cell_type": "code",
   "execution_count": 0,
   "metadata": {
    "colab": {},
    "colab_type": "code",
    "id": "2DnAS1oIsYn1"
   },
   "outputs": [],
   "source": [
    "from tensorflow.keras.utils import to_categorical"
   ]
  },
  {
   "cell_type": "code",
   "execution_count": 45,
   "metadata": {
    "colab": {
     "base_uri": "https://localhost:8080/",
     "height": 35
    },
    "colab_type": "code",
    "id": "Gx8QIdETslMO",
    "outputId": "efaa4678-180e-42d8-9c7c-bd490b16a702"
   },
   "outputs": [
    {
     "data": {
      "text/plain": [
       "array([9, 0, 0, ..., 3, 0, 5], dtype=uint8)"
      ]
     },
     "execution_count": 45,
     "metadata": {
      "tags": []
     },
     "output_type": "execute_result"
    }
   ],
   "source": [
    "y_train"
   ]
  },
  {
   "cell_type": "code",
   "execution_count": 46,
   "metadata": {
    "colab": {
     "base_uri": "https://localhost:8080/",
     "height": 139
    },
    "colab_type": "code",
    "id": "Y9bBFQA2soSQ",
    "outputId": "89fdabfb-7c35-46ca-fa98-f60020f72037"
   },
   "outputs": [
    {
     "data": {
      "text/plain": [
       "array([[0., 0., 0., ..., 0., 0., 1.],\n",
       "       [1., 0., 0., ..., 0., 0., 0.],\n",
       "       [1., 0., 0., ..., 0., 0., 0.],\n",
       "       ...,\n",
       "       [0., 0., 0., ..., 0., 0., 0.],\n",
       "       [1., 0., 0., ..., 0., 0., 0.],\n",
       "       [0., 0., 0., ..., 0., 0., 0.]], dtype=float32)"
      ]
     },
     "execution_count": 46,
     "metadata": {
      "tags": []
     },
     "output_type": "execute_result"
    }
   ],
   "source": [
    "to_categorical(y_train)"
   ]
  },
  {
   "cell_type": "code",
   "execution_count": 0,
   "metadata": {
    "colab": {},
    "colab_type": "code",
    "id": "IFcFfrpjw4FE"
   },
   "outputs": [],
   "source": []
  },
  {
   "cell_type": "code",
   "execution_count": 0,
   "metadata": {
    "colab": {},
    "colab_type": "code",
    "id": "G-0AZ5qXwsos"
   },
   "outputs": [],
   "source": [
    "y_train= to_categorical(y_train)"
   ]
  },
  {
   "cell_type": "code",
   "execution_count": 0,
   "metadata": {
    "colab": {},
    "colab_type": "code",
    "id": "y03c2KnUst_-"
   },
   "outputs": [],
   "source": [
    "# 1. Loaded MNIST Dataset\n",
    "# 2. normalized x train (MinMaxScaler similar to dividing by maxValue)\n",
    "# 3. normalized y train (onehot encoding)"
   ]
  },
  {
   "cell_type": "code",
   "execution_count": 0,
   "metadata": {
    "colab": {},
    "colab_type": "code",
    "id": "v8A9xP4YwREi"
   },
   "outputs": [],
   "source": [
    "x_test = x_test / 255"
   ]
  },
  {
   "cell_type": "code",
   "execution_count": 0,
   "metadata": {
    "colab": {},
    "colab_type": "code",
    "id": "SZ_s-Hr4w92E"
   },
   "outputs": [],
   "source": [
    "y_test = to_categorical(y_test)"
   ]
  },
  {
   "cell_type": "code",
   "execution_count": 0,
   "metadata": {
    "colab": {},
    "colab_type": "code",
    "id": "HRdMR309w_-D"
   },
   "outputs": [],
   "source": [
    "from tensorflow.keras.models import Sequential \n",
    "from tensorflow.keras.layers import Dense, Flatten\n",
    "from tensorflow.keras.activations import relu, softmax\n",
    "from tensorflow.keras.losses import categorical_crossentropy\n",
    "from tensorflow.keras.optimizers import SGD"
   ]
  },
  {
   "cell_type": "code",
   "execution_count": 0,
   "metadata": {
    "colab": {},
    "colab_type": "code",
    "id": "pl2wfuXcxY9g"
   },
   "outputs": [],
   "source": [
    "# SGD stochastic gradient desent"
   ]
  },
  {
   "cell_type": "code",
   "execution_count": 0,
   "metadata": {
    "colab": {},
    "colab_type": "code",
    "id": "SyDyQd2y37Yn"
   },
   "outputs": [],
   "source": [
    "mod=Sequential()\n",
    "mod.add(Flatten(input_shape=(28,28)))\n",
    "mod.add(Dense(512,activation=relu))\n",
    "mod.add(Dense(10,activation=softmax))"
   ]
  },
  {
   "cell_type": "code",
   "execution_count": 56,
   "metadata": {
    "colab": {
     "base_uri": "https://localhost:8080/",
     "height": 260
    },
    "colab_type": "code",
    "id": "59wdv3BS6BlZ",
    "outputId": "6399106b-8d80-4e87-e900-e0414ade35fa"
   },
   "outputs": [
    {
     "name": "stdout",
     "output_type": "stream",
     "text": [
      "Model: \"sequential\"\n",
      "_________________________________________________________________\n",
      "Layer (type)                 Output Shape              Param #   \n",
      "=================================================================\n",
      "flatten (Flatten)            (None, 784)               0         \n",
      "_________________________________________________________________\n",
      "dense (Dense)                (None, 512)               401920    \n",
      "_________________________________________________________________\n",
      "dense_1 (Dense)              (None, 10)                5130      \n",
      "=================================================================\n",
      "Total params: 407,050\n",
      "Trainable params: 407,050\n",
      "Non-trainable params: 0\n",
      "_________________________________________________________________\n"
     ]
    }
   ],
   "source": [
    "mod.summary()"
   ]
  },
  {
   "cell_type": "code",
   "execution_count": 0,
   "metadata": {
    "colab": {},
    "colab_type": "code",
    "id": "Uy9a0pQ06JlR"
   },
   "outputs": [],
   "source": [
    "mod.compile(optimizer=SGD(),loss=categorical_crossentropy,metrics=[\"acc\"])"
   ]
  },
  {
   "cell_type": "code",
   "execution_count": 62,
   "metadata": {
    "colab": {
     "base_uri": "https://localhost:8080/",
     "height": 745
    },
    "colab_type": "code",
    "id": "sfrORcVL6ZIL",
    "outputId": "adf5ad5d-611b-446b-e563-a5cf3280df64"
   },
   "outputs": [
    {
     "name": "stdout",
     "output_type": "stream",
     "text": [
      "Train on 60000 samples\n",
      "Epoch 1/20\n",
      "60000/60000 [==============================] - 0s 6us/sample - loss: 0.4971 - acc: 0.8352\n",
      "Epoch 2/20\n",
      "60000/60000 [==============================] - 0s 6us/sample - loss: 0.4947 - acc: 0.8358\n",
      "Epoch 3/20\n",
      "60000/60000 [==============================] - 0s 6us/sample - loss: 0.4925 - acc: 0.8359\n",
      "Epoch 4/20\n",
      "60000/60000 [==============================] - 0s 6us/sample - loss: 0.4903 - acc: 0.8364\n",
      "Epoch 5/20\n",
      "60000/60000 [==============================] - 0s 6us/sample - loss: 0.4882 - acc: 0.8377\n",
      "Epoch 6/20\n",
      "60000/60000 [==============================] - 0s 6us/sample - loss: 0.4862 - acc: 0.8377\n",
      "Epoch 7/20\n",
      "60000/60000 [==============================] - 0s 6us/sample - loss: 0.4841 - acc: 0.8382\n",
      "Epoch 8/20\n",
      "60000/60000 [==============================] - 0s 6us/sample - loss: 0.4825 - acc: 0.8389\n",
      "Epoch 9/20\n",
      "60000/60000 [==============================] - 0s 6us/sample - loss: 0.4805 - acc: 0.8396\n",
      "Epoch 10/20\n",
      "60000/60000 [==============================] - 0s 6us/sample - loss: 0.4789 - acc: 0.8398\n",
      "Epoch 11/20\n",
      "60000/60000 [==============================] - 0s 6us/sample - loss: 0.4770 - acc: 0.8403\n",
      "Epoch 12/20\n",
      "60000/60000 [==============================] - 0s 6us/sample - loss: 0.4754 - acc: 0.8407\n",
      "Epoch 13/20\n",
      "60000/60000 [==============================] - 0s 6us/sample - loss: 0.4737 - acc: 0.8411\n",
      "Epoch 14/20\n",
      "60000/60000 [==============================] - 0s 6us/sample - loss: 0.4722 - acc: 0.8417\n",
      "Epoch 15/20\n",
      "60000/60000 [==============================] - 0s 6us/sample - loss: 0.4706 - acc: 0.8422\n",
      "Epoch 16/20\n",
      "60000/60000 [==============================] - 0s 6us/sample - loss: 0.4690 - acc: 0.8429\n",
      "Epoch 17/20\n",
      "60000/60000 [==============================] - 0s 6us/sample - loss: 0.4675 - acc: 0.8431\n",
      "Epoch 18/20\n",
      "60000/60000 [==============================] - 0s 6us/sample - loss: 0.4660 - acc: 0.8434\n",
      "Epoch 19/20\n",
      "60000/60000 [==============================] - 0s 6us/sample - loss: 0.4645 - acc: 0.8435\n",
      "Epoch 20/20\n",
      "60000/60000 [==============================] - 0s 6us/sample - loss: 0.4632 - acc: 0.8443\n"
     ]
    },
    {
     "data": {
      "text/plain": [
       "<tensorflow.python.keras.callbacks.History at 0x7f89c00b8550>"
      ]
     },
     "execution_count": 62,
     "metadata": {
      "tags": []
     },
     "output_type": "execute_result"
    }
   ],
   "source": [
    "#Run the model\n",
    "mod.fit(x_train,y_train, 1024, 20)"
   ]
  },
  {
   "cell_type": "code",
   "execution_count": 0,
   "metadata": {
    "colab": {},
    "colab_type": "code",
    "id": "KZ8hhWiX6_tM"
   },
   "outputs": [],
   "source": []
  }
 ],
 "metadata": {
  "accelerator": "GPU",
  "colab": {
   "name": "Mar1-TensorFlow-101.ipynb",
   "provenance": []
  },
  "kernelspec": {
   "display_name": "Python 3",
   "language": "python",
   "name": "python3"
  },
  "language_info": {
   "codemirror_mode": {
    "name": "ipython",
    "version": 3
   },
   "file_extension": ".py",
   "mimetype": "text/x-python",
   "name": "python",
   "nbconvert_exporter": "python",
   "pygments_lexer": "ipython3",
   "version": "3.6.9"
  }
 },
 "nbformat": 4,
 "nbformat_minor": 1
}
