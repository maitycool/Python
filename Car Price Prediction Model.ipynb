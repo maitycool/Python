{
 "cells": [
  {
   "cell_type": "code",
   "execution_count": 1,
   "metadata": {
    "ExecuteTime": {
     "end_time": "2019-11-24T13:55:20.148917Z",
     "start_time": "2019-11-24T13:55:17.835901Z"
    }
   },
   "outputs": [],
   "source": [
    "# Import import libraries\n",
    "import numpy as np\n",
    "import pandas as pd\n",
    "import matplotlib.pyplot as plt\n",
    "import seaborn as sns\n",
    "sns.set_style(\"darkgrid\")"
   ]
  },
  {
   "cell_type": "code",
   "execution_count": 2,
   "metadata": {
    "ExecuteTime": {
     "end_time": "2019-11-24T13:55:22.483220Z",
     "start_time": "2019-11-24T13:55:22.466372Z"
    }
   },
   "outputs": [],
   "source": [
    "# Import dataset\n",
    "car = pd.read_csv(\"CarPrice_Dataset.csv\", encoding ='UTF-8')"
   ]
  },
  {
   "cell_type": "code",
   "execution_count": 3,
   "metadata": {
    "ExecuteTime": {
     "end_time": "2019-11-24T13:55:23.447912Z",
     "start_time": "2019-11-24T13:55:23.422702Z"
    }
   },
   "outputs": [
    {
     "name": "stdout",
     "output_type": "stream",
     "text": [
      "   car_id  symboling                   carname fueltype aspiration doornumber  \\\n",
      "0       1          3        alfa-romero giulia      gas        std        two   \n",
      "1       2          3       alfa-romero stelvio      gas        std        two   \n",
      "2       3          1  alfa-romero Quadrifoglio      gas        std        two   \n",
      "3       4          2               audi 100 ls      gas        std       four   \n",
      "4       5          2                audi 100ls      gas        std       four   \n",
      "\n",
      "       carbody drivewheel enginelocation  wheelbase  ...  enginesize  \\\n",
      "0  convertible        rwd          front       88.6  ...         130   \n",
      "1  convertible        rwd          front       88.6  ...         130   \n",
      "2    hatchback        rwd          front       94.5  ...         152   \n",
      "3        sedan        fwd          front       99.8  ...         109   \n",
      "4        sedan        4wd          front       99.4  ...         136   \n",
      "\n",
      "   fuelsystem  boreratio  stroke compressionratio horsepower  peakrpm citympg  \\\n",
      "0        mpfi       3.47    2.68              9.0        111     5000      21   \n",
      "1        mpfi       3.47    2.68              9.0        111     5000      21   \n",
      "2        mpfi       2.68    3.47              9.0        154     5000      19   \n",
      "3        mpfi       3.19    3.40             10.0        102     5500      24   \n",
      "4        mpfi       3.19    3.40              8.0        115     5500      18   \n",
      "\n",
      "   highwaympg    price  \n",
      "0          27  13495.0  \n",
      "1          27  16500.0  \n",
      "2          26  16500.0  \n",
      "3          30  13950.0  \n",
      "4          22  17450.0  \n",
      "\n",
      "[5 rows x 26 columns] \n",
      "\n",
      "(205, 26)\n"
     ]
    }
   ],
   "source": [
    "# Converting all column headers to lowercase\n",
    "car.columns = car.columns.str.strip().str.lower().str.replace(' ', '_').str.replace('(', '').str.replace(')', '')\n",
    "print(car.head(),\"\\n\")\n",
    "print(car.shape)"
   ]
  },
  {
   "cell_type": "code",
   "execution_count": 4,
   "metadata": {
    "ExecuteTime": {
     "end_time": "2019-11-24T13:55:24.003574Z",
     "start_time": "2019-11-24T13:55:23.988001Z"
    }
   },
   "outputs": [
    {
     "data": {
      "text/plain": [
       "car_id              0\n",
       "symboling           0\n",
       "carname             0\n",
       "fueltype            0\n",
       "aspiration          0\n",
       "doornumber          0\n",
       "carbody             0\n",
       "drivewheel          0\n",
       "enginelocation      0\n",
       "wheelbase           0\n",
       "carlength           0\n",
       "carwidth            0\n",
       "carheight           0\n",
       "curbweight          0\n",
       "enginetype          0\n",
       "cylindernumber      0\n",
       "enginesize          0\n",
       "fuelsystem          0\n",
       "boreratio           0\n",
       "stroke              0\n",
       "compressionratio    0\n",
       "horsepower          0\n",
       "peakrpm             0\n",
       "citympg             0\n",
       "highwaympg          0\n",
       "price               0\n",
       "dtype: int64"
      ]
     },
     "execution_count": 4,
     "metadata": {},
     "output_type": "execute_result"
    }
   ],
   "source": [
    "# Check if any null value exists\n",
    "car.isnull().sum()"
   ]
  },
  {
   "cell_type": "code",
   "execution_count": 5,
   "metadata": {
    "ExecuteTime": {
     "end_time": "2019-11-24T13:55:24.872441Z",
     "start_time": "2019-11-24T13:55:24.844092Z"
    }
   },
   "outputs": [
    {
     "data": {
      "text/html": [
       "<div>\n",
       "<style scoped>\n",
       "    .dataframe tbody tr th:only-of-type {\n",
       "        vertical-align: middle;\n",
       "    }\n",
       "\n",
       "    .dataframe tbody tr th {\n",
       "        vertical-align: top;\n",
       "    }\n",
       "\n",
       "    .dataframe thead th {\n",
       "        text-align: right;\n",
       "    }\n",
       "</style>\n",
       "<table border=\"1\" class=\"dataframe\">\n",
       "  <thead>\n",
       "    <tr style=\"text-align: right;\">\n",
       "      <th></th>\n",
       "      <th>wheelbase</th>\n",
       "      <th>carlength</th>\n",
       "      <th>carwidth</th>\n",
       "      <th>carheight</th>\n",
       "      <th>curbweight</th>\n",
       "      <th>enginetype</th>\n",
       "      <th>cylindernumber</th>\n",
       "      <th>enginesize</th>\n",
       "    </tr>\n",
       "  </thead>\n",
       "  <tbody>\n",
       "    <tr>\n",
       "      <th>25</th>\n",
       "      <td>93.7</td>\n",
       "      <td>157.3</td>\n",
       "      <td>63.8</td>\n",
       "      <td>50.6</td>\n",
       "      <td>1989</td>\n",
       "      <td>ohc</td>\n",
       "      <td>four</td>\n",
       "      <td>90</td>\n",
       "    </tr>\n",
       "    <tr>\n",
       "      <th>181</th>\n",
       "      <td>104.5</td>\n",
       "      <td>187.8</td>\n",
       "      <td>66.5</td>\n",
       "      <td>54.1</td>\n",
       "      <td>3151</td>\n",
       "      <td>dohc</td>\n",
       "      <td>six</td>\n",
       "      <td>161</td>\n",
       "    </tr>\n",
       "    <tr>\n",
       "      <th>192</th>\n",
       "      <td>100.4</td>\n",
       "      <td>180.2</td>\n",
       "      <td>66.9</td>\n",
       "      <td>55.1</td>\n",
       "      <td>2579</td>\n",
       "      <td>ohc</td>\n",
       "      <td>four</td>\n",
       "      <td>97</td>\n",
       "    </tr>\n",
       "    <tr>\n",
       "      <th>92</th>\n",
       "      <td>94.5</td>\n",
       "      <td>165.3</td>\n",
       "      <td>63.8</td>\n",
       "      <td>54.5</td>\n",
       "      <td>1938</td>\n",
       "      <td>ohc</td>\n",
       "      <td>four</td>\n",
       "      <td>97</td>\n",
       "    </tr>\n",
       "    <tr>\n",
       "      <th>169</th>\n",
       "      <td>98.4</td>\n",
       "      <td>176.2</td>\n",
       "      <td>65.6</td>\n",
       "      <td>52.0</td>\n",
       "      <td>2551</td>\n",
       "      <td>ohc</td>\n",
       "      <td>four</td>\n",
       "      <td>146</td>\n",
       "    </tr>\n",
       "  </tbody>\n",
       "</table>\n",
       "</div>"
      ],
      "text/plain": [
       "     wheelbase  carlength  carwidth  carheight  curbweight enginetype  \\\n",
       "25        93.7      157.3      63.8       50.6        1989        ohc   \n",
       "181      104.5      187.8      66.5       54.1        3151       dohc   \n",
       "192      100.4      180.2      66.9       55.1        2579        ohc   \n",
       "92        94.5      165.3      63.8       54.5        1938        ohc   \n",
       "169       98.4      176.2      65.6       52.0        2551        ohc   \n",
       "\n",
       "    cylindernumber  enginesize  \n",
       "25            four          90  \n",
       "181            six         161  \n",
       "192           four          97  \n",
       "92            four          97  \n",
       "169           four         146  "
      ]
     },
     "execution_count": 5,
     "metadata": {},
     "output_type": "execute_result"
    }
   ],
   "source": [
    "# Selecting columns which are not visible in the above screen\n",
    "car.loc[:,'wheelbase':'enginesize'].sample(n=5)"
   ]
  },
  {
   "cell_type": "code",
   "execution_count": 6,
   "metadata": {
    "ExecuteTime": {
     "end_time": "2019-11-24T13:55:25.496101Z",
     "start_time": "2019-11-24T13:55:25.485686Z"
    }
   },
   "outputs": [],
   "source": [
    "# splitting car comany from carname and drop carname series \n",
    "car['carcompany']=car['carname'].str.split().str[0]\n",
    "car = car.drop('carname', axis = 1)"
   ]
  },
  {
   "cell_type": "code",
   "execution_count": 7,
   "metadata": {
    "ExecuteTime": {
     "end_time": "2019-11-24T13:55:26.109383Z",
     "start_time": "2019-11-24T13:55:26.074880Z"
    }
   },
   "outputs": [
    {
     "data": {
      "text/html": [
       "<div>\n",
       "<style scoped>\n",
       "    .dataframe tbody tr th:only-of-type {\n",
       "        vertical-align: middle;\n",
       "    }\n",
       "\n",
       "    .dataframe tbody tr th {\n",
       "        vertical-align: top;\n",
       "    }\n",
       "\n",
       "    .dataframe thead th {\n",
       "        text-align: right;\n",
       "    }\n",
       "</style>\n",
       "<table border=\"1\" class=\"dataframe\">\n",
       "  <thead>\n",
       "    <tr style=\"text-align: right;\">\n",
       "      <th></th>\n",
       "      <th>car_id</th>\n",
       "      <th>symboling</th>\n",
       "      <th>fueltype</th>\n",
       "      <th>aspiration</th>\n",
       "      <th>doornumber</th>\n",
       "      <th>carbody</th>\n",
       "      <th>drivewheel</th>\n",
       "      <th>enginelocation</th>\n",
       "      <th>wheelbase</th>\n",
       "      <th>carlength</th>\n",
       "      <th>...</th>\n",
       "      <th>fuelsystem</th>\n",
       "      <th>boreratio</th>\n",
       "      <th>stroke</th>\n",
       "      <th>compressionratio</th>\n",
       "      <th>horsepower</th>\n",
       "      <th>peakrpm</th>\n",
       "      <th>citympg</th>\n",
       "      <th>highwaympg</th>\n",
       "      <th>price</th>\n",
       "      <th>carcompany</th>\n",
       "    </tr>\n",
       "  </thead>\n",
       "  <tbody>\n",
       "    <tr>\n",
       "      <th>112</th>\n",
       "      <td>113</td>\n",
       "      <td>0</td>\n",
       "      <td>diesel</td>\n",
       "      <td>turbo</td>\n",
       "      <td>four</td>\n",
       "      <td>sedan</td>\n",
       "      <td>rwd</td>\n",
       "      <td>front</td>\n",
       "      <td>107.9</td>\n",
       "      <td>186.7</td>\n",
       "      <td>...</td>\n",
       "      <td>idi</td>\n",
       "      <td>3.70</td>\n",
       "      <td>3.52</td>\n",
       "      <td>21.00</td>\n",
       "      <td>95</td>\n",
       "      <td>4150</td>\n",
       "      <td>28</td>\n",
       "      <td>33</td>\n",
       "      <td>16900.0</td>\n",
       "      <td>peugeot</td>\n",
       "    </tr>\n",
       "    <tr>\n",
       "      <th>73</th>\n",
       "      <td>74</td>\n",
       "      <td>0</td>\n",
       "      <td>gas</td>\n",
       "      <td>std</td>\n",
       "      <td>four</td>\n",
       "      <td>sedan</td>\n",
       "      <td>rwd</td>\n",
       "      <td>front</td>\n",
       "      <td>120.9</td>\n",
       "      <td>208.1</td>\n",
       "      <td>...</td>\n",
       "      <td>mpfi</td>\n",
       "      <td>3.80</td>\n",
       "      <td>3.35</td>\n",
       "      <td>8.00</td>\n",
       "      <td>184</td>\n",
       "      <td>4500</td>\n",
       "      <td>14</td>\n",
       "      <td>16</td>\n",
       "      <td>40960.0</td>\n",
       "      <td>buick</td>\n",
       "    </tr>\n",
       "    <tr>\n",
       "      <th>191</th>\n",
       "      <td>192</td>\n",
       "      <td>0</td>\n",
       "      <td>gas</td>\n",
       "      <td>std</td>\n",
       "      <td>four</td>\n",
       "      <td>sedan</td>\n",
       "      <td>fwd</td>\n",
       "      <td>front</td>\n",
       "      <td>100.4</td>\n",
       "      <td>180.2</td>\n",
       "      <td>...</td>\n",
       "      <td>mpfi</td>\n",
       "      <td>3.19</td>\n",
       "      <td>3.40</td>\n",
       "      <td>8.50</td>\n",
       "      <td>110</td>\n",
       "      <td>5500</td>\n",
       "      <td>19</td>\n",
       "      <td>24</td>\n",
       "      <td>13295.0</td>\n",
       "      <td>volkswagen</td>\n",
       "    </tr>\n",
       "    <tr>\n",
       "      <th>21</th>\n",
       "      <td>22</td>\n",
       "      <td>1</td>\n",
       "      <td>gas</td>\n",
       "      <td>std</td>\n",
       "      <td>two</td>\n",
       "      <td>hatchback</td>\n",
       "      <td>fwd</td>\n",
       "      <td>front</td>\n",
       "      <td>93.7</td>\n",
       "      <td>157.3</td>\n",
       "      <td>...</td>\n",
       "      <td>2bbl</td>\n",
       "      <td>2.97</td>\n",
       "      <td>3.23</td>\n",
       "      <td>9.41</td>\n",
       "      <td>68</td>\n",
       "      <td>5500</td>\n",
       "      <td>37</td>\n",
       "      <td>41</td>\n",
       "      <td>5572.0</td>\n",
       "      <td>dodge</td>\n",
       "    </tr>\n",
       "    <tr>\n",
       "      <th>180</th>\n",
       "      <td>181</td>\n",
       "      <td>-1</td>\n",
       "      <td>gas</td>\n",
       "      <td>std</td>\n",
       "      <td>four</td>\n",
       "      <td>sedan</td>\n",
       "      <td>rwd</td>\n",
       "      <td>front</td>\n",
       "      <td>104.5</td>\n",
       "      <td>187.8</td>\n",
       "      <td>...</td>\n",
       "      <td>mpfi</td>\n",
       "      <td>3.27</td>\n",
       "      <td>3.35</td>\n",
       "      <td>9.20</td>\n",
       "      <td>156</td>\n",
       "      <td>5200</td>\n",
       "      <td>20</td>\n",
       "      <td>24</td>\n",
       "      <td>15690.0</td>\n",
       "      <td>toyota</td>\n",
       "    </tr>\n",
       "  </tbody>\n",
       "</table>\n",
       "<p>5 rows × 26 columns</p>\n",
       "</div>"
      ],
      "text/plain": [
       "     car_id  symboling fueltype aspiration doornumber    carbody drivewheel  \\\n",
       "112     113          0   diesel      turbo       four      sedan        rwd   \n",
       "73       74          0      gas        std       four      sedan        rwd   \n",
       "191     192          0      gas        std       four      sedan        fwd   \n",
       "21       22          1      gas        std        two  hatchback        fwd   \n",
       "180     181         -1      gas        std       four      sedan        rwd   \n",
       "\n",
       "    enginelocation  wheelbase  carlength  ...  fuelsystem  boreratio  stroke  \\\n",
       "112          front      107.9      186.7  ...         idi       3.70    3.52   \n",
       "73           front      120.9      208.1  ...        mpfi       3.80    3.35   \n",
       "191          front      100.4      180.2  ...        mpfi       3.19    3.40   \n",
       "21           front       93.7      157.3  ...        2bbl       2.97    3.23   \n",
       "180          front      104.5      187.8  ...        mpfi       3.27    3.35   \n",
       "\n",
       "    compressionratio horsepower  peakrpm citympg  highwaympg    price  \\\n",
       "112            21.00         95     4150      28          33  16900.0   \n",
       "73              8.00        184     4500      14          16  40960.0   \n",
       "191             8.50        110     5500      19          24  13295.0   \n",
       "21              9.41         68     5500      37          41   5572.0   \n",
       "180             9.20        156     5200      20          24  15690.0   \n",
       "\n",
       "     carcompany  \n",
       "112     peugeot  \n",
       "73        buick  \n",
       "191  volkswagen  \n",
       "21        dodge  \n",
       "180      toyota  \n",
       "\n",
       "[5 rows x 26 columns]"
      ]
     },
     "execution_count": 7,
     "metadata": {},
     "output_type": "execute_result"
    }
   ],
   "source": [
    "car.sample(n=5)"
   ]
  },
  {
   "cell_type": "code",
   "execution_count": 8,
   "metadata": {
    "ExecuteTime": {
     "end_time": "2019-11-24T13:55:26.633340Z",
     "start_time": "2019-11-24T13:55:26.625853Z"
    }
   },
   "outputs": [
    {
     "data": {
      "text/plain": [
       "array(['alfa-romero', 'audi', 'bmw', 'chevrolet', 'dodge', 'honda',\n",
       "       'isuzu', 'jaguar', 'maxda', 'mazda', 'buick', 'mercury',\n",
       "       'mitsubishi', 'Nissan', 'nissan', 'peugeot', 'plymouth', 'porsche',\n",
       "       'porcshce', 'renault', 'saab', 'subaru', 'toyota', 'toyouta',\n",
       "       'vokswagen', 'volkswagen', 'vw', 'volvo'], dtype=object)"
      ]
     },
     "execution_count": 8,
     "metadata": {},
     "output_type": "execute_result"
    }
   ],
   "source": [
    "# print unique car comany name suspecting incorrect company names\n",
    "car['carcompany'].unique()"
   ]
  },
  {
   "cell_type": "code",
   "execution_count": 9,
   "metadata": {
    "ExecuteTime": {
     "end_time": "2019-11-24T13:55:27.338924Z",
     "start_time": "2019-11-24T13:55:27.319828Z"
    }
   },
   "outputs": [],
   "source": [
    "# Fixing correct car company name\n",
    "car['carcompany'] = car['carcompany'].replace('maxda','mazda')\n",
    "car['carcompany'] = car['carcompany'].replace('Nissan','nissan')\n",
    "car['carcompany'] = car['carcompany'].replace('plymouth','peugeot')\n",
    "car['carcompany'] = car['carcompany'].replace('porcshce','porsche')\n",
    "car['carcompany'] = car['carcompany'].replace('toyouta','toyota')\n",
    "car['carcompany'] = car['carcompany'].replace('vokswagen','volkswagen')\n",
    "car['carcompany'] = car['carcompany'].replace('vw','volkswagen')"
   ]
  },
  {
   "cell_type": "code",
   "execution_count": 10,
   "metadata": {
    "ExecuteTime": {
     "end_time": "2019-11-24T13:55:27.822951Z",
     "start_time": "2019-11-24T13:55:27.807688Z"
    }
   },
   "outputs": [],
   "source": [
    "# Creating conditional column for symboling categorical variable based on data dictionary setting value 0 as moderate ,<0 'safe',>0 'risky'\n",
    "conditions = [\n",
    "    (car.symboling== -2),\n",
    "    (car.symboling.between(-1,1)),\n",
    "    (car.symboling.between(2,3))]\n",
    "choices = ['lowrisk', 'mediumrisk', 'highrisk']\n",
    "car['risk'] = np.select(conditions, choices)\n",
    "car.risk.unique()\n",
    "# drop column symboling\n",
    "car = car.drop('symboling', axis = 1)"
   ]
  },
  {
   "cell_type": "raw",
   "metadata": {},
   "source": [
    "# printing unique values for each categorical variable for dummy variables or one-hot encoding\n",
    "#'carcompany','fueltype','aspiration','doornumber','carbody',\n",
    "#'drivewheel','enginelocation','enginetype','cylindernumber','fuelsystem'\n",
    "#carcompany = pd.DataFrame({'carcompany':car.carcompany.unique()}).transpose()"
   ]
  },
  {
   "cell_type": "code",
   "execution_count": 11,
   "metadata": {
    "ExecuteTime": {
     "end_time": "2019-11-24T13:55:28.782619Z",
     "start_time": "2019-11-24T13:55:28.760031Z"
    }
   },
   "outputs": [
    {
     "name": "stdout",
     "output_type": "stream",
     "text": [
      "risk :- ['highrisk' 'mediumrisk' 'lowrisk'] \n",
      "\n",
      "carcompany :- ['alfa-romero' 'audi' 'bmw' 'chevrolet' 'dodge' 'honda' 'isuzu' 'jaguar'\n",
      " 'mazda' 'buick' 'mercury' 'mitsubishi' 'nissan' 'peugeot' 'porsche'\n",
      " 'renault' 'saab' 'subaru' 'toyota' 'volkswagen' 'volvo'] \n",
      "\n",
      "fueltype :- ['gas' 'diesel'] \n",
      "\n",
      "aspiration :- ['std' 'turbo'] \n",
      "\n",
      "doornumber :- ['two' 'four'] \n",
      "\n",
      "carbody :- ['convertible' 'hatchback' 'sedan' 'wagon' 'hardtop'] \n",
      "\n",
      "drivewheel :- ['rwd' 'fwd' '4wd'] \n",
      "\n",
      "enginelocation :- ['front' 'rear'] \n",
      "\n",
      "enginetype :- ['dohc' 'ohcv' 'ohc' 'l' 'rotor' 'ohcf' 'dohcv'] \n",
      "\n",
      "cylindernumber :- ['four' 'six' 'five' 'three' 'twelve' 'two' 'eight'] \n",
      "\n",
      "fuelsystem :- ['mpfi' '2bbl' 'mfi' '1bbl' 'spfi' '4bbl' 'idi' 'spdi'] \n",
      "\n"
     ]
    }
   ],
   "source": [
    "#Print unique values for all the attributes\n",
    "print('risk :-',car.risk.unique(),\"\\n\")\n",
    "print('carcompany :-',car.carcompany.unique(),\"\\n\")\n",
    "print('fueltype :-',car.fueltype.unique(),\"\\n\")\n",
    "print('aspiration :-',car.aspiration.unique(),\"\\n\")\n",
    "print('doornumber :-',car.doornumber.unique(),\"\\n\")\n",
    "print('carbody :-',car.carbody.unique(),\"\\n\")\n",
    "print('drivewheel :-',car.drivewheel.unique(),\"\\n\")\n",
    "print('enginelocation :-',car.enginelocation.unique(),\"\\n\")\n",
    "print('enginetype :-',car.enginetype.unique(),\"\\n\")\n",
    "print('cylindernumber :-',car.cylindernumber.unique(),\"\\n\")\n",
    "print('fuelsystem :-',car.fuelsystem.unique(),\"\\n\")"
   ]
  },
  {
   "cell_type": "code",
   "execution_count": 12,
   "metadata": {
    "ExecuteTime": {
     "end_time": "2019-11-24T13:55:29.284762Z",
     "start_time": "2019-11-24T13:55:29.275196Z"
    }
   },
   "outputs": [
    {
     "data": {
      "text/plain": [
       "12"
      ]
     },
     "execution_count": 12,
     "metadata": {},
     "output_type": "execute_result"
    }
   ],
   "source": [
    "# counting engine type \n",
    "car.enginetype[car.enginetype == 'l'].count()"
   ]
  },
  {
   "cell_type": "code",
   "execution_count": 13,
   "metadata": {
    "ExecuteTime": {
     "end_time": "2019-11-24T13:55:29.780159Z",
     "start_time": "2019-11-24T13:55:29.771695Z"
    }
   },
   "outputs": [],
   "source": [
    "# Rounding off car price to 2 decimal places\n",
    "car['price']= car['price'].round(2)"
   ]
  },
  {
   "cell_type": "markdown",
   "metadata": {},
   "source": [
    "# Univariate Analysis on Unordered Categorical Variables"
   ]
  },
  {
   "cell_type": "code",
   "execution_count": 14,
   "metadata": {
    "ExecuteTime": {
     "end_time": "2019-11-24T13:55:35.158320Z",
     "start_time": "2019-11-24T13:55:31.350269Z"
    }
   },
   "outputs": [
    {
     "data": {
      "image/png": "[encoded data removed]",
      "text/plain": [
       "<Figure size 1080x1080 with 8 Axes>"
      ]
     },
     "metadata": {
      "needs_background": "light"
     },
     "output_type": "display_data"
    }
   ],
   "source": [
    "# Univariate Analysis on Unordered Categorical variables\n",
    "\n",
    "#'carcompany','fueltype','aspiration','carbody','drivewheel','enginelocation','enginetype','fuelsystem'\n",
    "\n",
    "plt.figure(figsize=(15,15))\n",
    "\n",
    "plt.figure(1)\n",
    "\n",
    "# Distribution of cars price by carcompany\n",
    "plt.subplot(4,2,1)\n",
    "sns.boxplot(x='carcompany',y='price', data=car)\n",
    "plt.title('Distribution of Car Prices by company')\n",
    "plt.xlabel(\"Car Company\")\n",
    "plt.ylabel(\"Price of cars\")\n",
    "# To rotate axis text\n",
    "plt.xticks(rotation=90)\n",
    "\n",
    "# Distribution of cars price by fueltype\n",
    "plt.subplot(4,2,2)\n",
    "sns.barplot(x='fueltype',y='price', data=car)\n",
    "plt.title('Distribution of Car Prices by fueltype')\n",
    "plt.xlabel(\"Fuel Type\")\n",
    "plt.ylabel(\"Price of cars\")\n",
    "\n",
    "# Distribution of cars price by aspiration\n",
    "plt.subplot(4,2,3)\n",
    "sns.barplot(x='aspiration',y='price', data=car)\n",
    "plt.title('Distribution of Car Prices by aspiration')\n",
    "plt.xlabel(\"Aspiration\")\n",
    "plt.ylabel(\"Price of cars\")\n",
    "\n",
    "# Distribution of car price by Term Month\n",
    "plt.subplot(4,2,4)\n",
    "sns.barplot(x='carbody',y='price', data=car)\n",
    "plt.title('Distribution of Car Prices by Bodytype')\n",
    "plt.xlabel(\"Bodytype\")\n",
    "plt.ylabel(\"Price of cars\")\n",
    "\n",
    "# Distribution of cars price by drivewheel\n",
    "plt.subplot(4,2,5)\n",
    "sns.barplot(x='drivewheel',y='price', data=car)\n",
    "plt.title('Distribution of Car Prices by drivewheel')\n",
    "plt.xlabel(\"Drive Wheel\")\n",
    "plt.ylabel(\"Price of cars\")\n",
    "\n",
    "# Distribution of cars price by enginelocation\n",
    "plt.subplot(4,2,6)\n",
    "sns.barplot(x='enginelocation',y='price', data=car)\n",
    "plt.title('Distribution of Car Prices by enginelocation')\n",
    "plt.xlabel(\"Engine Location\")\n",
    "plt.ylabel(\"Price of cars\")\n",
    "\n",
    "# Distribution of cars price by type of Engine\n",
    "plt.subplot(4,2,7)\n",
    "sns.barplot(x='enginetype',y='price', data=car)\n",
    "plt.title('Distribution of Car Prices by type of Engine')\n",
    "plt.xlabel(\"enginetype\")\n",
    "plt.ylabel(\"Price of cars\")\n",
    "\n",
    "# Distribution of cars price by fuelsystem\n",
    "plt.subplot(4,2,8)\n",
    "sns.barplot(x='fuelsystem',y='price', data=car)\n",
    "plt.title('Distribution of Car Prices by Fuel System')\n",
    "plt.xlabel(\"Fuel System\")\n",
    "plt.ylabel(\"Price of cars\")\n",
    "\n",
    "# To adjust spacing between subplots\n",
    "plt.tight_layout()\n",
    "plt.show()"
   ]
  },
  {
   "cell_type": "markdown",
   "metadata": {},
   "source": [
    "Observation:\n",
    "\n",
    "1) From this dataset it is been observed that most number of high prices cars are offered by Jaguar, Buick, Porsche and BMW.\n",
    "\n",
    "2) Preffered fuel type is Diesel for high priced cars.\n",
    "\n",
    "3) Turbo aspiration type is offered with high prices cars.\n",
    "\n",
    "4) Sedan bodytype is top in offerings lineup followed by Hatchbck.\n",
    "\n",
    "5) Expensive cars are ofered with Rear wheel drive.\n",
    "\n",
    "6) Expensive cars have engines located at rear.\n",
    "\n",
    "7) expensive cars offeered are mounted with 'dohcv'or 'ohcv' engine type.\n",
    "\n",
    "8) when it comes to Fuel system 'mpfi' tops the list followed by 'idi' fuel system type .\n",
    "\n",
    "9) There is something fishy with 'mfi' and 'spfi' since not confidence raton lineis visible with there barchart.lets investigate them.\n",
    "\n",
    "Price of the car is definitely influenced by the brand name followed by fuel type, aspiration, drive wheel, engine location and type of engine being offered."
   ]
  },
  {
   "cell_type": "markdown",
   "metadata": {},
   "source": [
    "# Univariate analysis for Ordered Categorical variables"
   ]
  },
  {
   "cell_type": "code",
   "execution_count": 15,
   "metadata": {
    "ExecuteTime": {
     "end_time": "2019-11-24T13:55:36.315623Z",
     "start_time": "2019-11-24T13:55:35.246948Z"
    }
   },
   "outputs": [
    {
     "data": {
      "image/png": "[encoded data removed]",
      "text/plain": [
       "<Figure size 360x432 with 3 Axes>"
      ]
     },
     "metadata": {
      "needs_background": "light"
     },
     "output_type": "display_data"
    }
   ],
   "source": [
    "# Univariate Analysis on rest of the Unordered Categorical variables\n",
    "#'risk','cylindernumber','doornumber'\n",
    "plt.figure(figsize=(5,6))\n",
    "\n",
    "plt.figure(1)\n",
    "\n",
    "# Distribution of car prices by risk\n",
    "plt.subplot(3,1,1)\n",
    "sns.barplot(x='risk',y='price', data=car)\n",
    "plt.title('Distribution of car prices by risk')\n",
    "plt.xlabel(\"Symboling\")\n",
    "plt.ylabel(\"Price of Cars\")\n",
    "\n",
    "# Distribution of car prices by number of cyclinders\n",
    "plt.subplot(3,1,2)\n",
    "sns.barplot(x='cylindernumber',y='price', data=car)\n",
    "plt.title('Distribution of car prices by number of cyclinders')\n",
    "plt.xlabel(\"Number of Cylinders\")\n",
    "plt.ylabel(\"Price of Cars\")\n",
    "\n",
    "# Distribution of car prices by Home Ownership\n",
    "plt.subplot(3,1,3)\n",
    "sns.barplot(x='doornumber',y='price', data=car)\n",
    "plt.title('Distribution of car prices by number of doors')\n",
    "plt.xlabel(\"Number of Doors\")\n",
    "plt.ylabel(\"Price of Cars\")\n",
    "\n",
    "\n",
    "# To adjust spacing between subplots\n",
    "plt.tight_layout()\n",
    "plt.show()"
   ]
  },
  {
   "cell_type": "markdown",
   "metadata": {},
   "source": [
    "Observation:\n",
    "\n",
    "1) expensive cars are considered more secure from Symboling (insurance risk factor) point of view.\n",
    "\n",
    "2) Eight Cyliner cars falls into high price bracket.\n",
    "\n",
    "3) Number of doors does not contribute much towards pricing of car."
   ]
  },
  {
   "cell_type": "markdown",
   "metadata": {},
   "source": [
    "# Univariate Analysis for Quantitative variables"
   ]
  },
  {
   "cell_type": "code",
   "execution_count": 16,
   "metadata": {
    "ExecuteTime": {
     "end_time": "2019-11-24T13:55:36.600665Z",
     "start_time": "2019-11-24T13:55:36.516546Z"
    }
   },
   "outputs": [
    {
     "name": "stdout",
     "output_type": "stream",
     "text": [
      "        wheelbase   carlength    carwidth   carheight   curbweight  \\\n",
      "count  205.000000  205.000000  205.000000  205.000000   205.000000   \n",
      "mean    98.756585  174.049268   65.907805   53.724878  2555.565854   \n",
      "std      6.021776   12.337289    2.145204    2.443522   520.680204   \n",
      "min     86.600000  141.100000   60.300000   47.800000  1488.000000   \n",
      "25%     94.500000  166.300000   64.100000   52.000000  2145.000000   \n",
      "50%     97.000000  173.200000   65.500000   54.100000  2414.000000   \n",
      "75%    102.400000  183.100000   66.900000   55.500000  2935.000000   \n",
      "max    120.900000  208.100000   72.300000   59.800000  4066.000000   \n",
      "\n",
      "       enginesize   boreratio      stroke  compressionratio  horsepower  \\\n",
      "count  205.000000  205.000000  205.000000        205.000000  205.000000   \n",
      "mean   126.907317    3.329756    3.255415         10.142537  104.117073   \n",
      "std     41.642693    0.270844    0.313597          3.972040   39.544167   \n",
      "min     61.000000    2.540000    2.070000          7.000000   48.000000   \n",
      "25%     97.000000    3.150000    3.110000          8.600000   70.000000   \n",
      "50%    120.000000    3.310000    3.290000          9.000000   95.000000   \n",
      "75%    141.000000    3.580000    3.410000          9.400000  116.000000   \n",
      "max    326.000000    3.940000    4.170000         23.000000  288.000000   \n",
      "\n",
      "           peakrpm     citympg  highwaympg         price  \n",
      "count   205.000000  205.000000  205.000000    205.000000  \n",
      "mean   5125.121951   25.219512   30.751220  13276.710585  \n",
      "std     476.985643    6.542142    6.886443   7988.852340  \n",
      "min    4150.000000   13.000000   16.000000   5118.000000  \n",
      "25%    4800.000000   19.000000   25.000000   7788.000000  \n",
      "50%    5200.000000   24.000000   30.000000  10295.000000  \n",
      "75%    5500.000000   30.000000   34.000000  16503.000000  \n",
      "max    6600.000000   49.000000   54.000000  45400.000000  \n"
     ]
    }
   ],
   "source": [
    "# Let's print descriptive data summary for all numerical columns\n",
    "print(car[['wheelbase','carlength','carwidth','carheight','curbweight','enginesize','boreratio','stroke','compressionratio','horsepower','peakrpm','citympg','highwaympg','price']].describe())"
   ]
  },
  {
   "cell_type": "raw",
   "metadata": {},
   "source": [
    "Everything is looking good so far, I can't see any value as potential candidate for outlier treatment"
   ]
  },
  {
   "cell_type": "markdown",
   "metadata": {},
   "source": [
    "# Bivariate Analysis on Continuous Variables"
   ]
  },
  {
   "cell_type": "code",
   "execution_count": 17,
   "metadata": {
    "ExecuteTime": {
     "end_time": "2019-11-24T13:55:40.135178Z",
     "start_time": "2019-11-24T13:55:38.240599Z"
    },
    "scrolled": false
   },
   "outputs": [
    {
     "data": {
      "image/png": "[encoded data removed]",
      "text/plain": [
       "<Figure size 1440x1080 with 2 Axes>"
      ]
     },
     "metadata": {
      "needs_background": "light"
     },
     "output_type": "display_data"
    }
   ],
   "source": [
    "# Correlation Plot\n",
    "cor = car.corr()\n",
    "round(cor,3)\n",
    "plt.figure(figsize=(20,15))\n",
    "sns.heatmap(cor, cmap='YlGnBu', annot=True)\n",
    "plt.show()"
   ]
  },
  {
   "cell_type": "markdown",
   "metadata": {},
   "source": [
    "From above plot it is evident that :-\n",
    "\n",
    "1) There is not much negative correlaton in there.\n",
    "\n",
    "2) There is positive correlation between price, curbweight,enginesize,horsepower,carwidth,carlength,wheelbase and boreratio.\n",
    "\n",
    "3) There is negative corelation between price, highwaympg,peakrpm and citympg.\n",
    "\n",
    "4) carheight, stroke and compression ration has got negligible corelation.\n"
   ]
  },
  {
   "cell_type": "markdown",
   "metadata": {},
   "source": [
    "# Data Prepration"
   ]
  },
  {
   "cell_type": "code",
   "execution_count": 18,
   "metadata": {
    "ExecuteTime": {
     "end_time": "2019-11-24T13:55:40.344231Z",
     "start_time": "2019-11-24T13:55:40.240900Z"
    }
   },
   "outputs": [],
   "source": [
    "# Creating dummy variable for variable risk and dropping the first one\n",
    "riskfactor = pd.get_dummies(car['risk'],drop_first=True)\n",
    "#Adding the results to the master dataframe\n",
    "car = pd.concat([car,riskfactor],axis=1)\n",
    "# Dropping risk as we have created the dummies for it\n",
    "car.drop(['risk'],axis=1,inplace=True)\n",
    "\n",
    "# Repeating same steps for carcompany variable\n",
    "carcompany = pd.get_dummies(car['carcompany'],drop_first=True)\n",
    "car = pd.concat([car,carcompany],axis=1)\n",
    "car.drop(['carcompany'],axis=1,inplace=True)\n",
    "\n",
    "# Repeating same steps for fueltype variable\n",
    "fueltype = pd.get_dummies(car['fueltype'],drop_first=True)\n",
    "car = pd.concat([car,fueltype],axis=1)\n",
    "car.drop(['fueltype'],axis=1,inplace=True)\n",
    "\n",
    "# Repeating same steps for aspiration variable\n",
    "aspiration = pd.get_dummies(car['aspiration'],drop_first=True)\n",
    "car = pd.concat([car,aspiration],axis=1)\n",
    "car.drop(['aspiration'],axis=1,inplace=True)\n",
    "\n",
    "# Repeating same steps for doornumber variable\n",
    "doornumber = pd.get_dummies(car['doornumber'],prefix='door', prefix_sep='_',drop_first=True)\n",
    "car = pd.concat([car,doornumber],axis=1)\n",
    "car.drop(['doornumber'],axis=1,inplace=True)\n",
    "\n",
    "# Repeating same steps for carbody variable\n",
    "carbody = pd.get_dummies(car['carbody'],drop_first=True)\n",
    "car = pd.concat([car,carbody],axis=1)\n",
    "car.drop(['carbody'],axis=1,inplace=True)\n",
    "\n",
    "# Repeating same steps for drivewheel variable\n",
    "drivewheel = pd.get_dummies(car['drivewheel'],drop_first=True)\n",
    "car = pd.concat([car,drivewheel],axis=1)\n",
    "car.drop(['drivewheel'],axis=1,inplace=True)\n",
    "\n",
    "# Repeating same steps for enginelocation variable\n",
    "enginelocation = pd.get_dummies(car['enginelocation'],drop_first=True)\n",
    "car = pd.concat([car,enginelocation],axis=1)\n",
    "car.drop(['enginelocation'],axis=1,inplace=True)\n",
    "\n",
    "# Repeating same steps for enginetype variable\n",
    "enginetype = pd.get_dummies(car['enginetype'],drop_first=True)\n",
    "car = pd.concat([car,enginetype],axis=1)\n",
    "car.drop(['enginetype'],axis=1,inplace=True)\n",
    "\n",
    "# Repeating same steps for cylindernumber variable\n",
    "cylindernumber = pd.get_dummies(car['cylindernumber'],drop_first=True)\n",
    "car = pd.concat([car,cylindernumber],axis=1)\n",
    "car.drop(['cylindernumber'],axis=1,inplace=True)\n",
    "\n",
    "# Repeating same steps for fuelsystem variable\n",
    "fuelsystem = pd.get_dummies(car['fuelsystem'],drop_first=True)\n",
    "car = pd.concat([car,fuelsystem],axis=1)\n",
    "car.drop(['fuelsystem'],axis=1,inplace=True)"
   ]
  },
  {
   "cell_type": "code",
   "execution_count": 19,
   "metadata": {
    "ExecuteTime": {
     "end_time": "2019-11-24T13:55:40.624080Z",
     "start_time": "2019-11-24T13:55:40.564421Z"
    }
   },
   "outputs": [
    {
     "name": "stdout",
     "output_type": "stream",
     "text": [
      "    car_id  wheelbase  carlength  carwidth  carheight  curbweight  enginesize  \\\n",
      "29      30       95.9      173.2      66.3       50.2        2811         156   \n",
      "\n",
      "    boreratio  stroke  compressionratio  ...  three  twelve  two  2bbl  4bbl  \\\n",
      "29        3.6     3.9               7.0  ...      0       0    0     0     0   \n",
      "\n",
      "    idi  mfi  mpfi  spdi  spfi  \n",
      "29    0    1     0     0     0  \n",
      "\n",
      "[1 rows x 66 columns] \n",
      "\n",
      "    car_id  wheelbase  carlength  carwidth  carheight  curbweight  enginesize  \\\n",
      "46      47       96.0      172.6      65.2       51.4        2734         119   \n",
      "\n",
      "    boreratio  stroke  compressionratio  ...  three  twelve  two  2bbl  4bbl  \\\n",
      "46       3.43    3.23               9.2  ...      0       0    0     0     0   \n",
      "\n",
      "    idi  mfi  mpfi  spdi  spfi  \n",
      "46    0    0     0     0     1  \n",
      "\n",
      "[1 rows x 66 columns] \n",
      "\n"
     ]
    }
   ],
   "source": [
    "car[['mfi','spfi']].describe()\n",
    "print(car[car.mfi > 0.0],\"\\n\")\n",
    "print(car[car.spfi > 0.0],\"\\n\")\n",
    "#Lets drop these records since there is only one data point for each of them.this will cause issue while fitting the data\n",
    "car = car.drop(['mfi','spfi','car_id'], 1)"
   ]
  },
  {
   "cell_type": "code",
   "execution_count": 20,
   "metadata": {
    "ExecuteTime": {
     "end_time": "2019-11-24T13:55:41.135298Z",
     "start_time": "2019-11-24T13:55:41.095321Z"
    }
   },
   "outputs": [
    {
     "data": {
      "text/html": [
       "<div>\n",
       "<style scoped>\n",
       "    .dataframe tbody tr th:only-of-type {\n",
       "        vertical-align: middle;\n",
       "    }\n",
       "\n",
       "    .dataframe tbody tr th {\n",
       "        vertical-align: top;\n",
       "    }\n",
       "\n",
       "    .dataframe thead th {\n",
       "        text-align: right;\n",
       "    }\n",
       "</style>\n",
       "<table border=\"1\" class=\"dataframe\">\n",
       "  <thead>\n",
       "    <tr style=\"text-align: right;\">\n",
       "      <th></th>\n",
       "      <th>wheelbase</th>\n",
       "      <th>carlength</th>\n",
       "      <th>carwidth</th>\n",
       "      <th>carheight</th>\n",
       "      <th>curbweight</th>\n",
       "      <th>enginesize</th>\n",
       "      <th>boreratio</th>\n",
       "      <th>stroke</th>\n",
       "      <th>compressionratio</th>\n",
       "      <th>horsepower</th>\n",
       "      <th>...</th>\n",
       "      <th>four</th>\n",
       "      <th>six</th>\n",
       "      <th>three</th>\n",
       "      <th>twelve</th>\n",
       "      <th>two</th>\n",
       "      <th>2bbl</th>\n",
       "      <th>4bbl</th>\n",
       "      <th>idi</th>\n",
       "      <th>mpfi</th>\n",
       "      <th>spdi</th>\n",
       "    </tr>\n",
       "  </thead>\n",
       "  <tbody>\n",
       "    <tr>\n",
       "      <th>0</th>\n",
       "      <td>88.6</td>\n",
       "      <td>168.8</td>\n",
       "      <td>64.1</td>\n",
       "      <td>48.8</td>\n",
       "      <td>2548</td>\n",
       "      <td>130</td>\n",
       "      <td>3.47</td>\n",
       "      <td>2.68</td>\n",
       "      <td>9.0</td>\n",
       "      <td>111</td>\n",
       "      <td>...</td>\n",
       "      <td>1</td>\n",
       "      <td>0</td>\n",
       "      <td>0</td>\n",
       "      <td>0</td>\n",
       "      <td>0</td>\n",
       "      <td>0</td>\n",
       "      <td>0</td>\n",
       "      <td>0</td>\n",
       "      <td>1</td>\n",
       "      <td>0</td>\n",
       "    </tr>\n",
       "    <tr>\n",
       "      <th>1</th>\n",
       "      <td>88.6</td>\n",
       "      <td>168.8</td>\n",
       "      <td>64.1</td>\n",
       "      <td>48.8</td>\n",
       "      <td>2548</td>\n",
       "      <td>130</td>\n",
       "      <td>3.47</td>\n",
       "      <td>2.68</td>\n",
       "      <td>9.0</td>\n",
       "      <td>111</td>\n",
       "      <td>...</td>\n",
       "      <td>1</td>\n",
       "      <td>0</td>\n",
       "      <td>0</td>\n",
       "      <td>0</td>\n",
       "      <td>0</td>\n",
       "      <td>0</td>\n",
       "      <td>0</td>\n",
       "      <td>0</td>\n",
       "      <td>1</td>\n",
       "      <td>0</td>\n",
       "    </tr>\n",
       "    <tr>\n",
       "      <th>2</th>\n",
       "      <td>94.5</td>\n",
       "      <td>171.2</td>\n",
       "      <td>65.5</td>\n",
       "      <td>52.4</td>\n",
       "      <td>2823</td>\n",
       "      <td>152</td>\n",
       "      <td>2.68</td>\n",
       "      <td>3.47</td>\n",
       "      <td>9.0</td>\n",
       "      <td>154</td>\n",
       "      <td>...</td>\n",
       "      <td>0</td>\n",
       "      <td>1</td>\n",
       "      <td>0</td>\n",
       "      <td>0</td>\n",
       "      <td>0</td>\n",
       "      <td>0</td>\n",
       "      <td>0</td>\n",
       "      <td>0</td>\n",
       "      <td>1</td>\n",
       "      <td>0</td>\n",
       "    </tr>\n",
       "    <tr>\n",
       "      <th>3</th>\n",
       "      <td>99.8</td>\n",
       "      <td>176.6</td>\n",
       "      <td>66.2</td>\n",
       "      <td>54.3</td>\n",
       "      <td>2337</td>\n",
       "      <td>109</td>\n",
       "      <td>3.19</td>\n",
       "      <td>3.40</td>\n",
       "      <td>10.0</td>\n",
       "      <td>102</td>\n",
       "      <td>...</td>\n",
       "      <td>1</td>\n",
       "      <td>0</td>\n",
       "      <td>0</td>\n",
       "      <td>0</td>\n",
       "      <td>0</td>\n",
       "      <td>0</td>\n",
       "      <td>0</td>\n",
       "      <td>0</td>\n",
       "      <td>1</td>\n",
       "      <td>0</td>\n",
       "    </tr>\n",
       "    <tr>\n",
       "      <th>4</th>\n",
       "      <td>99.4</td>\n",
       "      <td>176.6</td>\n",
       "      <td>66.4</td>\n",
       "      <td>54.3</td>\n",
       "      <td>2824</td>\n",
       "      <td>136</td>\n",
       "      <td>3.19</td>\n",
       "      <td>3.40</td>\n",
       "      <td>8.0</td>\n",
       "      <td>115</td>\n",
       "      <td>...</td>\n",
       "      <td>0</td>\n",
       "      <td>0</td>\n",
       "      <td>0</td>\n",
       "      <td>0</td>\n",
       "      <td>0</td>\n",
       "      <td>0</td>\n",
       "      <td>0</td>\n",
       "      <td>0</td>\n",
       "      <td>1</td>\n",
       "      <td>0</td>\n",
       "    </tr>\n",
       "  </tbody>\n",
       "</table>\n",
       "<p>5 rows × 63 columns</p>\n",
       "</div>"
      ],
      "text/plain": [
       "   wheelbase  carlength  carwidth  carheight  curbweight  enginesize  \\\n",
       "0       88.6      168.8      64.1       48.8        2548         130   \n",
       "1       88.6      168.8      64.1       48.8        2548         130   \n",
       "2       94.5      171.2      65.5       52.4        2823         152   \n",
       "3       99.8      176.6      66.2       54.3        2337         109   \n",
       "4       99.4      176.6      66.4       54.3        2824         136   \n",
       "\n",
       "   boreratio  stroke  compressionratio  horsepower  ...  four  six  three  \\\n",
       "0       3.47    2.68               9.0         111  ...     1    0      0   \n",
       "1       3.47    2.68               9.0         111  ...     1    0      0   \n",
       "2       2.68    3.47               9.0         154  ...     0    1      0   \n",
       "3       3.19    3.40              10.0         102  ...     1    0      0   \n",
       "4       3.19    3.40               8.0         115  ...     0    0      0   \n",
       "\n",
       "   twelve  two  2bbl  4bbl  idi  mpfi  spdi  \n",
       "0       0    0     0     0    0     1     0  \n",
       "1       0    0     0     0    0     1     0  \n",
       "2       0    0     0     0    0     1     0  \n",
       "3       0    0     0     0    0     1     0  \n",
       "4       0    0     0     0    0     1     0  \n",
       "\n",
       "[5 rows x 63 columns]"
      ]
     },
     "execution_count": 20,
     "metadata": {},
     "output_type": "execute_result"
    }
   ],
   "source": [
    "car.head()"
   ]
  },
  {
   "cell_type": "raw",
   "metadata": {},
   "source": [
    "Normalizing data"
   ]
  },
  {
   "cell_type": "code",
   "execution_count": 21,
   "metadata": {
    "ExecuteTime": {
     "end_time": "2019-11-24T13:55:42.360559Z",
     "start_time": "2019-11-24T13:55:42.289806Z"
    }
   },
   "outputs": [],
   "source": [
    "#defining a normalisation function \n",
    "def normalize (x): \n",
    "    return ( (x-np.min(x))/ (max(x) - min(x)))\n",
    "                                            \n",
    "                                              \n",
    "# applying normalize ( ) to all columns \n",
    "car = car.apply(normalize) "
   ]
  },
  {
   "cell_type": "markdown",
   "metadata": {},
   "source": [
    "# Splitting Data into Training and Testing Sets"
   ]
  },
  {
   "cell_type": "code",
   "execution_count": 22,
   "metadata": {
    "ExecuteTime": {
     "end_time": "2019-11-24T13:55:43.421985Z",
     "start_time": "2019-11-24T13:55:43.359343Z"
    }
   },
   "outputs": [
    {
     "data": {
      "text/html": [
       "<div>\n",
       "<style scoped>\n",
       "    .dataframe tbody tr th:only-of-type {\n",
       "        vertical-align: middle;\n",
       "    }\n",
       "\n",
       "    .dataframe tbody tr th {\n",
       "        vertical-align: top;\n",
       "    }\n",
       "\n",
       "    .dataframe thead th {\n",
       "        text-align: right;\n",
       "    }\n",
       "</style>\n",
       "<table border=\"1\" class=\"dataframe\">\n",
       "  <thead>\n",
       "    <tr style=\"text-align: right;\">\n",
       "      <th></th>\n",
       "      <th>wheelbase</th>\n",
       "      <th>carlength</th>\n",
       "      <th>carwidth</th>\n",
       "      <th>carheight</th>\n",
       "      <th>curbweight</th>\n",
       "      <th>enginesize</th>\n",
       "      <th>boreratio</th>\n",
       "      <th>stroke</th>\n",
       "      <th>compressionratio</th>\n",
       "      <th>horsepower</th>\n",
       "      <th>...</th>\n",
       "      <th>four</th>\n",
       "      <th>six</th>\n",
       "      <th>three</th>\n",
       "      <th>twelve</th>\n",
       "      <th>two</th>\n",
       "      <th>2bbl</th>\n",
       "      <th>4bbl</th>\n",
       "      <th>idi</th>\n",
       "      <th>mpfi</th>\n",
       "      <th>spdi</th>\n",
       "    </tr>\n",
       "  </thead>\n",
       "  <tbody>\n",
       "    <tr>\n",
       "      <th>0</th>\n",
       "      <td>0.058309</td>\n",
       "      <td>0.413433</td>\n",
       "      <td>0.316667</td>\n",
       "      <td>0.083333</td>\n",
       "      <td>0.411171</td>\n",
       "      <td>0.260377</td>\n",
       "      <td>0.664286</td>\n",
       "      <td>0.290476</td>\n",
       "      <td>0.1250</td>\n",
       "      <td>0.262500</td>\n",
       "      <td>...</td>\n",
       "      <td>1.0</td>\n",
       "      <td>0.0</td>\n",
       "      <td>0.0</td>\n",
       "      <td>0.0</td>\n",
       "      <td>0.0</td>\n",
       "      <td>0.0</td>\n",
       "      <td>0.0</td>\n",
       "      <td>0.0</td>\n",
       "      <td>1.0</td>\n",
       "      <td>0.0</td>\n",
       "    </tr>\n",
       "    <tr>\n",
       "      <th>1</th>\n",
       "      <td>0.058309</td>\n",
       "      <td>0.413433</td>\n",
       "      <td>0.316667</td>\n",
       "      <td>0.083333</td>\n",
       "      <td>0.411171</td>\n",
       "      <td>0.260377</td>\n",
       "      <td>0.664286</td>\n",
       "      <td>0.290476</td>\n",
       "      <td>0.1250</td>\n",
       "      <td>0.262500</td>\n",
       "      <td>...</td>\n",
       "      <td>1.0</td>\n",
       "      <td>0.0</td>\n",
       "      <td>0.0</td>\n",
       "      <td>0.0</td>\n",
       "      <td>0.0</td>\n",
       "      <td>0.0</td>\n",
       "      <td>0.0</td>\n",
       "      <td>0.0</td>\n",
       "      <td>1.0</td>\n",
       "      <td>0.0</td>\n",
       "    </tr>\n",
       "    <tr>\n",
       "      <th>2</th>\n",
       "      <td>0.230321</td>\n",
       "      <td>0.449254</td>\n",
       "      <td>0.433333</td>\n",
       "      <td>0.383333</td>\n",
       "      <td>0.517843</td>\n",
       "      <td>0.343396</td>\n",
       "      <td>0.100000</td>\n",
       "      <td>0.666667</td>\n",
       "      <td>0.1250</td>\n",
       "      <td>0.441667</td>\n",
       "      <td>...</td>\n",
       "      <td>0.0</td>\n",
       "      <td>1.0</td>\n",
       "      <td>0.0</td>\n",
       "      <td>0.0</td>\n",
       "      <td>0.0</td>\n",
       "      <td>0.0</td>\n",
       "      <td>0.0</td>\n",
       "      <td>0.0</td>\n",
       "      <td>1.0</td>\n",
       "      <td>0.0</td>\n",
       "    </tr>\n",
       "    <tr>\n",
       "      <th>3</th>\n",
       "      <td>0.384840</td>\n",
       "      <td>0.529851</td>\n",
       "      <td>0.491667</td>\n",
       "      <td>0.541667</td>\n",
       "      <td>0.329325</td>\n",
       "      <td>0.181132</td>\n",
       "      <td>0.464286</td>\n",
       "      <td>0.633333</td>\n",
       "      <td>0.1875</td>\n",
       "      <td>0.225000</td>\n",
       "      <td>...</td>\n",
       "      <td>1.0</td>\n",
       "      <td>0.0</td>\n",
       "      <td>0.0</td>\n",
       "      <td>0.0</td>\n",
       "      <td>0.0</td>\n",
       "      <td>0.0</td>\n",
       "      <td>0.0</td>\n",
       "      <td>0.0</td>\n",
       "      <td>1.0</td>\n",
       "      <td>0.0</td>\n",
       "    </tr>\n",
       "    <tr>\n",
       "      <th>4</th>\n",
       "      <td>0.373178</td>\n",
       "      <td>0.529851</td>\n",
       "      <td>0.508333</td>\n",
       "      <td>0.541667</td>\n",
       "      <td>0.518231</td>\n",
       "      <td>0.283019</td>\n",
       "      <td>0.464286</td>\n",
       "      <td>0.633333</td>\n",
       "      <td>0.0625</td>\n",
       "      <td>0.279167</td>\n",
       "      <td>...</td>\n",
       "      <td>0.0</td>\n",
       "      <td>0.0</td>\n",
       "      <td>0.0</td>\n",
       "      <td>0.0</td>\n",
       "      <td>0.0</td>\n",
       "      <td>0.0</td>\n",
       "      <td>0.0</td>\n",
       "      <td>0.0</td>\n",
       "      <td>1.0</td>\n",
       "      <td>0.0</td>\n",
       "    </tr>\n",
       "  </tbody>\n",
       "</table>\n",
       "<p>5 rows × 63 columns</p>\n",
       "</div>"
      ],
      "text/plain": [
       "   wheelbase  carlength  carwidth  carheight  curbweight  enginesize  \\\n",
       "0   0.058309   0.413433  0.316667   0.083333    0.411171    0.260377   \n",
       "1   0.058309   0.413433  0.316667   0.083333    0.411171    0.260377   \n",
       "2   0.230321   0.449254  0.433333   0.383333    0.517843    0.343396   \n",
       "3   0.384840   0.529851  0.491667   0.541667    0.329325    0.181132   \n",
       "4   0.373178   0.529851  0.508333   0.541667    0.518231    0.283019   \n",
       "\n",
       "   boreratio    stroke  compressionratio  horsepower  ...  four  six  three  \\\n",
       "0   0.664286  0.290476            0.1250    0.262500  ...   1.0  0.0    0.0   \n",
       "1   0.664286  0.290476            0.1250    0.262500  ...   1.0  0.0    0.0   \n",
       "2   0.100000  0.666667            0.1250    0.441667  ...   0.0  1.0    0.0   \n",
       "3   0.464286  0.633333            0.1875    0.225000  ...   1.0  0.0    0.0   \n",
       "4   0.464286  0.633333            0.0625    0.279167  ...   0.0  0.0    0.0   \n",
       "\n",
       "   twelve  two  2bbl  4bbl  idi  mpfi  spdi  \n",
       "0     0.0  0.0   0.0   0.0  0.0   1.0   0.0  \n",
       "1     0.0  0.0   0.0   0.0  0.0   1.0   0.0  \n",
       "2     0.0  0.0   0.0   0.0  0.0   1.0   0.0  \n",
       "3     0.0  0.0   0.0   0.0  0.0   1.0   0.0  \n",
       "4     0.0  0.0   0.0   0.0  0.0   1.0   0.0  \n",
       "\n",
       "[5 rows x 63 columns]"
      ]
     },
     "execution_count": 22,
     "metadata": {},
     "output_type": "execute_result"
    }
   ],
   "source": [
    "car.dropna()\n",
    "car.drop_duplicates()\n",
    "car = car._get_numeric_data()\n",
    "car = car.reset_index(drop=True)\n",
    "car.head()"
   ]
  },
  {
   "cell_type": "code",
   "execution_count": 23,
   "metadata": {
    "ExecuteTime": {
     "end_time": "2019-11-24T13:55:43.930665Z",
     "start_time": "2019-11-24T13:55:43.920959Z"
    }
   },
   "outputs": [
    {
     "data": {
      "text/plain": [
       "Index(['wheelbase', 'carlength', 'carwidth', 'carheight', 'curbweight',\n",
       "       'enginesize', 'boreratio', 'stroke', 'compressionratio', 'horsepower',\n",
       "       'peakrpm', 'citympg', 'highwaympg', 'price', 'lowrisk', 'mediumrisk',\n",
       "       'audi', 'bmw', 'buick', 'chevrolet', 'dodge', 'honda', 'isuzu',\n",
       "       'jaguar', 'mazda', 'mercury', 'mitsubishi', 'nissan', 'peugeot',\n",
       "       'porsche', 'renault', 'saab', 'subaru', 'toyota', 'volkswagen', 'volvo',\n",
       "       'gas', 'turbo', 'door_two', 'hardtop', 'hatchback', 'sedan', 'wagon',\n",
       "       'fwd', 'rwd', 'rear', 'dohcv', 'l', 'ohc', 'ohcf', 'ohcv', 'rotor',\n",
       "       'five', 'four', 'six', 'three', 'twelve', 'two', '2bbl', '4bbl', 'idi',\n",
       "       'mpfi', 'spdi'],\n",
       "      dtype='object')"
      ]
     },
     "execution_count": 23,
     "metadata": {},
     "output_type": "execute_result"
    }
   ],
   "source": [
    "car.columns"
   ]
  },
  {
   "cell_type": "code",
   "execution_count": 24,
   "metadata": {
    "ExecuteTime": {
     "end_time": "2019-11-24T13:55:44.591480Z",
     "start_time": "2019-11-24T13:55:44.580696Z"
    }
   },
   "outputs": [],
   "source": [
    "# Putting feature variable to X\n",
    "X = car[['wheelbase', 'carlength', 'carwidth', 'carheight',\n",
    "       'curbweight', 'enginesize', 'boreratio', 'stroke', 'compressionratio',\n",
    "       'horsepower', 'peakrpm', 'citympg', 'highwaympg', 'lowrisk',\n",
    "       'mediumrisk', 'audi', 'bmw', 'buick', 'chevrolet', 'dodge', 'honda',\n",
    "       'isuzu', 'jaguar', 'mazda', 'mercury', 'mitsubishi', 'nissan',\n",
    "       'peugeot', 'porsche', 'renault', 'saab', 'subaru', 'toyota',\n",
    "       'volkswagen', 'volvo', 'gas', 'turbo', 'door_two', 'hardtop',\n",
    "       'hatchback', 'sedan', 'wagon', 'fwd', 'rwd', 'rear', 'dohcv', 'l',\n",
    "       'ohc', 'ohcf', 'ohcv', 'rotor', 'five', 'four', 'six', 'three',\n",
    "       'twelve', 'two', '2bbl', '4bbl', 'idi', 'mpfi', 'spdi']]\n",
    "\n",
    "# Putting response variable to y\n",
    "y = car['price']"
   ]
  },
  {
   "cell_type": "code",
   "execution_count": 27,
   "metadata": {
    "ExecuteTime": {
     "end_time": "2019-11-24T13:56:40.785261Z",
     "start_time": "2019-11-24T13:56:23.777840Z"
    }
   },
   "outputs": [
    {
     "name": "stdout",
     "output_type": "stream",
     "text": [
      "Collecting sklearn\n",
      "  Downloading https://files.pythonhosted.org/packages/1e/7a/dbb3be0ce9bd5c8b7e3d87328e79063f8b263b2b1bfa4774cb1147bfcd3f/sklearn-0.0.tar.gz\n",
      "Collecting scikit-learn\n",
      "\u001b[?25l  Downloading https://files.pythonhosted.org/packages/e9/57/8a9889d49d0d77905af5a7524fb2b468d2ef5fc723684f51f5ca63efed0d/scikit_learn-0.21.3-cp37-cp37m-macosx_10_6_intel.macosx_10_9_intel.macosx_10_9_x86_64.macosx_10_10_intel.macosx_10_10_x86_64.whl (10.5MB)\n",
      "\u001b[K     |████████████████████████████████| 10.5MB 1.0MB/s eta 0:00:01    |██████████████████████▎         | 7.3MB 900kB/s eta 0:00:04\n",
      "\u001b[?25hRequirement already satisfied, skipping upgrade: scipy>=0.17.0 in /usr/local/lib/python3.7/site-packages (from scikit-learn->sklearn) (1.3.1)\n",
      "Requirement already satisfied, skipping upgrade: numpy>=1.11.0 in /usr/local/lib/python3.7/site-packages (from scikit-learn->sklearn) (1.17.3)\n",
      "Collecting joblib>=0.11\n",
      "\u001b[?25l  Downloading https://files.pythonhosted.org/packages/8f/42/155696f85f344c066e17af287359c9786b436b1bf86029bb3411283274f3/joblib-0.14.0-py2.py3-none-any.whl (294kB)\n",
      "\u001b[K     |████████████████████████████████| 296kB 1.3MB/s eta 0:00:01\n",
      "\u001b[?25hBuilding wheels for collected packages: sklearn\n",
      "  Building wheel for sklearn (setup.py) ... \u001b[?25ldone\n",
      "\u001b[?25h  Created wheel for sklearn: filename=sklearn-0.0-py2.py3-none-any.whl size=1315 sha256=604eb90bb9c7ddb3d5ad844677f081949b5e99c4262c50e72ff2f159a975b0c5\n",
      "  Stored in directory: /Users/ps/Library/Caches/pip/wheels/76/03/bb/589d421d27431bcd2c6da284d5f2286c8e3b2ea3cf1594c074\n",
      "Successfully built sklearn\n",
      "Installing collected packages: joblib, scikit-learn, sklearn\n",
      "Successfully installed joblib-0.14.0 scikit-learn-0.21.3 sklearn-0.0\n"
     ]
    }
   ],
   "source": [
    "!pip install sklearn --upgrade"
   ]
  },
  {
   "cell_type": "code",
   "execution_count": 29,
   "metadata": {
    "ExecuteTime": {
     "end_time": "2019-11-24T14:02:12.612043Z",
     "start_time": "2019-11-24T14:01:59.858801Z"
    }
   },
   "outputs": [],
   "source": [
    "#random_state is the seed used by the random number generator, it can be any integer.\n",
    "from sklearn.model_selection import train_test_split\n",
    "X_train, X_test, y_train, y_test = train_test_split(X, y, train_size=0.7 ,test_size = 0.3, random_state=100)"
   ]
  },
  {
   "cell_type": "code",
   "execution_count": 30,
   "metadata": {
    "ExecuteTime": {
     "end_time": "2019-11-24T14:02:15.638909Z",
     "start_time": "2019-11-24T14:02:15.630183Z"
    }
   },
   "outputs": [],
   "source": [
    "# UDF for calculating vif value\n",
    "def vif_cal(input_data, dependent_col):\n",
    "    vif_df = pd.DataFrame( columns = ['Var', 'Vif'])\n",
    "    x_vars=input_data.drop([dependent_col], axis=1)\n",
    "    xvar_names=x_vars.columns\n",
    "    for i in range(0,xvar_names.shape[0]):\n",
    "        y=x_vars[xvar_names[i]] \n",
    "        x=x_vars[xvar_names.drop(xvar_names[i])]\n",
    "        rsq=sm.OLS(y,x).fit().rsquared  \n",
    "        vif=round(1/(1-rsq),2)\n",
    "        vif_df.loc[i] = [xvar_names[i], vif]\n",
    "    return vif_df.sort_values(by = 'Vif', axis=0, ascending=False, inplace=False)"
   ]
  },
  {
   "cell_type": "markdown",
   "metadata": {},
   "source": [
    "# RFE"
   ]
  },
  {
   "cell_type": "code",
   "execution_count": 31,
   "metadata": {
    "ExecuteTime": {
     "end_time": "2019-11-24T14:02:31.663173Z",
     "start_time": "2019-11-24T14:02:18.379590Z"
    }
   },
   "outputs": [],
   "source": [
    "# Importing RFE and LinearRegression\n",
    "from sklearn.feature_selection import RFE\n",
    "from sklearn.linear_model import LinearRegression"
   ]
  },
  {
   "cell_type": "code",
   "execution_count": 32,
   "metadata": {
    "ExecuteTime": {
     "end_time": "2019-11-24T14:05:27.795216Z",
     "start_time": "2019-11-24T14:05:27.701910Z"
    }
   },
   "outputs": [
    {
     "name": "stdout",
     "output_type": "stream",
     "text": [
      "[False False  True False  True  True  True  True False False False False\n",
      " False  True False False  True False False False False False False False\n",
      " False False False False  True False  True  True False False  True False\n",
      " False False False False False False False False  True  True False False\n",
      "  True False  True  True  True False  True  True  True False False False\n",
      " False False]\n",
      "[ 7 10  1  2  1  1  1  1 13 25  5 36  4  1 41 23  1 24 12  9 11 42 19 33\n",
      " 43  3 31  6  1 35  1  1 34 32  1 14  8 30 16 15 17 18 40 28  1  1 29 39\n",
      "  1 26  1  1  1 21  1  1  1 22 27 20 38 37]\n"
     ]
    }
   ],
   "source": [
    "# Running RFE with the output number of the variable equal to 20\n",
    "lm = LinearRegression()\n",
    "rfe = RFE(lm, 20)             # running RFE\n",
    "rfe = rfe.fit(X_train, y_train)\n",
    "print(rfe.support_)           # Printing the boolean results\n",
    "print(rfe.ranking_)  "
   ]
  },
  {
   "cell_type": "code",
   "execution_count": 33,
   "metadata": {
    "ExecuteTime": {
     "end_time": "2019-11-24T14:06:21.321474Z",
     "start_time": "2019-11-24T14:06:21.315015Z"
    }
   },
   "outputs": [
    {
     "name": "stdout",
     "output_type": "stream",
     "text": [
      "Index(['wheelbase', 'carlength', 'carheight', 'compressionratio', 'horsepower',\n",
      "       'peakrpm', 'citympg', 'highwaympg', 'mediumrisk', 'audi', 'buick',\n",
      "       'chevrolet', 'dodge', 'honda', 'isuzu', 'jaguar', 'mazda', 'mercury',\n",
      "       'mitsubishi', 'nissan', 'peugeot', 'renault', 'toyota', 'volkswagen',\n",
      "       'gas', 'turbo', 'door_two', 'hardtop', 'hatchback', 'sedan', 'wagon',\n",
      "       'fwd', 'rwd', 'l', 'ohc', 'ohcv', 'six', '2bbl', '4bbl', 'idi', 'mpfi',\n",
      "       'spdi'],\n",
      "      dtype='object')\n"
     ]
    }
   ],
   "source": [
    "# Printing columns to be dropped\n",
    "print(X_train.columns[~rfe.support_])"
   ]
  },
  {
   "cell_type": "markdown",
   "metadata": {},
   "source": [
    "# Model Summary"
   ]
  },
  {
   "cell_type": "code",
   "execution_count": 34,
   "metadata": {
    "ExecuteTime": {
     "end_time": "2019-11-24T14:06:25.956582Z",
     "start_time": "2019-11-24T14:06:25.948465Z"
    }
   },
   "outputs": [],
   "source": [
    "X_train_1 = X_train.drop(['wheelbase', 'carlength', 'carheight', 'compressionratio', 'horsepower',\n",
    "       'peakrpm', 'citympg', 'highwaympg', 'mediumrisk', 'audi', 'buick',\n",
    "       'chevrolet', 'dodge', 'honda', 'isuzu', 'jaguar', 'mazda', 'mercury',\n",
    "       'mitsubishi', 'nissan', 'peugeot', 'renault', 'toyota', 'volkswagen',\n",
    "       'gas', 'turbo', 'door_two', 'hardtop', 'hatchback', 'sedan', 'wagon',\n",
    "       'fwd', 'rwd', 'l', 'ohc', 'ohcv', 'six', '2bbl', '4bbl', 'idi', 'mpfi',\n",
    "       'spdi'],1)"
   ]
  },
  {
   "cell_type": "code",
   "execution_count": 36,
   "metadata": {
    "ExecuteTime": {
     "end_time": "2019-11-24T14:07:31.957094Z",
     "start_time": "2019-11-24T14:07:02.584368Z"
    }
   },
   "outputs": [
    {
     "name": "stdout",
     "output_type": "stream",
     "text": [
      "Collecting statsmodels\n",
      "\u001b[?25l  Downloading https://files.pythonhosted.org/packages/d6/45/41caa30bce47d6d18f653bdd44f4ff571f192a2355f81a8fc5fec7b1690a/statsmodels-0.10.2-cp37-cp37m-macosx_10_6_intel.whl (10.4MB)\n",
      "\u001b[K     |████████████████████████████████| 10.4MB 714kB/s eta 0:00:01\n",
      "\u001b[?25hCollecting patsy>=0.4.0\n",
      "\u001b[?25l  Downloading https://files.pythonhosted.org/packages/ea/0c/5f61f1a3d4385d6bf83b83ea495068857ff8dfb89e74824c6e9eb63286d8/patsy-0.5.1-py2.py3-none-any.whl (231kB)\n",
      "\u001b[K     |████████████████████████████████| 235kB 526kB/s eta 0:00:01\n",
      "\u001b[?25hRequirement already satisfied: scipy>=0.18 in /usr/local/lib/python3.7/site-packages (from statsmodels) (1.3.1)\n",
      "Requirement already satisfied: numpy>=1.11 in /usr/local/lib/python3.7/site-packages (from statsmodels) (1.17.3)\n",
      "Requirement already satisfied: pandas>=0.19 in /usr/local/lib/python3.7/site-packages (from statsmodels) (0.25.3)\n",
      "Requirement already satisfied: six in /Users/ps/Library/Python/3.7/lib/python/site-packages (from patsy>=0.4.0->statsmodels) (1.12.0)\n",
      "Requirement already satisfied: pytz>=2017.2 in /usr/local/lib/python3.7/site-packages (from pandas>=0.19->statsmodels) (2019.3)\n",
      "Requirement already satisfied: python-dateutil>=2.6.1 in /usr/local/lib/python3.7/site-packages (from pandas>=0.19->statsmodels) (2.8.0)\n",
      "Installing collected packages: patsy, statsmodels\n",
      "Successfully installed patsy-0.5.1 statsmodels-0.10.2\n"
     ]
    }
   ],
   "source": [
    "!pip install statsmodels"
   ]
  },
  {
   "cell_type": "code",
   "execution_count": 37,
   "metadata": {
    "ExecuteTime": {
     "end_time": "2019-11-24T14:08:21.873415Z",
     "start_time": "2019-11-24T14:07:49.323687Z"
    }
   },
   "outputs": [
    {
     "name": "stderr",
     "output_type": "stream",
     "text": [
      "/usr/local/lib/python3.7/site-packages/numpy/core/fromnumeric.py:2495: FutureWarning: Method .ptp is deprecated and will be removed in a future version. Use numpy.ptp instead.\n",
      "  return ptp(axis=axis, out=out, **kwargs)\n"
     ]
    }
   ],
   "source": [
    "import statsmodels.api as sm\n",
    "X_train_1 = sm.add_constant(X_train_1)"
   ]
  },
  {
   "cell_type": "code",
   "execution_count": 38,
   "metadata": {
    "ExecuteTime": {
     "end_time": "2019-11-24T14:08:45.863471Z",
     "start_time": "2019-11-24T14:08:45.855801Z"
    }
   },
   "outputs": [],
   "source": [
    "lm_1 = sm.OLS(y_train,X_train_1).fit()"
   ]
  },
  {
   "cell_type": "code",
   "execution_count": 39,
   "metadata": {
    "ExecuteTime": {
     "end_time": "2019-11-24T14:08:46.892904Z",
     "start_time": "2019-11-24T14:08:46.862122Z"
    }
   },
   "outputs": [
    {
     "name": "stdout",
     "output_type": "stream",
     "text": [
      "                            OLS Regression Results                            \n",
      "==============================================================================\n",
      "Dep. Variable:                  price   R-squared:                       0.950\n",
      "Model:                            OLS   Adj. R-squared:                  0.942\n",
      "Method:                 Least Squares   F-statistic:                     129.9\n",
      "Date:                Sun, 24 Nov 2019   Prob (F-statistic):           2.16e-71\n",
      "Time:                        19:38:46   Log-Likelihood:                 245.90\n",
      "No. Observations:                 143   AIC:                            -453.8\n",
      "Df Residuals:                     124   BIC:                            -397.5\n",
      "Df Model:                          18                                         \n",
      "Covariance Type:            nonrobust                                         \n",
      "==============================================================================\n",
      "                 coef    std err          t      P>|t|      [0.025      0.975]\n",
      "------------------------------------------------------------------------------\n",
      "const         -0.2165      0.033     -6.600      0.000      -0.281      -0.152\n",
      "carwidth       0.1983      0.053      3.746      0.000       0.094       0.303\n",
      "curbweight     0.2135      0.059      3.627      0.000       0.097       0.330\n",
      "enginesize     1.5974      0.143     11.166      0.000       1.314       1.881\n",
      "boreratio     -0.5128      0.064     -7.956      0.000      -0.640      -0.385\n",
      "stroke        -0.2367      0.044     -5.422      0.000      -0.323      -0.150\n",
      "lowrisk       -0.1288      0.042     -3.065      0.003      -0.212      -0.046\n",
      "bmw            0.2862      0.024     12.139      0.000       0.240       0.333\n",
      "porsche        0.2130      0.051      4.168      0.000       0.112       0.314\n",
      "saab           0.1084      0.029      3.712      0.000       0.051       0.166\n",
      "subaru        -0.0472      0.028     -1.682      0.095      -0.103       0.008\n",
      "volvo          0.1666      0.027      6.069      0.000       0.112       0.221\n",
      "rear           0.1585      0.047      3.391      0.001       0.066       0.251\n",
      "dohcv          0.0761      0.069      1.110      0.269      -0.060       0.212\n",
      "ohcf           0.1113      0.025      4.479      0.000       0.062       0.160\n",
      "rotor          0.3003      0.031      9.568      0.000       0.238       0.362\n",
      "five           0.2345      0.030      7.788      0.000       0.175       0.294\n",
      "four           0.2714      0.036      7.486      0.000       0.200       0.343\n",
      "three          0.4610      0.065      7.131      0.000       0.333       0.589\n",
      "twelve        -0.5444      0.084     -6.497      0.000      -0.710      -0.379\n",
      "two            0.3003      0.031      9.568      0.000       0.238       0.362\n",
      "==============================================================================\n",
      "Omnibus:                       29.535   Durbin-Watson:                   1.846\n",
      "Prob(Omnibus):                  0.000   Jarque-Bera (JB):               57.522\n",
      "Skew:                           0.918   Prob(JB):                     3.23e-13\n",
      "Kurtosis:                       5.507   Cond. No.                     4.84e+16\n",
      "==============================================================================\n",
      "\n",
      "Warnings:\n",
      "[1] Standard Errors assume that the covariance matrix of the errors is correctly specified.\n",
      "[2] The smallest eigenvalue is 1.63e-31. This might indicate that there are\n",
      "strong multicollinearity problems or that the design matrix is singular.\n"
     ]
    }
   ],
   "source": [
    "print(lm_1.summary())"
   ]
  },
  {
   "cell_type": "markdown",
   "metadata": {},
   "source": [
    "# Check VIF"
   ]
  },
  {
   "cell_type": "code",
   "execution_count": null,
   "metadata": {},
   "outputs": [],
   "source": [
    "vif_cal(input_data=car.drop(['wheelbase', 'carlength', 'carheight', 'compressionratio', 'horsepower',\n",
    "       'peakrpm', 'citympg', 'highwaympg', 'mediumrisk', 'audi', 'buick',\n",
    "       'chevrolet', 'dodge', 'honda', 'isuzu', 'jaguar', 'mazda', 'mercury',\n",
    "       'mitsubishi', 'nissan', 'peugeot', 'renault', 'toyota', 'volkswagen',\n",
    "       'gas', 'turbo', 'door_two', 'hardtop', 'hatchback', 'sedan', 'wagon',\n",
    "       'fwd', 'rwd', 'l', 'ohc', 'ohcv', 'six', '2bbl', '4bbl', 'idi', 'mpfi',\n",
    "       'spdi','two','subaru','rotor','ohcf','rear'], axis=1), dependent_col=\"price\")"
   ]
  },
  {
   "cell_type": "markdown",
   "metadata": {},
   "source": [
    "# Round 2"
   ]
  },
  {
   "cell_type": "code",
   "execution_count": null,
   "metadata": {},
   "outputs": [],
   "source": [
    "# Running RFE with the output number of the variable equal to 10\n",
    "lm = LinearRegression()\n",
    "rfe = RFE(lm, 10)             # running RFE\n",
    "rfe = rfe.fit(X_train, y_train)\n",
    "print(rfe.support_)           # Printing the boolean results\n",
    "print(rfe.ranking_) "
   ]
  },
  {
   "cell_type": "code",
   "execution_count": null,
   "metadata": {},
   "outputs": [],
   "source": [
    "X_train.columns[~rfe.support_]"
   ]
  },
  {
   "cell_type": "code",
   "execution_count": null,
   "metadata": {},
   "outputs": [],
   "source": [
    "X_train_2 = X_train.drop(['wheelbase', 'carlength', 'carheight', 'stroke', 'compressionratio',\n",
    "       'horsepower', 'peakrpm', 'citympg', 'highwaympg', 'lowrisk',\n",
    "       'mediumrisk', 'audi', 'buick', 'chevrolet', 'dodge', 'honda', 'isuzu',\n",
    "       'jaguar', 'mazda', 'mercury', 'mitsubishi', 'nissan', 'peugeot',\n",
    "       'renault', 'saab', 'subaru', 'toyota', 'volkswagen', 'volvo', 'gas',\n",
    "       'turbo', 'door_two', 'hardtop', 'hatchback', 'sedan', 'wagon', 'fwd',\n",
    "       'rwd', 'dohcv', 'l', 'ohc', 'ohcf', 'ohcv', 'five', 'four', 'six',\n",
    "       'two', '2bbl', '4bbl', 'idi', 'mpfi', 'spdi'],1)"
   ]
  },
  {
   "cell_type": "code",
   "execution_count": null,
   "metadata": {},
   "outputs": [],
   "source": [
    "X_train_2 = sm.add_constant(X_train_2)"
   ]
  },
  {
   "cell_type": "code",
   "execution_count": null,
   "metadata": {},
   "outputs": [],
   "source": [
    "# Running Linear Model\n",
    "lm_2 = sm.OLS(y_train,X_train_2).fit()\n",
    "#Linear Model summary\n",
    "print(lm_2.summary())"
   ]
  },
  {
   "cell_type": "code",
   "execution_count": null,
   "metadata": {},
   "outputs": [],
   "source": [
    "# Check_VIF\n",
    "vif_cal(input_data=car.drop(['wheelbase', 'carlength', 'carheight', 'stroke', 'compressionratio',\n",
    "       'horsepower', 'peakrpm', 'citympg', 'highwaympg', 'lowrisk',\n",
    "       'mediumrisk', 'audi', 'buick', 'chevrolet', 'dodge', 'honda', 'isuzu',\n",
    "       'jaguar', 'mazda', 'mercury', 'mitsubishi', 'nissan', 'peugeot',\n",
    "       'renault', 'saab', 'subaru', 'toyota', 'volkswagen', 'volvo', 'gas',\n",
    "       'turbo', 'door_two', 'hardtop', 'hatchback', 'sedan', 'wagon', 'fwd',\n",
    "       'rwd', 'dohcv', 'l', 'ohc', 'ohcf', 'ohcv', 'five', 'four', 'six',\n",
    "       'two', '2bbl', '4bbl', 'idi', 'mpfi', 'spdi'], axis=1), dependent_col=\"price\")"
   ]
  },
  {
   "cell_type": "markdown",
   "metadata": {},
   "source": [
    "# Round 3"
   ]
  },
  {
   "cell_type": "code",
   "execution_count": null,
   "metadata": {},
   "outputs": [],
   "source": [
    "# Running RFE with the output number of the variable equal to 5\n",
    "lm = LinearRegression()\n",
    "rfe = RFE(lm, 5)             # running RFE\n",
    "rfe = rfe.fit(X_train, y_train)\n",
    "print(rfe.support_)           # Printing the boolean results\n",
    "print(rfe.ranking_) "
   ]
  },
  {
   "cell_type": "code",
   "execution_count": null,
   "metadata": {
    "scrolled": true
   },
   "outputs": [],
   "source": [
    "X_train.columns[~rfe.support_]"
   ]
  },
  {
   "cell_type": "code",
   "execution_count": null,
   "metadata": {},
   "outputs": [],
   "source": [
    "X_train_3 = X_train.drop(['wheelbase', 'carlength', 'carheight', 'boreratio', 'stroke',\n",
    "       'compressionratio', 'horsepower', 'peakrpm', 'citympg', 'highwaympg',\n",
    "       'lowrisk', 'mediumrisk', 'audi', 'buick', 'chevrolet', 'dodge', 'honda',\n",
    "       'isuzu', 'jaguar', 'mazda', 'mercury', 'mitsubishi', 'nissan',\n",
    "       'peugeot', 'porsche', 'renault', 'saab', 'subaru', 'toyota',\n",
    "       'volkswagen', 'volvo', 'gas', 'turbo', 'door_two', 'hardtop',\n",
    "       'hatchback', 'sedan', 'wagon', 'fwd', 'rwd', 'dohcv', 'l', 'ohc',\n",
    "       'ohcf', 'ohcv', 'rotor', 'five', 'four', 'six', 'three', 'twelve',\n",
    "       'two', '2bbl', '4bbl', 'idi', 'mpfi', 'spdi'],1)"
   ]
  },
  {
   "cell_type": "code",
   "execution_count": null,
   "metadata": {},
   "outputs": [],
   "source": [
    "X_train_3 = sm.add_constant(X_train_3)"
   ]
  },
  {
   "cell_type": "code",
   "execution_count": null,
   "metadata": {},
   "outputs": [],
   "source": [
    "# Running Linear Model\n",
    "lm_3 = sm.OLS(y_train,X_train_3).fit()\n",
    "#Linear Model summary\n",
    "print(lm_3.summary())"
   ]
  },
  {
   "cell_type": "code",
   "execution_count": null,
   "metadata": {},
   "outputs": [],
   "source": [
    "# Check_VIF\n",
    "vif_cal(input_data=car.drop(['wheelbase', 'carlength', 'carheight', 'boreratio', 'stroke',\n",
    "       'compressionratio', 'horsepower', 'peakrpm', 'citympg', 'highwaympg',\n",
    "       'lowrisk', 'mediumrisk', 'audi', 'buick', 'chevrolet', 'dodge', 'honda',\n",
    "       'isuzu', 'jaguar', 'mazda', 'mercury', 'mitsubishi', 'nissan',\n",
    "       'peugeot', 'porsche', 'renault', 'saab', 'subaru', 'toyota',\n",
    "       'volkswagen', 'volvo', 'gas', 'turbo', 'door_two', 'hardtop',\n",
    "       'hatchback', 'sedan', 'wagon', 'fwd', 'rwd', 'dohcv', 'l', 'ohc',\n",
    "       'ohcf', 'ohcv', 'rotor', 'five', 'four', 'six', 'three', 'twelve',\n",
    "       'two', '2bbl', '4bbl', 'idi', 'mpfi', 'spdi'], axis=1), dependent_col=\"price\")"
   ]
  },
  {
   "cell_type": "markdown",
   "metadata": {},
   "source": [
    "# Round 4"
   ]
  },
  {
   "cell_type": "code",
   "execution_count": null,
   "metadata": {},
   "outputs": [],
   "source": [
    "# Running RFE with the output number of the variable equal to 4\n",
    "lm = LinearRegression()\n",
    "rfe = RFE(lm, 4)             # running RFE\n",
    "rfe = rfe.fit(X_train, y_train)\n",
    "print(rfe.support_)           # Printing the boolean results\n",
    "print(rfe.ranking_) "
   ]
  },
  {
   "cell_type": "code",
   "execution_count": null,
   "metadata": {},
   "outputs": [],
   "source": [
    "X_train.columns[~rfe.support_]"
   ]
  },
  {
   "cell_type": "code",
   "execution_count": null,
   "metadata": {},
   "outputs": [],
   "source": [
    "X_train_4 = X_train.drop(['wheelbase', 'carlength', 'carheight', 'boreratio', 'stroke',\n",
    "       'compressionratio', 'horsepower', 'peakrpm', 'citympg', 'highwaympg',\n",
    "       'lowrisk', 'mediumrisk', 'audi', 'bmw', 'buick', 'chevrolet', 'dodge',\n",
    "       'honda', 'isuzu', 'jaguar', 'mazda', 'mercury', 'mitsubishi', 'nissan',\n",
    "       'peugeot', 'porsche', 'renault', 'saab', 'subaru', 'toyota',\n",
    "       'volkswagen', 'volvo', 'gas', 'turbo', 'door_two', 'hardtop',\n",
    "       'hatchback', 'sedan', 'wagon', 'fwd', 'rwd', 'dohcv', 'l', 'ohc',\n",
    "       'ohcf', 'ohcv', 'rotor', 'five', 'four', 'six', 'three', 'twelve',\n",
    "       'two', '2bbl', '4bbl', 'idi', 'mpfi', 'spdi'],1)"
   ]
  },
  {
   "cell_type": "code",
   "execution_count": null,
   "metadata": {},
   "outputs": [],
   "source": [
    "X_train_4 = sm.add_constant(X_train_4)"
   ]
  },
  {
   "cell_type": "code",
   "execution_count": null,
   "metadata": {
    "scrolled": false
   },
   "outputs": [],
   "source": [
    "# Running Linear Model\n",
    "lm_4 = sm.OLS(y_train,X_train_4).fit()\n",
    "#Linear Model summary\n",
    "print(lm_4.summary())"
   ]
  },
  {
   "cell_type": "code",
   "execution_count": null,
   "metadata": {
    "scrolled": true
   },
   "outputs": [],
   "source": [
    "# Check_VIF\n",
    "vif_cal(input_data=car.drop(['wheelbase', 'carlength', 'carheight', 'boreratio', 'stroke',\n",
    "       'compressionratio', 'horsepower', 'peakrpm', 'citympg', 'highwaympg',\n",
    "       'lowrisk', 'mediumrisk', 'audi', 'bmw', 'buick', 'chevrolet', 'dodge',\n",
    "       'honda', 'isuzu', 'jaguar', 'mazda', 'mercury', 'mitsubishi', 'nissan',\n",
    "       'peugeot', 'porsche', 'renault', 'saab', 'subaru', 'toyota',\n",
    "       'volkswagen', 'volvo', 'gas', 'turbo', 'door_two', 'hardtop',\n",
    "       'hatchback', 'sedan', 'wagon', 'fwd', 'rwd', 'dohcv', 'l', 'ohc',\n",
    "       'ohcf', 'ohcv', 'rotor', 'five', 'four', 'six', 'three', 'twelve',\n",
    "       'two', '2bbl', '4bbl', 'idi', 'mpfi', 'spdi'], axis=1), dependent_col=\"price\")"
   ]
  },
  {
   "cell_type": "markdown",
   "metadata": {},
   "source": [
    "# Round 5"
   ]
  },
  {
   "cell_type": "code",
   "execution_count": null,
   "metadata": {},
   "outputs": [],
   "source": [
    "# Running RFE with the output number of the variable equal to 3\n",
    "lm = LinearRegression()\n",
    "rfe = RFE(lm, 3)             # running RFE\n",
    "rfe = rfe.fit(X_train, y_train)\n",
    "print(rfe.support_)           # Printing the boolean results\n",
    "print(rfe.ranking_) "
   ]
  },
  {
   "cell_type": "code",
   "execution_count": null,
   "metadata": {},
   "outputs": [],
   "source": [
    "X_train.columns[~rfe.support_]"
   ]
  },
  {
   "cell_type": "code",
   "execution_count": null,
   "metadata": {},
   "outputs": [],
   "source": [
    "X_train_5 = X_train.drop(['wheelbase', 'carlength', 'carwidth', 'carheight', 'boreratio',\n",
    "       'stroke', 'compressionratio', 'horsepower', 'peakrpm', 'citympg',\n",
    "       'highwaympg', 'lowrisk', 'mediumrisk', 'audi', 'bmw', 'buick',\n",
    "       'chevrolet', 'dodge', 'honda', 'isuzu', 'jaguar', 'mazda', 'mercury',\n",
    "       'mitsubishi', 'nissan', 'peugeot', 'porsche', 'renault', 'saab',\n",
    "       'subaru', 'toyota', 'volkswagen', 'volvo', 'gas', 'turbo', 'door_two',\n",
    "       'hardtop', 'hatchback', 'sedan', 'wagon', 'fwd', 'rwd', 'dohcv', 'l',\n",
    "       'ohc', 'ohcf', 'ohcv', 'rotor', 'five', 'four', 'six', 'three',\n",
    "       'twelve', 'two', '2bbl', '4bbl', 'idi', 'mpfi', 'spdi'],1)"
   ]
  },
  {
   "cell_type": "code",
   "execution_count": null,
   "metadata": {},
   "outputs": [],
   "source": [
    "X_train_5 = sm.add_constant(X_train_5)"
   ]
  },
  {
   "cell_type": "code",
   "execution_count": null,
   "metadata": {},
   "outputs": [],
   "source": [
    "# Running Linear Model\n",
    "lm_5 = sm.OLS(y_train,X_train_5).fit()\n",
    "#Linear Model summary\n",
    "print(lm_5.summary())"
   ]
  },
  {
   "cell_type": "code",
   "execution_count": null,
   "metadata": {},
   "outputs": [],
   "source": [
    "# Check_VIF\n",
    "vif_cal(input_data=car.drop(['wheelbase', 'carlength', 'carwidth', 'carheight', 'boreratio',\n",
    "       'stroke', 'compressionratio', 'horsepower', 'peakrpm', 'citympg',\n",
    "       'highwaympg', 'lowrisk', 'mediumrisk', 'audi', 'bmw', 'buick',\n",
    "       'chevrolet', 'dodge', 'honda', 'isuzu', 'jaguar', 'mazda', 'mercury',\n",
    "       'mitsubishi', 'nissan', 'peugeot', 'porsche', 'renault', 'saab',\n",
    "       'subaru', 'toyota', 'volkswagen', 'volvo', 'gas', 'turbo', 'door_two',\n",
    "       'hardtop', 'hatchback', 'sedan', 'wagon', 'fwd', 'rwd', 'dohcv', 'l',\n",
    "       'ohc', 'ohcf', 'ohcv', 'rotor', 'five', 'four', 'six', 'three',\n",
    "       'twelve', 'two', '2bbl', '4bbl', 'idi', 'mpfi', 'spdi'], axis=1), dependent_col=\"price\")"
   ]
  },
  {
   "cell_type": "markdown",
   "metadata": {},
   "source": [
    "## Making Predictions"
   ]
  },
  {
   "cell_type": "code",
   "execution_count": null,
   "metadata": {},
   "outputs": [],
   "source": [
    "# Creating X_test_rfe dataframe by dropping variables from X_test\n",
    "X_test_rfe = X_test.drop(['wheelbase', 'carlength', 'carwidth', 'carheight', 'boreratio',\n",
    "       'stroke', 'compressionratio', 'horsepower', 'peakrpm', 'citympg',\n",
    "       'highwaympg', 'lowrisk', 'mediumrisk', 'audi', 'bmw', 'buick',\n",
    "       'chevrolet', 'dodge', 'honda', 'isuzu', 'jaguar', 'mazda', 'mercury',\n",
    "       'mitsubishi', 'nissan', 'peugeot', 'porsche', 'renault', 'saab',\n",
    "       'subaru', 'toyota', 'volkswagen', 'volvo', 'gas', 'turbo', 'door_two',\n",
    "       'hardtop', 'hatchback', 'sedan', 'wagon', 'fwd', 'rwd', 'dohcv', 'l',\n",
    "       'ohc', 'ohcf', 'ohcv', 'rotor', 'five', 'four', 'six', 'three',\n",
    "       'twelve', 'two', '2bbl', '4bbl', 'idi', 'mpfi', 'spdi'],1)"
   ]
  },
  {
   "cell_type": "code",
   "execution_count": null,
   "metadata": {},
   "outputs": [],
   "source": [
    "# Adding a constant variable \n",
    "X_test_rfe = sm.add_constant(X_test_rfe)"
   ]
  },
  {
   "cell_type": "code",
   "execution_count": null,
   "metadata": {},
   "outputs": [],
   "source": [
    "# Making predictions\n",
    "y_pred = lm_5.predict(X_test_rfe)"
   ]
  },
  {
   "cell_type": "markdown",
   "metadata": {},
   "source": [
    "### Model Evaluation"
   ]
  },
  {
   "cell_type": "code",
   "execution_count": null,
   "metadata": {},
   "outputs": [],
   "source": [
    "# Actual and Predicted\n",
    "import matplotlib.pyplot as plt\n",
    "c = [i for i in range(1,63,1)] # generating index \n",
    "fig = plt.figure() \n",
    "plt.plot(c,y_test, color=\"blue\", linewidth=2.5, linestyle=\"-\") #Plotting Actual\n",
    "plt.plot(c,y_pred, color=\"red\",  linewidth=2.5, linestyle=\"-\") #Plotting predicted\n",
    "fig.suptitle('Actual and Predicted', fontsize=20)              # Plot heading \n",
    "plt.xlabel('Index', fontsize=18)                               # X-label\n",
    "plt.ylabel('Car Price', fontsize=16)     "
   ]
  },
  {
   "cell_type": "markdown",
   "metadata": {},
   "source": [
    "### Error Terms"
   ]
  },
  {
   "cell_type": "code",
   "execution_count": null,
   "metadata": {},
   "outputs": [],
   "source": [
    "# Error terms\n",
    "c = [i for i in range(1,63,1)]\n",
    "fig = plt.figure()\n",
    "plt.plot(c,y_test-y_pred, color=\"blue\", linewidth=2.5, linestyle=\"-\")\n",
    "fig.suptitle('Error Terms', fontsize=20)              # Plot heading \n",
    "plt.xlabel('Index', fontsize=18)                      # X-label\n",
    "plt.ylabel('ytest-ypred', fontsize=16) "
   ]
  },
  {
   "cell_type": "code",
   "execution_count": null,
   "metadata": {},
   "outputs": [],
   "source": [
    "# Plotting y_test and y_pred to understand the spread.\n",
    "fig = plt.figure()\n",
    "plt.scatter(y_test,y_pred)\n",
    "fig.suptitle('y_test vs y_pred', fontsize=20)              # Plot heading \n",
    "plt.xlabel('y_test', fontsize=18)                          # X-label\n",
    "plt.ylabel('y_pred', fontsize=16)                          # Y-label"
   ]
  },
  {
   "cell_type": "code",
   "execution_count": null,
   "metadata": {},
   "outputs": [],
   "source": [
    "# Plotting the error terms to understand the distribution.\n",
    "fig = plt.figure()\n",
    "sns.distplot((y_test-y_pred),bins=50)\n",
    "fig.suptitle('Error Terms', fontsize=20)                  # Plot heading \n",
    "plt.xlabel('y_test-y_pred', fontsize=18)                  # X-label\n",
    "plt.ylabel('Index', fontsize=16)                          # Y-label"
   ]
  },
  {
   "cell_type": "code",
   "execution_count": null,
   "metadata": {},
   "outputs": [],
   "source": [
    "# Now let's check the Root Mean Square Error of our model.\n",
    "import numpy as np\n",
    "from sklearn import metrics\n",
    "print('RMSE :', np.sqrt(metrics.mean_squared_error(y_test, y_pred)))"
   ]
  },
  {
   "cell_type": "code",
   "execution_count": null,
   "metadata": {},
   "outputs": [],
   "source": []
  }
 ],
 "metadata": {
  "kernelspec": {
   "display_name": "Python 3",
   "language": "python",
   "name": "python3"
  },
  "language_info": {
   "codemirror_mode": {
    "name": "ipython",
    "version": 3
   },
   "file_extension": ".py",
   "mimetype": "text/x-python",
   "name": "python",
   "nbconvert_exporter": "python",
   "pygments_lexer": "ipython3",
   "version": "3.7.3"
  },
  "toc": {
   "base_numbering": 1,
   "nav_menu": {},
   "number_sections": true,
   "sideBar": true,
   "skip_h1_title": false,
   "title_cell": "Table of Contents",
   "title_sidebar": "Contents",
   "toc_cell": false,
   "toc_position": {},
   "toc_section_display": true,
   "toc_window_display": false
  },
  "varInspector": {
   "cols": {
    "lenName": 16,
    "lenType": 16,
    "lenVar": 40
   },
   "kernels_config": {
    "python": {
     "delete_cmd_postfix": "",
     "delete_cmd_prefix": "del ",
     "library": "var_list.py",
     "varRefreshCmd": "print(var_dic_list())"
    },
    "r": {
     "delete_cmd_postfix": ") ",
     "delete_cmd_prefix": "rm(",
     "library": "var_list.r",
     "varRefreshCmd": "cat(var_dic_list()) "
    }
   },
   "types_to_exclude": [
    "module",
    "function",
    "builtin_function_or_method",
    "instance",
    "_Feature"
   ],
   "window_display": false
  }
 },
 "nbformat": 4,
 "nbformat_minor": 2
}
