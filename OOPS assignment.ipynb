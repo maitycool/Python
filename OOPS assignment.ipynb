{
 "cells": [
  {
   "cell_type": "code",
   "execution_count": 93,
   "metadata": {},
   "outputs": [],
   "source": [
    "l1=[1,2,3,4,5,6]\n",
    "l2=[6,5,4,3,2,1]"
   ]
  },
  {
   "cell_type": "code",
   "execution_count": 94,
   "metadata": {},
   "outputs": [
    {
     "name": "stdout",
     "output_type": "stream",
     "text": [
      "l1 is greater than l2\n",
      "l1 is greater than l2\n",
      "l1 is greater than l2\n",
      "l1 is smaller than l2\n",
      "l1 is smaller than l2\n",
      "l1 is smaller than l2\n"
     ]
    }
   ],
   "source": [
    "for i in range(6):\n",
    "    if (l2[i]>l1[i]):\n",
    "        print(\"l1 is greater than l2\")\n",
    "    else:\n",
    "            print(\"l1 is smaller than l2\")"
   ]
  },
  {
   "cell_type": "code",
   "execution_count": 30,
   "metadata": {},
   "outputs": [],
   "source": [
    "#another method:"
   ]
  },
  {
   "cell_type": "code",
   "execution_count": 32,
   "metadata": {},
   "outputs": [
    {
     "name": "stdout",
     "output_type": "stream",
     "text": [
      "l1 is less then l2\n",
      "l1 is less then l2\n",
      "l1 is less then l2\n",
      "l1is greater than l2\n",
      "l1is greater than l2\n",
      "l1is greater than l2\n"
     ]
    }
   ],
   "source": [
    "for i,num in enumerate(l1):\n",
    "    message=\"l1is greater than l2\"if l1[i]>l2[i] else \"l1 is less then l2\"\n",
    "    print(message)"
   ]
  },
  {
   "cell_type": "code",
   "execution_count": 22,
   "metadata": {},
   "outputs": [],
   "source": [
    "s1=(10,20,30,40,50)"
   ]
  },
  {
   "cell_type": "code",
   "execution_count": 25,
   "metadata": {},
   "outputs": [
    {
     "name": "stdout",
     "output_type": "stream",
     "text": [
      "15\n",
      "25\n",
      "35\n",
      "45\n",
      "55\n"
     ]
    }
   ],
   "source": [
    "for i in s1:\n",
    "    i=i+5\n",
    "    print(i)"
   ]
  },
  {
   "cell_type": "code",
   "execution_count": 33,
   "metadata": {},
   "outputs": [],
   "source": [
    "s2=10,20,30,40,50"
   ]
  },
  {
   "cell_type": "code",
   "execution_count": 34,
   "metadata": {},
   "outputs": [
    {
     "data": {
      "text/plain": [
       "tuple"
      ]
     },
     "execution_count": 34,
     "metadata": {},
     "output_type": "execute_result"
    }
   ],
   "source": [
    "type(s2)"
   ]
  },
  {
   "cell_type": "code",
   "execution_count": 35,
   "metadata": {},
   "outputs": [],
   "source": [
    "#other method"
   ]
  },
  {
   "cell_type": "code",
   "execution_count": 42,
   "metadata": {},
   "outputs": [],
   "source": [
    "data=10,20,30,40,50"
   ]
  },
  {
   "cell_type": "code",
   "execution_count": 51,
   "metadata": {},
   "outputs": [
    {
     "name": "stdout",
     "output_type": "stream",
     "text": [
      "tuple before adding 5:\n",
      "10,20,30,40,50,\n",
      "tuple after adding 5:\n",
      "15, 25, 35, 45, 55, "
     ]
    }
   ],
   "source": [
    "print(\"tuple before adding 5:\")\n",
    "for item in data:\n",
    "    print(item,end=\",\")\n",
    "\n",
    "print(\"\\ntuple after adding 5:\")\n",
    "result=(item+5 for item in data)\n",
    "for item in result:\n",
    "    print (item,end=\", \")"
   ]
  },
  {
   "cell_type": "code",
   "execution_count": 55,
   "metadata": {},
   "outputs": [
    {
     "name": "stdout",
     "output_type": "stream",
     "text": [
      "enter the no :10\n",
      "20\n"
     ]
    }
   ],
   "source": [
    "def add_10():\n",
    "    x=input(\"enter the no :\")\n",
    "    x=int(x)\n",
    "    x=x+10\n",
    "    print(x)\n",
    "add_10()"
   ]
  },
  {
   "cell_type": "markdown",
   "metadata": {},
   "source": [
    "#Another method"
   ]
  },
  {
   "cell_type": "code",
   "execution_count": 56,
   "metadata": {},
   "outputs": [],
   "source": [
    "def add_10():\n",
    "    num=int(input(\"enter the no :\"))\n",
    "    num=num+10\n",
    "    return num"
   ]
  },
  {
   "cell_type": "code",
   "execution_count": 57,
   "metadata": {},
   "outputs": [
    {
     "name": "stdout",
     "output_type": "stream",
     "text": [
      "enter the no :10\n"
     ]
    },
    {
     "data": {
      "text/plain": [
       "20"
      ]
     },
     "execution_count": 57,
     "metadata": {},
     "output_type": "execute_result"
    }
   ],
   "source": [
    "add_10()"
   ]
  },
  {
   "cell_type": "code",
   "execution_count": 58,
   "metadata": {},
   "outputs": [],
   "source": [
    "def check_odd_even(num):\n",
    "    print(\"odd number\" if num%2!=0 else \"even number\")"
   ]
  },
  {
   "cell_type": "code",
   "execution_count": 59,
   "metadata": {},
   "outputs": [
    {
     "name": "stdout",
     "output_type": "stream",
     "text": [
      "odd number\n"
     ]
    }
   ],
   "source": [
    "check_odd_even(21)"
   ]
  },
  {
   "cell_type": "code",
   "execution_count": 60,
   "metadata": {},
   "outputs": [],
   "source": [
    "#another method"
   ]
  },
  {
   "cell_type": "code",
   "execution_count": 61,
   "metadata": {},
   "outputs": [],
   "source": [
    "def check_odd_even():\n",
    "    num=int(input(\"enter the no :\"))\n",
    "    \n",
    "    if num%2!=0:\n",
    "        print(\"even\")\n",
    "        else:"
   ]
  },
  {
   "cell_type": "code",
   "execution_count": 62,
   "metadata": {},
   "outputs": [],
   "source": [
    "#python oops assignment"
   ]
  },
  {
   "cell_type": "code",
   "execution_count": 76,
   "metadata": {},
   "outputs": [],
   "source": [
    "class BankAccount:\n",
    "\n",
    "    def __init__(self):\n",
    "        self.bal=0\n",
    "    def check_balance(self):\n",
    "        print(\"the current balance is:\",self.bal)\n",
    "    def deposit(self,amount):\n",
    "        self.bal=self.bal+amount\n",
    "        print(\"the amount deposited is :\",amount)\n",
    "    def withdrawn(self,wamt):\n",
    "        if self.bal>=wamt:\n",
    "            self.bal=self.bal-wamt\n",
    "        else:\n",
    "            print(\"insufficient amount\")\n",
    "                "
   ]
  },
  {
   "cell_type": "code",
   "execution_count": 82,
   "metadata": {},
   "outputs": [],
   "source": [
    "ob1=BankAccount()"
   ]
  },
  {
   "cell_type": "code",
   "execution_count": 83,
   "metadata": {},
   "outputs": [
    {
     "name": "stdout",
     "output_type": "stream",
     "text": [
      "the current balance is: 0\n"
     ]
    }
   ],
   "source": [
    "ob1.check_balance()"
   ]
  },
  {
   "cell_type": "code",
   "execution_count": 84,
   "metadata": {},
   "outputs": [
    {
     "name": "stdout",
     "output_type": "stream",
     "text": [
      "the amount deposited is : 8000\n"
     ]
    }
   ],
   "source": [
    "ob1.deposit(8000)"
   ]
  },
  {
   "cell_type": "code",
   "execution_count": 85,
   "metadata": {},
   "outputs": [
    {
     "name": "stdout",
     "output_type": "stream",
     "text": [
      "the current balance is: 7700\n"
     ]
    }
   ],
   "source": [
    "ob1.withdrawn(300)\n",
    "ob1.check_balance()#we have call 3 times that's why result 7700\n"
   ]
  },
  {
   "cell_type": "code",
   "execution_count": 1,
   "metadata": {},
   "outputs": [],
   "source": [
    "list=[2,4,5]"
   ]
  },
  {
   "cell_type": "code",
   "execution_count": 2,
   "metadata": {},
   "outputs": [
    {
     "data": {
      "text/plain": [
       "[2, 4, 5]"
      ]
     },
     "execution_count": 2,
     "metadata": {},
     "output_type": "execute_result"
    }
   ],
   "source": [
    "list"
   ]
  },
  {
   "cell_type": "code",
   "execution_count": null,
   "metadata": {},
   "outputs": [],
   "source": []
  },
  {
   "cell_type": "code",
   "execution_count": null,
   "metadata": {},
   "outputs": [],
   "source": []
  }
 ],
 "metadata": {
  "kernelspec": {
   "display_name": "Python 3",
   "language": "python",
   "name": "python3"
  },
  "language_info": {
   "codemirror_mode": {
    "name": "ipython",
    "version": 3
   },
   "file_extension": ".py",
   "mimetype": "text/x-python",
   "name": "python",
   "nbconvert_exporter": "python",
   "pygments_lexer": "ipython3",
   "version": "3.6.9"
  }
 },
 "nbformat": 4,
 "nbformat_minor": 4
}
