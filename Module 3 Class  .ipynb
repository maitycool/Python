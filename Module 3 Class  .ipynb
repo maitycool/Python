{
 "cells": [
  {
   "cell_type": "code",
   "execution_count": 1,
   "metadata": {},
   "outputs": [],
   "source": [
    "class Employee:\n",
    "    leave=[]\n",
    "    def __init__(self,EmpID,EmpName):\n",
    "        self.EmpID=EmpID\n",
    "        self.EmpName=EmpName\n",
    "    def apply_leaves(self,date):\n",
    "        self.leave.append(leave)\n",
    "        \n",
    "        "
   ]
  },
  {
   "cell_type": "code",
   "execution_count": 90,
   "metadata": {},
   "outputs": [],
   "source": [
    "class Manager(Employee):\n",
    "    repotee=[]\n",
    "    def __init__(self,Dept,*args,**kwargs):\n",
    "        self.Dept=Dept\n",
    "        super().__init__(*args,**kwargs)\n",
    "    def add_repotee(self,repotee):\n",
    "        self.repotee(repotee)\n",
    "    def __str__(self):\n",
    "        return \"\".join([self.Dept,str(self.EmpID),self.EmpName])"
   ]
  },
  {
   "cell_type": "code",
   "execution_count": 91,
   "metadata": {},
   "outputs": [],
   "source": [
    "mgr1=Manager('HR',104, 'Mark')"
   ]
  },
  {
   "cell_type": "code",
   "execution_count": 89,
   "metadata": {},
   "outputs": [
    {
     "name": "stdout",
     "output_type": "stream",
     "text": [
      "<__main__.Manager object at 0x7f1ff589d3c8>\n"
     ]
    }
   ],
   "source": [
    "print(mgr1)"
   ]
  },
  {
   "cell_type": "code",
   "execution_count": 77,
   "metadata": {},
   "outputs": [
    {
     "name": "stdout",
     "output_type": "stream",
     "text": [
      "Emploee name is: deep \n",
      "Employee ID is: 104\n"
     ]
    }
   ],
   "source": [
    "print(\"Emploee name is:\",mgr1.EmpName,\"\\nEmployee ID is:\",mgr1.EmpID)"
   ]
  },
  {
   "cell_type": "code",
   "execution_count": 55,
   "metadata": {},
   "outputs": [
    {
     "data": {
      "text/plain": [
       "{'Dept': 'HR', 'EmpID': 104, 'EmpName': 'MARK'}"
      ]
     },
     "execution_count": 55,
     "metadata": {},
     "output_type": "execute_result"
    }
   ],
   "source": [
    "mgr1.__dict__"
   ]
  },
  {
   "cell_type": "code",
   "execution_count": 53,
   "metadata": {},
   "outputs": [
    {
     "data": {
      "text/plain": [
       "('HR', 'MARK', 104)"
      ]
     },
     "execution_count": 53,
     "metadata": {},
     "output_type": "execute_result"
    }
   ],
   "source": [
    "mgr1.Dept,mgr1.EmpName,mgr1.EmpID"
   ]
  },
  {
   "cell_type": "code",
   "execution_count": 19,
   "metadata": {},
   "outputs": [],
   "source": [
    "mgr1.add_repotee(101)"
   ]
  },
  {
   "cell_type": "code",
   "execution_count": 20,
   "metadata": {},
   "outputs": [
    {
     "data": {
      "text/plain": [
       "[101]"
      ]
     },
     "execution_count": 20,
     "metadata": {},
     "output_type": "execute_result"
    }
   ],
   "source": [
    "mgr1.repotee"
   ]
  }
 ],
 "metadata": {
  "kernelspec": {
   "display_name": "Python 3",
   "language": "python",
   "name": "python3"
  },
  "language_info": {
   "codemirror_mode": {
    "name": "ipython",
    "version": 3
   },
   "file_extension": ".py",
   "mimetype": "text/x-python",
   "name": "python",
   "nbconvert_exporter": "python",
   "pygments_lexer": "ipython3",
   "version": "3.6.9"
  }
 },
 "nbformat": 4,
 "nbformat_minor": 4
}
