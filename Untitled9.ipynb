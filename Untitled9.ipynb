{
 "cells": [
  {
   "cell_type": "code",
   "execution_count": 6,
   "metadata": {},
   "outputs": [],
   "source": [
    "l1=[1,2,3,4,5,6]\n",
    "l2=[6,5,4,3,2,1]"
   ]
  },
  {
   "cell_type": "code",
   "execution_count": 8,
   "metadata": {},
   "outputs": [
    {
     "name": "stdout",
     "output_type": "stream",
     "text": [
      "L1 element is less than L2 element\n",
      "L1 element is less than L2 element\n",
      "L1 element is less than L2 element\n",
      "L1 element is greater than L2 element\n",
      "L1 element is greater than L2 element\n",
      "L1 element is greater than L2 element\n"
     ]
    }
   ],
   "source": [
    "for i in range(6):\n",
    "    if(l1[i]<l2[i]):\n",
    "        print(\"L1 element is less than L2 element\")\n",
    "    else:\n",
    "        print(\"L1 element is greater than L2 element\")"
   ]
  },
  {
   "cell_type": "code",
   "execution_count": 10,
   "metadata": {},
   "outputs": [
    {
     "name": "stdout",
     "output_type": "stream",
     "text": [
      "L1 element is less than L2 element\n",
      "L1 element is less than L2 element\n",
      "L1 element is less than L2 element\n",
      "L1 element is greater than L2 element\n",
      "L1 element is greater than L2 element\n",
      "L1 element is greater than L2 element\n"
     ]
    }
   ],
   "source": [
    "l1 = [1,2,3,4,5,6]\n",
    "l2 = [6,5,4,3,2,1]\n",
    "\n",
    "i = 0\n",
    "for x in l1 and l2:\n",
    "  if i < len(l1):   \n",
    "    if (l1[i] > l2[i]):\n",
    "      print(\"L1 element is greater than L2 element\")\n",
    "    else:\n",
    "      print(\"L1 element is less than L2 element\")\n",
    "    i+=1\n"
   ]
  },
  {
   "cell_type": "code",
   "execution_count": 15,
   "metadata": {},
   "outputs": [
    {
     "name": "stdout",
     "output_type": "stream",
     "text": [
      "L1 element is less than L2 element \n",
      "L1 element is less than L2 element \n",
      "L1 element is less than L2 element \n",
      "L1 is greater than L2 \n",
      "L1 is greater than L2 \n",
      "L1 is greater than L2 \n"
     ]
    }
   ],
   "source": [
    "for i,num in enumerate(l1):\n",
    "    message=\"L1 is greater than L2 \" if l1[i]>l2[i] else \"L1 element is less than L2 element \"\n",
    "    print(message)\n",
    "    #print(num)"
   ]
  },
  {
   "cell_type": "code",
   "execution_count": 23,
   "metadata": {},
   "outputs": [
    {
     "name": "stdout",
     "output_type": "stream",
     "text": [
      "Tuple before adding 5: \n",
      "10, 20, 30, 40, 50, \n",
      "Tuple after adding 5: \n",
      "15, 25, 35, 45, 55, "
     ]
    }
   ],
   "source": [
    "data=10,20,30,40,50\n",
    "print(\"Tuple before adding 5: \")\n",
    "for item in data:\n",
    "    print(item, end=\", \")\n",
    "result=(item +5 for item in data)\n",
    "print(\"\\nTuple after adding 5: \")\n",
    "for item in result:\n",
    "    print(item, end=\", \")"
   ]
  },
  {
   "cell_type": "code",
   "execution_count": 25,
   "metadata": {},
   "outputs": [
    {
     "name": "stdout",
     "output_type": "stream",
     "text": [
      "(10, 20, 30, 40, 50, 60)\n",
      "10, 20, 30, 40, 50, 60, <generator object <genexpr> at 0x000002D35223FEC8>\n",
      "15, 25, 35, 45, 55, 65, "
     ]
    }
   ],
   "source": [
    "data=(10,20,30,40,50,60)\n",
    "print (data)\n",
    "for item in data:\n",
    "    print (item, end=\", \") \n",
    "result = (item2 +5 for item2 in data)\n",
    "print(result)\n",
    "for item in result:\n",
    "    print(item, end=\", \")"
   ]
  },
  {
   "cell_type": "code",
   "execution_count": 26,
   "metadata": {},
   "outputs": [
    {
     "name": "stdout",
     "output_type": "stream",
     "text": [
      "(15, 25, 35, 45, 55) Added 5 to each element of tuple\n"
     ]
    }
   ],
   "source": [
    "tupleT1 = (10,20,30,40,50)\n",
    "tuplist = list(tupleT1)\n",
    "for i in range(5):\n",
    "    tuplist[i] = tuplist[i] + 5\n",
    "tupleT1 = tuple(tuplist)\n",
    "print (tupleT1, 'Added 5 to each element of tuple')  "
   ]
  },
  {
   "cell_type": "code",
   "execution_count": 27,
   "metadata": {},
   "outputs": [
    {
     "name": "stdout",
     "output_type": "stream",
     "text": [
      "(15, 25, 35, 45, 55)\n"
     ]
    }
   ],
   "source": [
    "my_tuple = (10,20,30,40,50)\n",
    "my_tuple_add = ()\n",
    "for i in my_tuple:\n",
    "    my_tuple_add += ((i+5),) \n",
    "print(my_tuple_add)"
   ]
  },
  {
   "cell_type": "code",
   "execution_count": 30,
   "metadata": {},
   "outputs": [],
   "source": [
    "def add_10(num):\n",
    "    return num+10 "
   ]
  },
  {
   "cell_type": "code",
   "execution_count": 31,
   "metadata": {},
   "outputs": [
    {
     "data": {
      "text/plain": [
       "23"
      ]
     },
     "execution_count": 31,
     "metadata": {},
     "output_type": "execute_result"
    }
   ],
   "source": [
    "add_10(13)"
   ]
  },
  {
   "cell_type": "code",
   "execution_count": 33,
   "metadata": {},
   "outputs": [
    {
     "name": "stdout",
     "output_type": "stream",
     "text": [
      "enter the no :21\n",
      "31\n"
     ]
    }
   ],
   "source": [
    "def add_10(x):\n",
    "    x=input(\"enter the no :\")\n",
    "    x=int(x)\n",
    "    x=x+10\n",
    "    print(x)\n",
    "add_10(10)"
   ]
  },
  {
   "cell_type": "code",
   "execution_count": 36,
   "metadata": {},
   "outputs": [],
   "source": [
    "def add_10():\n",
    "    num=int(input(\"enter a number: \"))\n",
    "    num=num+10\n",
    "    return num    "
   ]
  },
  {
   "cell_type": "code",
   "execution_count": 39,
   "metadata": {},
   "outputs": [
    {
     "name": "stdout",
     "output_type": "stream",
     "text": [
      "enter a number: 21\n"
     ]
    },
    {
     "data": {
      "text/plain": [
       "31"
      ]
     },
     "execution_count": 39,
     "metadata": {},
     "output_type": "execute_result"
    }
   ],
   "source": [
    "add_10()"
   ]
  },
  {
   "cell_type": "code",
   "execution_count": 42,
   "metadata": {},
   "outputs": [],
   "source": [
    "def check_odd_even(num):\n",
    "    print('Odd number' if num%2!=0 else 'even number')"
   ]
  },
  {
   "cell_type": "code",
   "execution_count": 44,
   "metadata": {},
   "outputs": [
    {
     "name": "stdout",
     "output_type": "stream",
     "text": [
      "even number\n"
     ]
    }
   ],
   "source": [
    "check_odd_even(20)"
   ]
  },
  {
   "cell_type": "code",
   "execution_count": 45,
   "metadata": {},
   "outputs": [],
   "source": [
    "def check_oddeven():\n",
    "    num=int(input(\"enter a number: \"))\n",
    "    print('Odd number' if num%2!=0 else 'even number')  "
   ]
  },
  {
   "cell_type": "code",
   "execution_count": 46,
   "metadata": {},
   "outputs": [
    {
     "name": "stdout",
     "output_type": "stream",
     "text": [
      "enter a number: 33\n",
      "Odd number\n"
     ]
    }
   ],
   "source": [
    "check_oddeven()"
   ]
  },
  {
   "cell_type": "code",
   "execution_count": 47,
   "metadata": {},
   "outputs": [],
   "source": [
    "def check_odd_even():\n",
    "    number = int(input(\"Enter the number: \"))\n",
    "    if number%2 != 0:\n",
    "        print(\"Odd number\")\n",
    "    else:\n",
    "        print(\"Even number\")\n"
   ]
  },
  {
   "cell_type": "code",
   "execution_count": 48,
   "metadata": {},
   "outputs": [
    {
     "name": "stdout",
     "output_type": "stream",
     "text": [
      "Enter the number: 32\n",
      "Even number\n"
     ]
    }
   ],
   "source": [
    "check_odd_even()"
   ]
  },
  {
   "cell_type": "code",
   "execution_count": 49,
   "metadata": {},
   "outputs": [],
   "source": [
    "class BankAccount:\n",
    "    def __init__(self):\n",
    "        self.bal=0\n",
    "    def check_balance(self):\n",
    "        print('The current balance is: ', self.bal)\n",
    "    def deposit(self, amount):\n",
    "        self.bal=self.bal+amount\n",
    "    def withdraw(self,wamt):\n",
    "        if self.bal>=wamt:\n",
    "            self.bal=self.bal-wamt\n",
    "        else:\n",
    "            print(\"insufficient balance\")       "
   ]
  },
  {
   "cell_type": "code",
   "execution_count": 51,
   "metadata": {},
   "outputs": [],
   "source": [
    "ob1=BankAccount()"
   ]
  },
  {
   "cell_type": "code",
   "execution_count": 52,
   "metadata": {},
   "outputs": [
    {
     "name": "stdout",
     "output_type": "stream",
     "text": [
      "The current balance is:  0\n"
     ]
    }
   ],
   "source": [
    "ob1.check_balance()"
   ]
  },
  {
   "cell_type": "code",
   "execution_count": 53,
   "metadata": {},
   "outputs": [],
   "source": [
    "ob1.deposit(2000)"
   ]
  },
  {
   "cell_type": "code",
   "execution_count": 54,
   "metadata": {},
   "outputs": [
    {
     "name": "stdout",
     "output_type": "stream",
     "text": [
      "The current balance is:  2000\n"
     ]
    }
   ],
   "source": [
    "ob1.check_balance()"
   ]
  },
  {
   "cell_type": "code",
   "execution_count": 55,
   "metadata": {},
   "outputs": [],
   "source": [
    "ob1.withdraw(800)"
   ]
  },
  {
   "cell_type": "code",
   "execution_count": 56,
   "metadata": {},
   "outputs": [
    {
     "name": "stdout",
     "output_type": "stream",
     "text": [
      "The current balance is:  1200\n"
     ]
    }
   ],
   "source": [
    "ob1.check_balance()"
   ]
  },
  {
   "cell_type": "code",
   "execution_count": 57,
   "metadata": {},
   "outputs": [
    {
     "name": "stdout",
     "output_type": "stream",
     "text": [
      "insufficient balance\n"
     ]
    }
   ],
   "source": [
    "ob1.withdraw(1800)"
   ]
  },
  {
   "cell_type": "code",
   "execution_count": 58,
   "metadata": {},
   "outputs": [],
   "source": [
    "class BankAccount:\n",
    "    bal=0   \n",
    "    def check_balance(self):\n",
    "        print('The current balance is: ', self.bal)\n",
    "    def deposit(self, amount):\n",
    "        self.bal=self.bal+amount\n",
    "    def withdraw(self,wamt):\n",
    "        if self.bal>=wamt:\n",
    "            self.bal=self.bal-wamt\n",
    "        else:\n",
    "            print(\"insufficient balance\") "
   ]
  },
  {
   "cell_type": "code",
   "execution_count": null,
   "metadata": {},
   "outputs": [],
   "source": []
  }
 ],
 "metadata": {
  "kernelspec": {
   "display_name": "Python 3",
   "language": "python",
   "name": "python3"
  },
  "language_info": {
   "codemirror_mode": {
    "name": "ipython",
    "version": 3
   },
   "file_extension": ".py",
   "mimetype": "text/x-python",
   "name": "python",
   "nbconvert_exporter": "python",
   "pygments_lexer": "ipython3",
   "version": "3.7.6"
  }
 },
 "nbformat": 4,
 "nbformat_minor": 4
}
