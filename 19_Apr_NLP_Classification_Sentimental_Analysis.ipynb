{
  "nbformat": 4,
  "nbformat_minor": 0,
  "metadata": {
    "colab": {
      "name": "19_Apr_NLP_Classification_Sentimental_Analysis.ipynb",
      "provenance": []
    },
    "kernelspec": {
      "name": "python3",
      "display_name": "Python 3"
    }
  },
  "cells": [
    {
      "cell_type": "code",
      "metadata": {
        "id": "96iu9h5_Stle",
        "colab_type": "code",
        "colab": {}
      },
      "source": [
        "# LSTM -> Long Short Term Memory\n",
        "# Pre-requisite: Upload the Sentiment.csv file here to run this \n",
        "\n",
        "\n",
        "\n"
      ],
      "execution_count": 0,
      "outputs": []
    },
    {
      "cell_type": "code",
      "metadata": {
        "id": "G0Ya_s2KWlOw",
        "colab_type": "code",
        "colab": {}
      },
      "source": [
        "import pandas as pd\n",
        "import numpy as np\n",
        "import matplotlib.pyplot as plt\n",
        "import spacy"
      ],
      "execution_count": 0,
      "outputs": []
    },
    {
      "cell_type": "code",
      "metadata": {
        "id": "J3czCiEsWswO",
        "colab_type": "code",
        "colab": {}
      },
      "source": [
        "df = pd.read_csv(\"Sentiment.csv\")"
      ],
      "execution_count": 0,
      "outputs": []
    },
    {
      "cell_type": "code",
      "metadata": {
        "id": "Wpeyw96dWzFk",
        "colab_type": "code",
        "colab": {}
      },
      "source": [
        "df.head()"
      ],
      "execution_count": 0,
      "outputs": []
    },
    {
      "cell_type": "code",
      "metadata": {
        "id": "EpuIgRwvW0rU",
        "colab_type": "code",
        "colab": {
          "base_uri": "https://localhost:8080/",
          "height": 85
        },
        "outputId": "82a149e7-627f-4c6b-d982-4a82ca05a999"
      },
      "source": [
        "df.sentiment.value_counts()"
      ],
      "execution_count": 5,
      "outputs": [
        {
          "output_type": "execute_result",
          "data": {
            "text/plain": [
              "Negative    8493\n",
              "Neutral     3142\n",
              "Positive    2236\n",
              "Name: sentiment, dtype: int64"
            ]
          },
          "metadata": {
            "tags": []
          },
          "execution_count": 5
        }
      ]
    },
    {
      "cell_type": "code",
      "metadata": {
        "id": "Gud89ZOPXKlJ",
        "colab_type": "code",
        "colab": {
          "base_uri": "https://localhost:8080/",
          "height": 265
        },
        "outputId": "f6741e1f-8b07-4612-bdfc-346f48cdc60a"
      },
      "source": [
        "df.sentiment.value_counts().plot.pie()"
      ],
      "execution_count": 6,
      "outputs": [
        {
          "output_type": "execute_result",
          "data": {
            "text/plain": [
              "<matplotlib.axes._subplots.AxesSubplot at 0x7fcc5e90fb00>"
            ]
          },
          "metadata": {
            "tags": []
          },
          "execution_count": 6
        },
        {
          "output_type": "display_data",
          "data": {
            "image/png": "[encoded data removed]",
            "text/plain": [
              "<Figure size 432x288 with 1 Axes>"
            ]
          },
          "metadata": {
            "tags": []
          }
        }
      ]
    },
    {
      "cell_type": "code",
      "metadata": {
        "id": "DtBhHc4HXVqV",
        "colab_type": "code",
        "colab": {
          "base_uri": "https://localhost:8080/",
          "height": 221
        },
        "outputId": "71bd4abd-34d6-471c-9749-a2f744fdec7a"
      },
      "source": [
        "df.candidate.value_counts()"
      ],
      "execution_count": 7,
      "outputs": [
        {
          "output_type": "execute_result",
          "data": {
            "text/plain": [
              "No candidate mentioned    7491\n",
              "Donald Trump              2813\n",
              "Jeb Bush                   705\n",
              "Ted Cruz                   637\n",
              "Ben Carson                 404\n",
              "Mike Huckabee              393\n",
              "Chris Christie             293\n",
              "Marco Rubio                275\n",
              "Rand Paul                  263\n",
              "Scott Walker               259\n",
              "John Kasich                242\n",
              "Name: candidate, dtype: int64"
            ]
          },
          "metadata": {
            "tags": []
          },
          "execution_count": 7
        }
      ]
    },
    {
      "cell_type": "code",
      "metadata": {
        "id": "ncuQqP_CXbcd",
        "colab_type": "code",
        "colab": {}
      },
      "source": [
        "# Group by\n",
        "df.groupby([\"candidate\",\"sentiment\"]).size()"
      ],
      "execution_count": 0,
      "outputs": []
    },
    {
      "cell_type": "code",
      "metadata": {
        "id": "LcPyXHkeXvSP",
        "colab_type": "code",
        "colab": {}
      },
      "source": [
        "df2 = df[[\"candidate\",\"sentiment\",\"text\"]]"
      ],
      "execution_count": 0,
      "outputs": []
    },
    {
      "cell_type": "code",
      "metadata": {
        "id": "5WAxpLuPYNGq",
        "colab_type": "code",
        "colab": {
          "base_uri": "https://localhost:8080/",
          "height": 85
        },
        "outputId": "5ece0c0f-c265-44d1-bf82-645448e3c713"
      },
      "source": [
        "df2.head()\n",
        "#df2.dtypes"
      ],
      "execution_count": 13,
      "outputs": [
        {
          "output_type": "execute_result",
          "data": {
            "text/plain": [
              "candidate    object\n",
              "sentiment    object\n",
              "text         object\n",
              "dtype: object"
            ]
          },
          "metadata": {
            "tags": []
          },
          "execution_count": 13
        }
      ]
    },
    {
      "cell_type": "code",
      "metadata": {
        "id": "waSWZ8PdYOvH",
        "colab_type": "code",
        "colab": {}
      },
      "source": [
        "# Preprocessing on this data now\n",
        "def tweet_process(tweet):\n",
        "  tweet = str(tweet)\n",
        "  if tweet.startswith(\"RT @\"):\n",
        "    tweet = tweet.replace(\"RT @\",\"\")\n",
        "\n",
        "  return tweet"
      ],
      "execution_count": 0,
      "outputs": []
    },
    {
      "cell_type": "code",
      "metadata": {
        "id": "ZjbgusOVZXHe",
        "colab_type": "code",
        "colab": {
          "base_uri": "https://localhost:8080/",
          "height": 139
        },
        "outputId": "2616a101-f037-4207-859c-ce39be620f35"
      },
      "source": [
        "df2.text = df2.text.apply(lambda x:tweet_process(x))"
      ],
      "execution_count": 17,
      "outputs": [
        {
          "output_type": "stream",
          "text": [
            "/usr/local/lib/python3.6/dist-packages/pandas/core/generic.py:5303: SettingWithCopyWarning: \n",
            "A value is trying to be set on a copy of a slice from a DataFrame.\n",
            "Try using .loc[row_indexer,col_indexer] = value instead\n",
            "\n",
            "See the caveats in the documentation: https://pandas.pydata.org/pandas-docs/stable/user_guide/indexing.html#returning-a-view-versus-a-copy\n",
            "  self[name] = value\n"
          ],
          "name": "stderr"
        }
      ]
    },
    {
      "cell_type": "code",
      "metadata": {
        "id": "K_YH2uvZZ2Va",
        "colab_type": "code",
        "colab": {
          "base_uri": "https://localhost:8080/",
          "height": 204
        },
        "outputId": "402f58de-ff2f-4e12-f3cc-e3ca6cc90623"
      },
      "source": [
        "# After processing lets see\n",
        "df2.head()"
      ],
      "execution_count": 18,
      "outputs": [
        {
          "output_type": "execute_result",
          "data": {
            "text/html": [
              "<div>\n",
              "<style scoped>\n",
              "    .dataframe tbody tr th:only-of-type {\n",
              "        vertical-align: middle;\n",
              "    }\n",
              "\n",
              "    .dataframe tbody tr th {\n",
              "        vertical-align: top;\n",
              "    }\n",
              "\n",
              "    .dataframe thead th {\n",
              "        text-align: right;\n",
              "    }\n",
              "</style>\n",
              "<table border=\"1\" class=\"dataframe\">\n",
              "  <thead>\n",
              "    <tr style=\"text-align: right;\">\n",
              "      <th></th>\n",
              "      <th>candidate</th>\n",
              "      <th>sentiment</th>\n",
              "      <th>text</th>\n",
              "    </tr>\n",
              "  </thead>\n",
              "  <tbody>\n",
              "    <tr>\n",
              "      <th>0</th>\n",
              "      <td>No candidate mentioned</td>\n",
              "      <td>Neutral</td>\n",
              "      <td>NancyLeeGrahn: How did everyone feel about the...</td>\n",
              "    </tr>\n",
              "    <tr>\n",
              "      <th>1</th>\n",
              "      <td>Scott Walker</td>\n",
              "      <td>Positive</td>\n",
              "      <td>ScottWalker: Didn't catch the full #GOPdebate ...</td>\n",
              "    </tr>\n",
              "    <tr>\n",
              "      <th>2</th>\n",
              "      <td>No candidate mentioned</td>\n",
              "      <td>Neutral</td>\n",
              "      <td>TJMShow: No mention of Tamir Rice and the #GOP...</td>\n",
              "    </tr>\n",
              "    <tr>\n",
              "      <th>3</th>\n",
              "      <td>No candidate mentioned</td>\n",
              "      <td>Positive</td>\n",
              "      <td>RobGeorge: That Carly Fiorina is trending -- h...</td>\n",
              "    </tr>\n",
              "    <tr>\n",
              "      <th>4</th>\n",
              "      <td>Donald Trump</td>\n",
              "      <td>Positive</td>\n",
              "      <td>DanScavino: #GOPDebate w/ @realDonaldTrump del...</td>\n",
              "    </tr>\n",
              "  </tbody>\n",
              "</table>\n",
              "</div>"
            ],
            "text/plain": [
              "                candidate  ...                                               text\n",
              "0  No candidate mentioned  ...  NancyLeeGrahn: How did everyone feel about the...\n",
              "1            Scott Walker  ...  ScottWalker: Didn't catch the full #GOPdebate ...\n",
              "2  No candidate mentioned  ...  TJMShow: No mention of Tamir Rice and the #GOP...\n",
              "3  No candidate mentioned  ...  RobGeorge: That Carly Fiorina is trending -- h...\n",
              "4            Donald Trump  ...  DanScavino: #GOPDebate w/ @realDonaldTrump del...\n",
              "\n",
              "[5 rows x 3 columns]"
            ]
          },
          "metadata": {
            "tags": []
          },
          "execution_count": 18
        }
      ]
    },
    {
      "cell_type": "code",
      "metadata": {
        "id": "iAc-4Z0VZ65f",
        "colab_type": "code",
        "colab": {}
      },
      "source": [
        "# TODO: Define stopWords removal function"
      ],
      "execution_count": 0,
      "outputs": []
    },
    {
      "cell_type": "code",
      "metadata": {
        "id": "CeHkUGZWab8L",
        "colab_type": "code",
        "colab": {}
      },
      "source": [
        "%tensorflow_version 2.x"
      ],
      "execution_count": 0,
      "outputs": []
    },
    {
      "cell_type": "code",
      "metadata": {
        "id": "lXdb6-1nagMU",
        "colab_type": "code",
        "colab": {}
      },
      "source": [
        "import tensorflow as tf\n",
        "from tensorflow.keras.preprocessing.text import Tokenizer\n",
        "from tensorflow.keras.preprocessing.sequence import pad_sequences"
      ],
      "execution_count": 0,
      "outputs": []
    },
    {
      "cell_type": "code",
      "metadata": {
        "id": "0rCAWI4JbW89",
        "colab_type": "code",
        "colab": {}
      },
      "source": [
        "max_features = 2000\n",
        "smallTokenizer = Tokenizer(num_words=max_features)"
      ],
      "execution_count": 0,
      "outputs": []
    },
    {
      "cell_type": "code",
      "metadata": {
        "id": "VbuF8W4FcWII",
        "colab_type": "code",
        "colab": {}
      },
      "source": [
        "smallTokenizer.fit_on_texts(df2.text)"
      ],
      "execution_count": 0,
      "outputs": []
    },
    {
      "cell_type": "code",
      "metadata": {
        "id": "4TtegOKfcdhx",
        "colab_type": "code",
        "colab": {
          "base_uri": "https://localhost:8080/",
          "height": 1000
        },
        "outputId": "b25601e7-ce6b-40db-f86d-6085846a5e07"
      },
      "source": [
        "smallTokenizer.word_counts"
      ],
      "execution_count": 31,
      "outputs": [
        {
          "output_type": "execute_result",
          "data": {
            "text/plain": [
              "OrderedDict([('nancyleegrahn', 6),\n",
              "             ('how', 625),\n",
              "             ('did', 435),\n",
              "             ('everyone', 92),\n",
              "             ('feel', 64),\n",
              "             ('about', 1143),\n",
              "             ('the', 8907),\n",
              "             ('climate', 72),\n",
              "             ('change', 82),\n",
              "             ('question', 348),\n",
              "             ('last', 891),\n",
              "             ('night', 647),\n",
              "             ('exactly', 22),\n",
              "             ('gopdebate', 8939),\n",
              "             ('scottwalker', 89),\n",
              "             (\"didn't\", 256),\n",
              "             ('catch', 9),\n",
              "             ('full', 45),\n",
              "             ('here', 139),\n",
              "             ('are', 812),\n",
              "             ('some', 167),\n",
              "             ('of', 3379),\n",
              "             (\"scott's\", 2),\n",
              "             ('best', 185),\n",
              "             ('lines', 14),\n",
              "             ('in', 1988),\n",
              "             ('90', 12),\n",
              "             ('seconds', 16),\n",
              "             ('walker16', 28),\n",
              "             ('http', 2992),\n",
              "             ('t', 3723),\n",
              "             ('co', 3608),\n",
              "             ('zsff…', 1),\n",
              "             ('tjmshow', 1),\n",
              "             ('no', 544),\n",
              "             ('mention', 57),\n",
              "             ('tamir', 2),\n",
              "             ('rice', 2),\n",
              "             ('and', 2920),\n",
              "             ('was', 1160),\n",
              "             ('held', 10),\n",
              "             ('cleveland', 37),\n",
              "             ('wow', 55),\n",
              "             ('robgeorge', 1),\n",
              "             ('that', 1446),\n",
              "             ('carly', 107),\n",
              "             ('fiorina', 141),\n",
              "             ('is', 3357),\n",
              "             ('trending', 2),\n",
              "             ('hours', 34),\n",
              "             ('after', 352),\n",
              "             ('her', 195),\n",
              "             ('debate', 1069),\n",
              "             ('above', 5),\n",
              "             ('any', 244),\n",
              "             ('men', 181),\n",
              "             ('just', 772),\n",
              "             ('completed', 1),\n",
              "             ('says', 161),\n",
              "             (\"she's\", 30),\n",
              "             ('on', 1609),\n",
              "             ('…', 762),\n",
              "             ('danscavino', 18),\n",
              "             ('w', 149),\n",
              "             ('realdonaldtrump', 1062),\n",
              "             ('delivered', 8),\n",
              "             ('highest', 12),\n",
              "             ('ratings', 142),\n",
              "             ('history', 40),\n",
              "             ('presidential', 184),\n",
              "             ('debates', 175),\n",
              "             ('trump2016', 75),\n",
              "             ('co…', 26),\n",
              "             ('gregabbott', 3),\n",
              "             ('tx', 6),\n",
              "             ('tedcruz', 282),\n",
              "             ('my', 683),\n",
              "             ('first', 165),\n",
              "             ('day', 95),\n",
              "             ('i', 2593),\n",
              "             ('will', 477),\n",
              "             ('rescind', 3),\n",
              "             ('every', 121),\n",
              "             ('illegal', 71),\n",
              "             ('executive', 15),\n",
              "             ('action', 9),\n",
              "             ('taken', 18),\n",
              "             ('by', 527),\n",
              "             ('barack', 9),\n",
              "             ('obama', 176),\n",
              "             ('foxnews', 598),\n",
              "             ('warriorwoman91', 4),\n",
              "             ('liked', 17),\n",
              "             ('happy', 15),\n",
              "             ('when', 517),\n",
              "             ('heard', 44),\n",
              "             ('she', 174),\n",
              "             ('going', 194),\n",
              "             ('to', 4797),\n",
              "             ('be', 853),\n",
              "             ('moderator', 41),\n",
              "             ('not', 1264),\n",
              "             ('anymore', 23),\n",
              "             ('megynkelly', 654),\n",
              "             ('https', 900),\n",
              "             ('msnbc', 34),\n",
              "             ('live', 91),\n",
              "             ('with', 727),\n",
              "             ('thomasaroberts', 1),\n",
              "             ('around', 42),\n",
              "             ('2', 204),\n",
              "             ('pm', 4),\n",
              "             ('et', 12),\n",
              "             ('deer', 1),\n",
              "             ('headlights', 1),\n",
              "             ('rt', 124),\n",
              "             ('lizzwinstead', 6),\n",
              "             ('ben', 194),\n",
              "             ('carson', 343),\n",
              "             ('may', 51),\n",
              "             ('only', 336),\n",
              "             ('brain', 47),\n",
              "             ('surgeon', 8),\n",
              "             ('who', 713),\n",
              "             ('has', 597),\n",
              "             ('performed', 10),\n",
              "             ('a', 3319),\n",
              "             ('lobotomy', 2),\n",
              "             ('himself', 40),\n",
              "             ('nancyosborne180', 5),\n",
              "             (\"night's\", 235),\n",
              "             ('proved', 27),\n",
              "             ('it', 1791),\n",
              "             ('batsask', 26),\n",
              "             ('badassteachersa', 6),\n",
              "             ('tbats', 5),\n",
              "             ('g2ggjy1bjd', 1),\n",
              "             ('jgreendc', 1),\n",
              "             ('all', 679),\n",
              "             ('fairness', 1),\n",
              "             ('billclinton', 4),\n",
              "             ('owns', 4),\n",
              "             ('phrase', 3),\n",
              "             ('waynedupreeshow', 10),\n",
              "             ('woke', 9),\n",
              "             ('up', 712),\n",
              "             ('tweet', 49),\n",
              "             ('this', 1296),\n",
              "             ('out', 511),\n",
              "             ('line', 45),\n",
              "             ('via', 195),\n",
              "             ('govmikehuckabee', 97),\n",
              "             ('6ov5hxhicv', 1),\n",
              "             ('me', 832),\n",
              "             ('reading', 21),\n",
              "             (\"family's\", 2),\n",
              "             ('comments', 66),\n",
              "             ('great', 208),\n",
              "             ('giagjpygxz', 1),\n",
              "             ('arcticfox2016', 2),\n",
              "             ('allenwestrepub', 19),\n",
              "             ('dear', 89),\n",
              "             ('jebbush', 112),\n",
              "             ('notamistake', 9),\n",
              "             ('ttfg7kycd9', 1),\n",
              "             ('pattonoswalt', 43),\n",
              "             ('loved', 44),\n",
              "             ('scott', 99),\n",
              "             ('walker', 195),\n",
              "             ('as', 617),\n",
              "             ('mark', 9),\n",
              "             (\"harmon's\", 1),\n",
              "             ('romantic', 1),\n",
              "             ('rival', 1),\n",
              "             ('summer', 5),\n",
              "             ('school', 13),\n",
              "             ('look', 177),\n",
              "             ('hey', 92),\n",
              "             ('chrischristie', 79),\n",
              "             ('exploiting', 1),\n",
              "             ('tragedy', 2),\n",
              "             ('9', 47),\n",
              "             ('11', 33),\n",
              "             ('for', 1842),\n",
              "             ('your', 410),\n",
              "             ('own', 61),\n",
              "             ('political', 115),\n",
              "             ('gain', 6),\n",
              "             (\"rudygiulianigop's\", 1),\n",
              "             ('thing', 127),\n",
              "             ('carolcnn', 5),\n",
              "             ('donaldtrump', 135),\n",
              "             ('under', 54),\n",
              "             ('fire', 26),\n",
              "             ('women', 278),\n",
              "             ('peterbeinart', 3),\n",
              "             ('sl', 1),\n",
              "             ('schaeffer', 1),\n",
              "             ('iwf', 1),\n",
              "             ('myrkiger', 1),\n",
              "             ('weigh', 5),\n",
              "             ('johncardillo', 4),\n",
              "             ('guess', 40),\n",
              "             ('had', 192),\n",
              "             ('most', 316),\n",
              "             ('speaking', 162),\n",
              "             ('time', 346),\n",
              "             ('at', 911),\n",
              "             ('moderators', 118),\n",
              "             ('31', 10),\n",
              "             ('7', 33),\n",
              "             ('2wsut0c0lx', 1),\n",
              "             ('reason', 25),\n",
              "             ('comment', 24),\n",
              "             ('funny', 44),\n",
              "             (\"'in\", 2),\n",
              "             ('case', 15),\n",
              "             (\"you're\", 211),\n",
              "             (\"ignorant'\", 1),\n",
              "             ('gop', 708),\n",
              "             ('tcot', 233),\n",
              "             ('government', 41),\n",
              "             (\"isn't\", 58),\n",
              "             ('working', 29),\n",
              "             ('people', 622),\n",
              "             ('pamelageller', 12),\n",
              "             ('huckabee', 307),\n",
              "             ('paying', 13),\n",
              "             ('transgender', 10),\n",
              "             ('surgery', 4),\n",
              "             ('soldiers', 10),\n",
              "             ('sailors', 1),\n",
              "             ('airmen', 1),\n",
              "             ('does', 274),\n",
              "             ('make', 173),\n",
              "             ('our', 325),\n",
              "             ('country', 141),\n",
              "             ('safer', 1),\n",
              "             ('ha', 25),\n",
              "             ('chucknellis', 13),\n",
              "             ('cruz', 422),\n",
              "             ('class', 50),\n",
              "             ('amp', 1060),\n",
              "             ('truth', 126),\n",
              "             ('gets', 173),\n",
              "             ('vote', 158),\n",
              "             ('mchamric', 1),\n",
              "             ('“', 54),\n",
              "             ('teatraitors', 5),\n",
              "             ('still', 135),\n",
              "             ('clown', 28),\n",
              "             ('show', 141),\n",
              "             (\"i'm\", 449),\n",
              "             ('glad', 26),\n",
              "             ('head', 47),\n",
              "             ('trump', 1802),\n",
              "             ('helping', 7),\n",
              "             ('destroy', 30),\n",
              "             ('nwgx8g8jwr”', 2),\n",
              "             ('erinmallorylong', 3),\n",
              "             ('hate', 64),\n",
              "             ('planned', 55),\n",
              "             ('parenthood', 52),\n",
              "             ('more', 470),\n",
              "             ('thekevinryder', 1),\n",
              "             ('vine', 18),\n",
              "             ('dabulldawg88', 6),\n",
              "             ('xkxvdradce', 1),\n",
              "             ('mrpooni', 1),\n",
              "             ('fox', 1330),\n",
              "             ('news', 908),\n",
              "             ('trying', 241),\n",
              "             ('convince', 6),\n",
              "             ('us', 213),\n",
              "             ('young', 16),\n",
              "             ('black', 96),\n",
              "             ('americans', 76),\n",
              "             ('worried', 15),\n",
              "             ('isis', 55),\n",
              "             ('than', 319),\n",
              "             ('police', 46),\n",
              "             ('terrorism', 55),\n",
              "             ('rankings', 3),\n",
              "             ('worst', 28),\n",
              "             ('performance', 61),\n",
              "             ('rubio', 387),\n",
              "             ('kasich', 192),\n",
              "             ('christie', 166),\n",
              "             ('bush', 579),\n",
              "             ('paul', 200),\n",
              "             ('thebaxterbean', 37),\n",
              "             (\"walker's\", 12),\n",
              "             ('abortion', 104),\n",
              "             ('ban', 7),\n",
              "             ('allows', 2),\n",
              "             ('rapist', 2),\n",
              "             ('father', 27),\n",
              "             ('sue', 4),\n",
              "             ('emotional', 4),\n",
              "             ('distress', 2),\n",
              "             ('rhmvgumuir', 2),\n",
              "             ('badger…', 1),\n",
              "             ('feministabulous', 16),\n",
              "             (\"it's\", 357),\n",
              "             ('competition', 5),\n",
              "             ('but', 798),\n",
              "             ('have', 884),\n",
              "             ('we', 890),\n",
              "             ('moved', 4),\n",
              "             ('so', 742),\n",
              "             ('far', 60),\n",
              "             ('gay', 65),\n",
              "             ('rights', 139),\n",
              "             (\"women's\", 68),\n",
              "             ('worse', 20),\n",
              "             ('ever', 105),\n",
              "             ('been', 126),\n",
              "             ('g…', 189),\n",
              "             ('mch7576', 2),\n",
              "             ('pry2qpcwfu””', 2),\n",
              "             ('hillaryclinton', 139),\n",
              "             ('watch', 213),\n",
              "             ('bet', 19),\n",
              "             ('you', 1900),\n",
              "             ('like', 731),\n",
              "             ('donating', 2),\n",
              "             ('democrat', 63),\n",
              "             ('right', 283),\n",
              "             ('now', 329),\n",
              "             ('pglqcqqgop', 1),\n",
              "             ('qp1e…', 1),\n",
              "             ('fbhw', 1),\n",
              "             (\"they're\", 58),\n",
              "             ('need', 407),\n",
              "             ('borrow', 4),\n",
              "             ('train', 5),\n",
              "             ('horn', 1),\n",
              "             ('next', 330),\n",
              "             ('little', 74),\n",
              "             ('bell', 15),\n",
              "             ('wimpy', 1),\n",
              "             ('hornmeansyouredone', 1),\n",
              "             ('lisavikingstad', 1),\n",
              "             ('ted', 169),\n",
              "             ('bed', 14),\n",
              "             ('he', 782),\n",
              "             ('keep', 78),\n",
              "             ('confusingly', 1),\n",
              "             ('sad', 27),\n",
              "             ('his', 450),\n",
              "             ('face', 239),\n",
              "             ('refuse', 29),\n",
              "             ('social', 131),\n",
              "             ('media', 96),\n",
              "             ('reaction', 22),\n",
              "             ('x6kuvskltf', 1),\n",
              "             ('socialmedia', 10),\n",
              "             ('ogoyfnyikj', 1),\n",
              "             ('winesdaypodcast', 1),\n",
              "             ('an', 328),\n",
              "             ('update', 5),\n",
              "             ('tech', 7),\n",
              "             ('failures', 2),\n",
              "             ('fgglf2j5hu', 1),\n",
              "             ('zw35dkuozi', 1),\n",
              "             ('amymek', 24),\n",
              "             ('torched', 1),\n",
              "             ('passed', 7),\n",
              "             ('gt', 71),\n",
              "             ('candycrowley', 8),\n",
              "             ('longer', 16),\n",
              "             ('famous', 6),\n",
              "             ('assassin', 1),\n",
              "             ('congratulations', 6),\n",
              "             ('u', 141),\n",
              "             ('wi…', 3),\n",
              "             ('stockwizards3', 1),\n",
              "             ('ticket', 12),\n",
              "             ('would', 486),\n",
              "             ('win', 139),\n",
              "             ('landslide', 8),\n",
              "             ('seanhannity', 21),\n",
              "             ('anncoulter', 10),\n",
              "             ('republican', 445),\n",
              "             ('potus', 74),\n",
              "             ('kvxrdashian', 5),\n",
              "             ('jeb', 587),\n",
              "             ('fault', 8),\n",
              "             ('brother', 26),\n",
              "             ('because', 164),\n",
              "             ('clean', 6),\n",
              "             ('mess', 28),\n",
              "             ('made', 132),\n",
              "             ('t…', 75),\n",
              "             ('ali', 5),\n",
              "             ('primary', 49),\n",
              "             ('voters', 61),\n",
              "             ('none', 36),\n",
              "             ('wiser', 2),\n",
              "             ('policy', 37),\n",
              "             ('plans', 12),\n",
              "             ('these', 394),\n",
              "             ('folks', 29),\n",
              "             ('putting', 16),\n",
              "             ('forth', 5),\n",
              "             ('journalism', 2),\n",
              "             ('itsashlyperez', 2),\n",
              "             ('listening', 27),\n",
              "             ('fetty', 1),\n",
              "             ('wap', 1),\n",
              "             ('while', 72),\n",
              "             ('packing', 2),\n",
              "             ('true', 78),\n",
              "             ('american', 235),\n",
              "             ('doesthishashtagexpire', 1),\n",
              "             ('mgell', 1),\n",
              "             ('cross', 4),\n",
              "             ('between', 44),\n",
              "             ('shrug', 1),\n",
              "             ('emoji', 3),\n",
              "             ('president', 445),\n",
              "             ('business', 31),\n",
              "             ('from', 980),\n",
              "             ('lego', 2),\n",
              "             ('movie', 24),\n",
              "             ('jamellemybelle', 1),\n",
              "             ('meanwhile', 11),\n",
              "             ('white', 103),\n",
              "             ('house', 25),\n",
              "             ('nouuut5hkq', 1),\n",
              "             ('rowdygentleman', 1),\n",
              "             ('if', 618),\n",
              "             ('you’re', 4),\n",
              "             ('planning', 9),\n",
              "             ('drinking', 29),\n",
              "             ('game', 56),\n",
              "             ('rowdy', 6),\n",
              "             ('gentleman', 5),\n",
              "             ('brownblaze', 3),\n",
              "             ('please', 81),\n",
              "             ('kkkorgop', 102),\n",
              "             ('yaqyac3uv3', 1),\n",
              "             ('thinks', 89),\n",
              "             ('criticism', 2),\n",
              "             ('misogynistic', 9),\n",
              "             ('remarks', 11),\n",
              "             ('correctness', 29),\n",
              "             ('problem', 78),\n",
              "             ('nope', 8),\n",
              "             ('pervasive', 1),\n",
              "             ('sexism', 17),\n",
              "             ('lekarmasucre', 1),\n",
              "             ('handled', 9),\n",
              "             ('blacklivesmatter', 92),\n",
              "             ('8zgdy6lpct', 1),\n",
              "             ('palmaceiahome1', 7),\n",
              "             ('goal', 8),\n",
              "             ('take', 211),\n",
              "             ('pave', 2),\n",
              "             ('way', 120),\n",
              "             ('rino', 14),\n",
              "             ('or', 464),\n",
              "             ('philstockworld', 2),\n",
              "             ('chat', 6),\n",
              "             ('room', 23),\n",
              "             ('futures', 3),\n",
              "             ('spy', 7),\n",
              "             ('nonfarmpayrolls', 3),\n",
              "             ('jobs', 42),\n",
              "             ('netflix', 3),\n",
              "             ('0k06sf81rq', 2),\n",
              "             ('http…', 37),\n",
              "             ('say', 239),\n",
              "             ('thanks', 166),\n",
              "             ('gov', 51),\n",
              "             ('tweeted', 20),\n",
              "             ('moment', 48),\n",
              "             ('saying', 89),\n",
              "             ('purpose', 85),\n",
              "             ('military', 165),\n",
              "             ('kill', 118),\n",
              "             ('break', 148),\n",
              "             ('things', 170),\n",
              "             ('re', 42),\n",
              "             ('trans', 19),\n",
              "             ('servicemembers', 1),\n",
              "             ('ariannahuff', 1),\n",
              "             ('yki30j7hho', 2),\n",
              "             ('chrisstirewalt', 5),\n",
              "             ('big', 141),\n",
              "             ('moments', 38),\n",
              "             ('were', 285),\n",
              "             ('randpaul', 135),\n",
              "             ('vs', 47),\n",
              "             ('kellyfil…', 1),\n",
              "             ('stylemom', 1),\n",
              "             (\"here's\", 54),\n",
              "             ('why', 390),\n",
              "             ('hell', 70),\n",
              "             ('body', 18),\n",
              "             ('parts', 11),\n",
              "             ('even', 173),\n",
              "             ('foh', 1),\n",
              "             ('stop', 77),\n",
              "             ('1965', 2),\n",
              "             ('wtf', 16),\n",
              "             ('gopdebate…', 135),\n",
              "             ('rushlimbaugh', 19),\n",
              "             ('getting', 70),\n",
              "             ('beheaded', 3),\n",
              "             ('overseas', 4),\n",
              "             ('whether', 14),\n",
              "             ('calls', 34),\n",
              "             ('rosie', 54),\n",
              "             (\"o'donnell\", 26),\n",
              "             ('fat', 39),\n",
              "             (\"won't\", 115),\n",
              "             ('defend', 20),\n",
              "             ('they', 745),\n",
              "             ('fair', 263),\n",
              "             ('balanced', 228),\n",
              "             ('name', 49),\n",
              "             ('calling', 67),\n",
              "             ('juvenile', 2),\n",
              "             ('theskysgoneout', 1),\n",
              "             ('non', 17),\n",
              "             ('christians', 9),\n",
              "             ('god', 426),\n",
              "             ('questions', 374),\n",
              "             ('underline', 1),\n",
              "             ('anyone', 270),\n",
              "             ('really', 371),\n",
              "             ('cares', 12),\n",
              "             ('religious', 12),\n",
              "             ('minorities', 3),\n",
              "             ('chri…', 2),\n",
              "             ('bipartisanism', 15),\n",
              "             ('response', 34),\n",
              "             ('pathetic', 15),\n",
              "             ('ismxbrrm0h', 1),\n",
              "             ('factcheckdotorg', 2),\n",
              "             ('said', 346),\n",
              "             ('cut', 35),\n",
              "             ('fl', 7),\n",
              "             ('taxes', 24),\n",
              "             ('19b', 1),\n",
              "             ('includes', 1),\n",
              "             ('cuts', 13),\n",
              "             ('estate', 1),\n",
              "             ('mandated', 1),\n",
              "             ('federal', 10),\n",
              "             ('law', 25),\n",
              "             ('ht…', 32),\n",
              "             ('mydaughtersarmy', 8),\n",
              "             ('want', 375),\n",
              "             ('abortions', 21),\n",
              "             ('rbl1t4ipx6', 1),\n",
              "             ('karrattipaul', 1),\n",
              "             ('join', 24),\n",
              "             ('sign', 9),\n",
              "             ('death', 21),\n",
              "             ('warrant', 10),\n",
              "             ('signed', 4),\n",
              "             ('us\\U000fe4e6', 2),\n",
              "             ('wakeupamerica', 30),\n",
              "             ('cruzcrew', 38),\n",
              "             ('htt…', 34),\n",
              "             ('p0tus', 5),\n",
              "             ('closing', 89),\n",
              "             ('statements', 53),\n",
              "             ('s15nlillso', 1),\n",
              "             ('status', 31),\n",
              "             ('👉', 2),\n",
              "             ('single', 55),\n",
              "             ('broke', 10),\n",
              "             ('goodbye', 9),\n",
              "             ('bretbaier', 61),\n",
              "             ('chris', 426),\n",
              "             ('wallace', 294),\n",
              "             ('frankluntz', 65),\n",
              "             ('before', 82),\n",
              "             ('14', 14),\n",
              "             ('focus', 51),\n",
              "             ('groupers', 3),\n",
              "             ('favorable', 4),\n",
              "             ('view', 24),\n",
              "             ('3', 93),\n",
              "             ('saw', 46),\n",
              "             ('him', 420),\n",
              "             ('positively', 1),\n",
              "             ('holly', 4),\n",
              "             ('renee', 3),\n",
              "             ('donation', 7),\n",
              "             ('carlyfiorina', 202),\n",
              "             ('impressed', 27),\n",
              "             ('jlfhfvz7st', 1),\n",
              "             ('thejimhughes', 3),\n",
              "             ('sending', 8),\n",
              "             ('foreign', 23),\n",
              "             ('aid', 3),\n",
              "             ('places', 6),\n",
              "             ('burn', 5),\n",
              "             ('flag', 7),\n",
              "             ('can', 490),\n",
              "             ('start', 55),\n",
              "             ('berkeley', 2),\n",
              "             ('frankthorpnbc', 2),\n",
              "             ('rand', 168),\n",
              "             ('eye', 10),\n",
              "             ('roll', 14),\n",
              "             ('hf318qsowd', 2),\n",
              "             ('johnkasich', 88),\n",
              "             ('scrap', 1),\n",
              "             (\"president's\", 1),\n",
              "             ('iran', 72),\n",
              "             ('deal', 52),\n",
              "             ('can’t', 8),\n",
              "             ('get', 461),\n",
              "             ('nuke', 2),\n",
              "             ('kasich4us', 18),\n",
              "             ('9trzxonlzf', 1),\n",
              "             ('decide', 13),\n",
              "             ('too', 121),\n",
              "             ('early', 28),\n",
              "             ('come', 65),\n",
              "             ('back', 134),\n",
              "             ('twitter', 130),\n",
              "             ('fulltime', 1),\n",
              "             ('gonna', 42),\n",
              "             ('wait', 69),\n",
              "             ('closer', 3),\n",
              "             ('election', 47),\n",
              "             ('hooked', 1),\n",
              "             ('mspackyetti', 1),\n",
              "             ('donald', 419),\n",
              "             (\"trump's\", 83),\n",
              "             ('campaign', 58),\n",
              "             ('reveals', 8),\n",
              "             ('1', 144),\n",
              "             ('important', 56),\n",
              "             ('trolls', 1),\n",
              "             ('real', 185),\n",
              "             ('should', 515),\n",
              "             ('scare', 4),\n",
              "             ('eve…', 2),\n",
              "             ('those', 99),\n",
              "             (\"don't\", 609),\n",
              "             ('worry', 14),\n",
              "             ('never', 215),\n",
              "             ('elected', 28),\n",
              "             ('remember', 36),\n",
              "             ('george', 16),\n",
              "             ('twice', 14),\n",
              "             ('its', 55),\n",
              "             ('agenda', 13),\n",
              "             ('promote', 2),\n",
              "             ('fired', 15),\n",
              "             ('hp', 8),\n",
              "             ('run', 82),\n",
              "             ('race', 68),\n",
              "             ('9k1eujdfo7', 1),\n",
              "             ('hlllary', 1),\n",
              "             ('oh', 136),\n",
              "             ('one', 537),\n",
              "             ('hear', 236),\n",
              "             ('anything', 61),\n",
              "             ('affordable', 12),\n",
              "             ('child', 14),\n",
              "             ('care', 75),\n",
              "             ('families', 28),\n",
              "             ('i…', 10),\n",
              "             ('naughtybeyotch', 3),\n",
              "             ('wqnsupspkc', 2),\n",
              "             ('marthamaccallum', 16),\n",
              "             ('billhemmer', 19),\n",
              "             ('bill', 27),\n",
              "             ('martha', 5),\n",
              "             ('team', 20),\n",
              "             ('2nd', 30),\n",
              "             ('ambush', 6),\n",
              "             (\"country's\", 2),\n",
              "             ('megyn', 243),\n",
              "             ('kelly', 173),\n",
              "             ('attacking', 20),\n",
              "             ('war', 88),\n",
              "             ('franklin', 5),\n",
              "             ('graham', 19),\n",
              "             ('1st', 42),\n",
              "             ('encouraging', 3),\n",
              "             ('see', 267),\n",
              "             ('several', 14),\n",
              "             ('candidates', 835),\n",
              "             ('express', 6),\n",
              "             ('their', 505),\n",
              "             ('faith', 14),\n",
              "             ('son', 14),\n",
              "             ('jesus', 50),\n",
              "             ('christ', 9),\n",
              "             ('c…', 55),\n",
              "             ('snarkydemo', 2),\n",
              "             ('he’s', 7),\n",
              "             ('“politically', 1),\n",
              "             ('correct', 42),\n",
              "             ('”', 49),\n",
              "             ('which', 98),\n",
              "             ('course', 27),\n",
              "             ('trumpspeak', 1),\n",
              "             ('“let’s', 1),\n",
              "             ('i’m', 14),\n",
              "             ('huge', 29),\n",
              "             ('asshole', 15),\n",
              "             ('message', 20),\n",
              "             ('wfk5cmvgin', 1),\n",
              "             ('davidcicilline', 1),\n",
              "             ('episode', 13),\n",
              "             ('apprentice', 10),\n",
              "             (\"i've\", 88),\n",
              "             ('seen', 80),\n",
              "             ('luntz', 17),\n",
              "             ('go', 199),\n",
              "             ('almost', 25),\n",
              "             ('reach', 6),\n",
              "             ('100', 20),\n",
              "             ('happens', 8),\n",
              "             ('dial', 6),\n",
              "             ('research', 7),\n",
              "             ('do', 532),\n",
              "             ('lolhayley', 1),\n",
              "             ('something', 68),\n",
              "             ('actual', 22),\n",
              "             ('man', 142),\n",
              "             ('running', 74),\n",
              "             ('wondering', 37),\n",
              "             ('could', 111),\n",
              "             ('party', 200),\n",
              "             ('pay', 37),\n",
              "             ('liver', 1),\n",
              "             ('transplant', 1),\n",
              "             ('playing', 31),\n",
              "             ('mtaibbi', 5),\n",
              "             ('brandondhowell', 1),\n",
              "             ('friday', 11),\n",
              "             ('1ai9cuz8by', 1),\n",
              "             (\"i'll\", 63),\n",
              "             ('unconstitutional', 4),\n",
              "             ('order', 86),\n",
              "             ('enacted', 1),\n",
              "             ('pres', 23),\n",
              "             ('oba…', 2),\n",
              "             ('ronnie2k', 1),\n",
              "             ('during', 189),\n",
              "             ('jcuirk1i1u', 1),\n",
              "             ('bruneski', 1),\n",
              "             ('upstairs', 1),\n",
              "             ('kids', 43),\n",
              "             ('many', 156),\n",
              "             ('miss', 44),\n",
              "             ('gopclowncar', 30),\n",
              "             ('they’re', 4),\n",
              "             ('todd', 6),\n",
              "             ('akin', 2),\n",
              "             ('sting', 2),\n",
              "             ('backfired', 5),\n",
              "             ('republicans', 121),\n",
              "             ('standwithpp', 8),\n",
              "             ('ekxpfkthqn', 1),\n",
              "             ('learjetter', 8),\n",
              "             ('let', 97),\n",
              "             ('digest', 2),\n",
              "             ('allowing', 5),\n",
              "             ('crazy', 35),\n",
              "             ('dwstweets', 38),\n",
              "             ('trash', 8),\n",
              "             ('ladysandersfarm', 12),\n",
              "             ('receive', 6),\n",
              "             ('enormous', 2),\n",
              "             ('applause', 15),\n",
              "             ('horribly', 2),\n",
              "             ('answer', 115),\n",
              "             ('r4e8tpotd5', 1),\n",
              "             ('few', 33),\n",
              "             ('favorite', 65),\n",
              "             ('responses', 10),\n",
              "             ('2iqcdrcdlm', 1),\n",
              "             ('7tdma3vlm8', 1),\n",
              "             ('though', 27),\n",
              "             ('super', 24),\n",
              "             ('conservative', 63),\n",
              "             ('reporter', 6),\n",
              "             ('actually', 98),\n",
              "             (\"kelly's\", 14),\n",
              "             ('interview', 15),\n",
              "             ('style', 10),\n",
              "             ('kingsthings', 2),\n",
              "             ('series', 2),\n",
              "             ('minute', 17),\n",
              "             ('opportunities', 3),\n",
              "             ('avoid', 8),\n",
              "             ('answering', 16),\n",
              "             ('candidate…', 1),\n",
              "             ('melissagracey', 1),\n",
              "             ('credit', 16),\n",
              "             ('joke', 33),\n",
              "             ('goes', 24),\n",
              "             ('someone', 134),\n",
              "             ('else', 189),\n",
              "             ('icredssplr', 1),\n",
              "             ('reince', 14),\n",
              "             ('simply', 14),\n",
              "             ('incredible', 5),\n",
              "             ('apxm8ao8jf', 2),\n",
              "             ('doubled', 2),\n",
              "             ('previous', 6),\n",
              "             ('record', 52),\n",
              "             ('watched', 103),\n",
              "             ('katethomas', 1),\n",
              "             ('literally', 21),\n",
              "             (\"couldn't\", 42),\n",
              "             ('got', 227),\n",
              "             ('lousy', 3),\n",
              "             ('hangover', 36),\n",
              "             ('cxch7x…', 1),\n",
              "             ('dreamer', 1),\n",
              "             ('haha', 5),\n",
              "             ('saas', 1),\n",
              "             ('voxdotcom', 10),\n",
              "             ('morning', 53),\n",
              "             ('towards', 11),\n",
              "             ('factchecked', 1),\n",
              "             ('daectmllaj', 1),\n",
              "             ('texascruzn', 2),\n",
              "             ('1z3vufjzlw', 2),\n",
              "             ('zellieimani', 11),\n",
              "             ('what', 724),\n",
              "             ('person', 94),\n",
              "             ('tv', 107),\n",
              "             ('qlgsxrh5hw', 1),\n",
              "             ('marco', 97),\n",
              "             ('told', 47),\n",
              "             (\"he's\", 132),\n",
              "             (\"'candidate\", 2),\n",
              "             (\"yesterday'\", 2),\n",
              "             ('anti', 31),\n",
              "             ('bigotry', 6),\n",
              "             ('a4eiuettlf', 2),\n",
              "             ('cariisie', 1),\n",
              "             ('them', 327),\n",
              "             ('place', 40),\n",
              "             ('foolish', 3),\n",
              "             ('yet', 44),\n",
              "             ('think', 479),\n",
              "             ('done', 52),\n",
              "             ('crying', 10),\n",
              "             ('agai…', 1),\n",
              "             ('akbarjenkins', 1),\n",
              "             ('maybe', 56),\n",
              "             ('piven', 2),\n",
              "             ('cloward', 2),\n",
              "             ('confused', 12),\n",
              "             ('pinkard', 2),\n",
              "             ('bowden', 2),\n",
              "             ('steal', 6),\n",
              "             ('cars', 3),\n",
              "             ('kevinbaker', 2),\n",
              "             ('kevinmkr…', 1),\n",
              "             ('watching', 336),\n",
              "             ('qcmxmu8mlp', 1),\n",
              "             ('jrehling', 5),\n",
              "             (\"doesn't\", 271),\n",
              "             ('pigs', 20),\n",
              "             ('save', 13),\n",
              "             ('theonlyadult', 1),\n",
              "             ('might', 39),\n",
              "             ('rip', 10),\n",
              "             ('everything', 50),\n",
              "             ('caught', 12),\n",
              "             ('surprise', 28),\n",
              "             ('able', 15),\n",
              "             ('recover', 2),\n",
              "             ('equilibrium', 1),\n",
              "             ('kirahoffy', 1),\n",
              "             ('web', 4),\n",
              "             ('stream', 11),\n",
              "             ('mobile', 3),\n",
              "             ('app', 5),\n",
              "             ('fail', 20),\n",
              "             ('gopdebate”', 5),\n",
              "             ('am', 193),\n",
              "             ('surprised', 24),\n",
              "             ('tkpesooezt', 2),\n",
              "             ('john', 73),\n",
              "             ('helped', 9),\n",
              "             ('ohioans', 1),\n",
              "             ('create', 11),\n",
              "             ('350', 1),\n",
              "             ('000', 26),\n",
              "             ('new', 115),\n",
              "             ('america', 235),\n",
              "             ('kbzfbjyp2c', 1),\n",
              "             ('help', 67),\n",
              "             ('maryknoll', 1),\n",
              "             ('sisters', 1),\n",
              "             ('replace', 25),\n",
              "             ('windows', 1),\n",
              "             ('convent', 1),\n",
              "             ('fdgxg3vv13', 1),\n",
              "             ('catholic', 2),\n",
              "             ('gofundme', 1),\n",
              "             ('trcot', 1),\n",
              "             ('won', 194),\n",
              "             ('over', 175),\n",
              "             ('largest', 9),\n",
              "             ('audience', 73),\n",
              "             ('chip', 9),\n",
              "             ('nzync1jrxs', 2),\n",
              "             ('then', 118),\n",
              "             ('started', 14),\n",
              "             ('violently', 2),\n",
              "             ('69ing', 1),\n",
              "             ('cameronesposito', 2),\n",
              "             ('ugh', 16),\n",
              "             ('guys', 89),\n",
              "             ('shut', 29),\n",
              "             ('much', 163),\n",
              "             ('respect', 43),\n",
              "             ('teach', 10),\n",
              "             ('future', 66),\n",
              "             ('probably', 34),\n",
              "             ('won’t', 5),\n",
              "             ('safe', 6),\n",
              "             ('except', 29),\n",
              "             ('we’re', 3),\n",
              "             ('attacked', 7),\n",
              "             ('congoboy', 1),\n",
              "             ('long', 142),\n",
              "             ('tiring', 2),\n",
              "             ('season', 12),\n",
              "             ('shockingly', 3),\n",
              "             ('ill', 2),\n",
              "             ('informed', 11),\n",
              "             ('vtk1k0txi…', 1),\n",
              "             ('blessed', 18),\n",
              "             ('thedemocrats', 16),\n",
              "             (\"can't\", 213),\n",
              "             ('find', 47),\n",
              "             ('marcorubio', 117),\n",
              "             ('miracle', 2),\n",
              "             ('happen', 15),\n",
              "             ('grow', 11),\n",
              "             ('opportunity', 10),\n",
              "             ('lnqhdgtudk', 1),\n",
              "             ('mattyiceaz', 13),\n",
              "             ('carry', 9),\n",
              "             ('state', 77),\n",
              "             ('xlnb', 2),\n",
              "             ('indication', 1),\n",
              "             ('peep', 2),\n",
              "             ('bh0chsy5eh', 1),\n",
              "             ('smethanie', 4),\n",
              "             ('sure', 106),\n",
              "             ('tooth', 4),\n",
              "             ('fairy', 3),\n",
              "             ('agreed', 13),\n",
              "             ('teletubbies', 3),\n",
              "             ('voted', 10),\n",
              "             ('yes', 78),\n",
              "             ('caller', 3),\n",
              "             ('rush', 30),\n",
              "             ('limbaugh', 13),\n",
              "             ('lost', 48),\n",
              "             ('stinger', 3),\n",
              "             ('inc', 2),\n",
              "             (\"megynkelly's\", 15),\n",
              "             ('behaviour', 2),\n",
              "             ('astonishingly', 1),\n",
              "             ('biased', 24),\n",
              "             ('economics', 3),\n",
              "             ('wins', 51),\n",
              "             ('falters', 2),\n",
              "             ('exaggerates', 2),\n",
              "             ('molloaqhwq', 1),\n",
              "             ('knowmorenotless', 1),\n",
              "             ('gpnaplang', 1),\n",
              "             ('jamesviser', 2),\n",
              "             ('huh', 11),\n",
              "             ('half', 45),\n",
              "             (\"clinton's\", 19),\n",
              "             ('charity', 1),\n",
              "             ('went', 50),\n",
              "             ('clintons', 3),\n",
              "             ('bvwrosgwal', 1),\n",
              "             ('copolitics', 3),\n",
              "             ('hillary2016', 21),\n",
              "             ('stophillary', 2),\n",
              "             ('uniteb…', 1),\n",
              "             ('kraig4u', 1),\n",
              "             ('wonder', 41),\n",
              "             ('took', 49),\n",
              "             ('seriously', 73),\n",
              "             ('heidil', 2),\n",
              "             ...])"
            ]
          },
          "metadata": {
            "tags": []
          },
          "execution_count": 31
        }
      ]
    },
    {
      "cell_type": "code",
      "metadata": {
        "id": "heHGzwt_ckUl",
        "colab_type": "code",
        "colab": {}
      },
      "source": [
        "X = smallTokenizer.texts_to_sequences(df2.text)"
      ],
      "execution_count": 0,
      "outputs": []
    },
    {
      "cell_type": "code",
      "metadata": {
        "id": "zHwgVLP2c7r_",
        "colab_type": "code",
        "colab": {
          "base_uri": "https://localhost:8080/",
          "height": 34
        },
        "outputId": "ca9789fe-82e8-4f44-c419-db20dad0d267"
      },
      "source": [
        "X[0]"
      ],
      "execution_count": 28,
      "outputs": [
        {
          "output_type": "execute_result",
          "data": {
            "text/plain": [
              "[57, 85, 343, 462, 26, 2, 421, 377, 102, 34, 56, 1045, 1]"
            ]
          },
          "metadata": {
            "tags": []
          },
          "execution_count": 28
        }
      ]
    },
    {
      "cell_type": "code",
      "metadata": {
        "id": "5Mp5XsXAc-Id",
        "colab_type": "code",
        "colab": {
          "base_uri": "https://localhost:8080/",
          "height": 34
        },
        "outputId": "29d50b25-da5a-45fc-c2f7-f52312d0965d"
      },
      "source": [
        "df2.text[0]"
      ],
      "execution_count": 29,
      "outputs": [
        {
          "output_type": "execute_result",
          "data": {
            "text/plain": [
              "'NancyLeeGrahn: How did everyone feel about the Climate Change question last night? Exactly. #GOPDebate'"
            ]
          },
          "metadata": {
            "tags": []
          },
          "execution_count": 29
        }
      ]
    },
    {
      "cell_type": "code",
      "metadata": {
        "id": "pDGE9n1sdDBm",
        "colab_type": "code",
        "colab": {
          "base_uri": "https://localhost:8080/",
          "height": 34
        },
        "outputId": "172f02b8-882f-4858-93f0-e56090c60879"
      },
      "source": [
        "len(X),df2.shape"
      ],
      "execution_count": 33,
      "outputs": [
        {
          "output_type": "execute_result",
          "data": {
            "text/plain": [
              "(13871, (13871, 3))"
            ]
          },
          "metadata": {
            "tags": []
          },
          "execution_count": 33
        }
      ]
    },
    {
      "cell_type": "code",
      "metadata": {
        "id": "mTORFTqtdjAT",
        "colab_type": "code",
        "colab": {}
      },
      "source": [
        "#Padding\n",
        "padded_X = pad_sequences(X,maxlen=31)\n"
      ],
      "execution_count": 0,
      "outputs": []
    },
    {
      "cell_type": "code",
      "metadata": {
        "id": "tdemIOzbdwxK",
        "colab_type": "code",
        "colab": {
          "base_uri": "https://localhost:8080/",
          "height": 68
        },
        "outputId": "7fd3cf4c-8a63-488c-d943-15f172f6c219"
      },
      "source": [
        "padded_X[0]"
      ],
      "execution_count": 41,
      "outputs": [
        {
          "output_type": "execute_result",
          "data": {
            "text/plain": [
              "array([   0,    0,    0,    0,    0,    0,    0,    0,    0,    0,    0,\n",
              "          0,    0,    0,    0,    0,    0,    0,   57,   85,  343,  462,\n",
              "         26,    2,  421,  377,  102,   34,   56, 1045,    1], dtype=int32)"
            ]
          },
          "metadata": {
            "tags": []
          },
          "execution_count": 41
        }
      ]
    },
    {
      "cell_type": "code",
      "metadata": {
        "id": "djLvfZ_Zd1iK",
        "colab_type": "code",
        "colab": {
          "base_uri": "https://localhost:8080/",
          "height": 34
        },
        "outputId": "2525d862-841f-4003-a201-f8cfba9b2cc2"
      },
      "source": [
        "padded_X.shape"
      ],
      "execution_count": 42,
      "outputs": [
        {
          "output_type": "execute_result",
          "data": {
            "text/plain": [
              "(13871, 31)"
            ]
          },
          "metadata": {
            "tags": []
          },
          "execution_count": 42
        }
      ]
    },
    {
      "cell_type": "code",
      "metadata": {
        "id": "PbK1BLqUeCIC",
        "colab_type": "code",
        "colab": {}
      },
      "source": [
        "from tensorflow.keras.models import Sequential\n",
        "from tensorflow.keras.layers import Dense, LSTM, Embedding\n",
        "from tensorflow.keras.losses import categorical_crossentropy\n",
        "from tensorflow.keras.activations import relu, softmax\n",
        "from tensorflow.keras.utils import to_categorical\n"
      ],
      "execution_count": 0,
      "outputs": []
    },
    {
      "cell_type": "code",
      "metadata": {
        "id": "zQHPZdo7fDQL",
        "colab_type": "code",
        "colab": {}
      },
      "source": [
        "model = Sequential()\n",
        "model.add(Embedding(max_features,128, input_length=31))\n",
        "model.add(LSTM(196,dropout=.2))\n",
        "model.add(Dense(3,activation=softmax))\n"
      ],
      "execution_count": 0,
      "outputs": []
    },
    {
      "cell_type": "code",
      "metadata": {
        "id": "lXz3hu_Uf8Pw",
        "colab_type": "code",
        "colab": {}
      },
      "source": [
        "Y = pd.get_dummies(df2.sentiment)"
      ],
      "execution_count": 0,
      "outputs": []
    },
    {
      "cell_type": "code",
      "metadata": {
        "id": "NgrU7xzHgKSO",
        "colab_type": "code",
        "colab": {}
      },
      "source": [
        "Y"
      ],
      "execution_count": 0,
      "outputs": []
    },
    {
      "cell_type": "code",
      "metadata": {
        "id": "uTLc2qnEgK7c",
        "colab_type": "code",
        "colab": {}
      },
      "source": [
        "model.compile(optimizer=\"rmsprop\", loss=categorical_crossentropy, metrics= [\"acc\"])"
      ],
      "execution_count": 0,
      "outputs": []
    },
    {
      "cell_type": "code",
      "metadata": {
        "id": "4-dIEUvNgze1",
        "colab_type": "code",
        "colab": {
          "base_uri": "https://localhost:8080/",
          "height": 255
        },
        "outputId": "5da3a5b1-3aaf-4042-a388-abd79a987e3b"
      },
      "source": [
        "model.summary()"
      ],
      "execution_count": 51,
      "outputs": [
        {
          "output_type": "stream",
          "text": [
            "Model: \"sequential_1\"\n",
            "_________________________________________________________________\n",
            "Layer (type)                 Output Shape              Param #   \n",
            "=================================================================\n",
            "embedding_1 (Embedding)      (None, 31, 128)           256000    \n",
            "_________________________________________________________________\n",
            "lstm (LSTM)                  (None, 196)               254800    \n",
            "_________________________________________________________________\n",
            "dense (Dense)                (None, 3)                 591       \n",
            "=================================================================\n",
            "Total params: 511,391\n",
            "Trainable params: 511,391\n",
            "Non-trainable params: 0\n",
            "_________________________________________________________________\n"
          ],
          "name": "stdout"
        }
      ]
    },
    {
      "cell_type": "code",
      "metadata": {
        "id": "TNFlfdwGgT6A",
        "colab_type": "code",
        "colab": {
          "base_uri": "https://localhost:8080/",
          "height": 374
        },
        "outputId": "bcb43d40-8387-4a22-a2f0-9579a452aa56"
      },
      "source": [
        "model.fit(padded_X, Y, batch_size=64, epochs=10, validation_split=0.2)"
      ],
      "execution_count": 52,
      "outputs": [
        {
          "output_type": "stream",
          "text": [
            "Epoch 1/10\n",
            "174/174 [==============================] - 23s 133ms/step - loss: 0.6328 - acc: 0.7340 - val_loss: 0.6163 - val_acc: 0.7373\n",
            "Epoch 2/10\n",
            "174/174 [==============================] - 23s 133ms/step - loss: 0.6098 - acc: 0.7468 - val_loss: 0.6145 - val_acc: 0.7384\n",
            "Epoch 3/10\n",
            "174/174 [==============================] - 23s 133ms/step - loss: 0.5872 - acc: 0.7570 - val_loss: 0.6344 - val_acc: 0.7283\n",
            "Epoch 4/10\n",
            "174/174 [==============================] - 23s 131ms/step - loss: 0.5689 - acc: 0.7636 - val_loss: 0.6522 - val_acc: 0.7268\n",
            "Epoch 5/10\n",
            "174/174 [==============================] - 23s 133ms/step - loss: 0.5558 - acc: 0.7744 - val_loss: 0.6603 - val_acc: 0.7117\n",
            "Epoch 6/10\n",
            "174/174 [==============================] - 23s 133ms/step - loss: 0.5362 - acc: 0.7822 - val_loss: 0.6725 - val_acc: 0.7283\n",
            "Epoch 7/10\n",
            "174/174 [==============================] - 23s 134ms/step - loss: 0.5186 - acc: 0.7897 - val_loss: 0.6970 - val_acc: 0.7117\n",
            "Epoch 8/10\n",
            "174/174 [==============================] - 23s 135ms/step - loss: 0.4990 - acc: 0.8013 - val_loss: 0.7149 - val_acc: 0.7175\n",
            "Epoch 9/10\n",
            "174/174 [==============================] - 23s 134ms/step - loss: 0.4790 - acc: 0.8095 - val_loss: 0.7772 - val_acc: 0.7092\n",
            "Epoch 10/10\n",
            "174/174 [==============================] - 23s 134ms/step - loss: 0.4630 - acc: 0.8180 - val_loss: 0.8186 - val_acc: 0.7002\n"
          ],
          "name": "stdout"
        },
        {
          "output_type": "execute_result",
          "data": {
            "text/plain": [
              "<tensorflow.python.keras.callbacks.History at 0x7fcbcdc39a20>"
            ]
          },
          "metadata": {
            "tags": []
          },
          "execution_count": 52
        }
      ]
    },
    {
      "cell_type": "code",
      "metadata": {
        "id": "EibTWYAXgbu6",
        "colab_type": "code",
        "colab": {}
      },
      "source": [
        ""
      ],
      "execution_count": 0,
      "outputs": []
    }
  ]
}