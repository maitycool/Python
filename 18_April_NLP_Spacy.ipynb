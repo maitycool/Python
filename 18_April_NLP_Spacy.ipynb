{
  "nbformat": 4,
  "nbformat_minor": 0,
  "metadata": {
    "colab": {
      "name": "18_April_NLP_Spacy.ipynb",
      "provenance": []
    },
    "kernelspec": {
      "name": "python3",
      "display_name": "Python 3"
    }
  },
  "cells": [
    {
      "cell_type": "code",
      "metadata": {
        "id": "zhdlW6L358Cs",
        "colab_type": "code",
        "colab": {}
      },
      "source": [
        "import spacy "
      ],
      "execution_count": 0,
      "outputs": []
    },
    {
      "cell_type": "code",
      "metadata": {
        "id": "c3xgB25S6Vb6",
        "colab_type": "code",
        "colab": {
          "base_uri": "https://localhost:8080/",
          "height": 34
        },
        "outputId": "e10c8eb0-9b84-4147-8255-6ce7bbb1cc6c"
      },
      "source": [
        "#!pip insall spacy\n",
        "\n",
        "spacy.__version__"
      ],
      "execution_count": 2,
      "outputs": [
        {
          "output_type": "execute_result",
          "data": {
            "text/plain": [
              "'2.2.4'"
            ]
          },
          "metadata": {
            "tags": []
          },
          "execution_count": 2
        }
      ]
    },
    {
      "cell_type": "code",
      "metadata": {
        "id": "ZSn_bSnQ6fqu",
        "colab_type": "code",
        "colab": {
          "base_uri": "https://localhost:8080/",
          "height": 119
        },
        "outputId": "f416a02f-4e34-4659-c47b-00812065bca9"
      },
      "source": [
        "spacy.cli.download(\"en\")\n"
      ],
      "execution_count": 5,
      "outputs": [
        {
          "output_type": "stream",
          "text": [
            "\u001b[38;5;2m✔ Download and installation successful\u001b[0m\n",
            "You can now load the model via spacy.load('en_core_web_sm')\n",
            "\u001b[38;5;2m✔ Linking successful\u001b[0m\n",
            "/usr/local/lib/python3.6/dist-packages/en_core_web_sm -->\n",
            "/usr/local/lib/python3.6/dist-packages/spacy/data/en\n",
            "You can now load the model via spacy.load('en')\n"
          ],
          "name": "stdout"
        }
      ]
    },
    {
      "cell_type": "code",
      "metadata": {
        "id": "YD3T1aYl7N3H",
        "colab_type": "code",
        "colab": {}
      },
      "source": [
        "nlp = spacy.load(\"en\")"
      ],
      "execution_count": 0,
      "outputs": []
    },
    {
      "cell_type": "code",
      "metadata": {
        "id": "40IDFhS07tGT",
        "colab_type": "code",
        "colab": {
          "base_uri": "https://localhost:8080/",
          "height": 170
        },
        "outputId": "0e2e9e41-ba8f-46a9-9b43-753c7e290df2"
      },
      "source": [
        "spacy.cli.validate()"
      ],
      "execution_count": 7,
      "outputs": [
        {
          "output_type": "stream",
          "text": [
            "\u001b[2K\u001b[38;5;2m✔ Loaded compatibility table\u001b[0m\n",
            "\u001b[1m\n",
            "====================== Installed models (spaCy v2.2.4) ======================\u001b[0m\n",
            "\u001b[38;5;4mℹ spaCy installation: /usr/local/lib/python3.6/dist-packages/spacy\u001b[0m\n",
            "\n",
            "TYPE      NAME             MODEL            VERSION                            \n",
            "package   en-core-web-sm   en_core_web_sm   \u001b[38;5;2m2.2.5\u001b[0m   \u001b[38;5;2m✔\u001b[0m\n",
            "link      en               en_core_web_sm   \u001b[38;5;2m2.2.5\u001b[0m   \u001b[38;5;2m✔\u001b[0m\n",
            "\n"
          ],
          "name": "stdout"
        }
      ]
    },
    {
      "cell_type": "code",
      "metadata": {
        "id": "EzUAflkQ7vRw",
        "colab_type": "code",
        "colab": {
          "base_uri": "https://localhost:8080/",
          "height": 306
        },
        "outputId": "09a80a05-892f-4d1a-81da-1a6d440997fe"
      },
      "source": [
        "#  try to load German model\n",
        "nlp = spacy.load(\"de_core_news_sm\")"
      ],
      "execution_count": 8,
      "outputs": [
        {
          "output_type": "error",
          "ename": "OSError",
          "evalue": "ignored",
          "traceback": [
            "\u001b[0;31m---------------------------------------------------------------------------\u001b[0m",
            "\u001b[0;31mOSError\u001b[0m                                   Traceback (most recent call last)",
            "\u001b[0;32m<ipython-input-8-1c95052c3bcb>\u001b[0m in \u001b[0;36m<module>\u001b[0;34m()\u001b[0m\n\u001b[0;32m----> 1\u001b[0;31m \u001b[0mnlp\u001b[0m \u001b[0;34m=\u001b[0m \u001b[0mspacy\u001b[0m\u001b[0;34m.\u001b[0m\u001b[0mload\u001b[0m\u001b[0;34m(\u001b[0m\u001b[0;34m\"de_core_news_sm\"\u001b[0m\u001b[0;34m)\u001b[0m\u001b[0;34m\u001b[0m\u001b[0;34m\u001b[0m\u001b[0m\n\u001b[0m",
            "\u001b[0;32m/usr/local/lib/python3.6/dist-packages/spacy/__init__.py\u001b[0m in \u001b[0;36mload\u001b[0;34m(name, **overrides)\u001b[0m\n\u001b[1;32m     28\u001b[0m     \u001b[0;32mif\u001b[0m \u001b[0mdepr_path\u001b[0m \u001b[0;32mnot\u001b[0m \u001b[0;32min\u001b[0m \u001b[0;34m(\u001b[0m\u001b[0;32mTrue\u001b[0m\u001b[0;34m,\u001b[0m \u001b[0;32mFalse\u001b[0m\u001b[0;34m,\u001b[0m \u001b[0;32mNone\u001b[0m\u001b[0;34m)\u001b[0m\u001b[0;34m:\u001b[0m\u001b[0;34m\u001b[0m\u001b[0;34m\u001b[0m\u001b[0m\n\u001b[1;32m     29\u001b[0m         \u001b[0mdeprecation_warning\u001b[0m\u001b[0;34m(\u001b[0m\u001b[0mWarnings\u001b[0m\u001b[0;34m.\u001b[0m\u001b[0mW001\u001b[0m\u001b[0;34m.\u001b[0m\u001b[0mformat\u001b[0m\u001b[0;34m(\u001b[0m\u001b[0mpath\u001b[0m\u001b[0;34m=\u001b[0m\u001b[0mdepr_path\u001b[0m\u001b[0;34m)\u001b[0m\u001b[0;34m)\u001b[0m\u001b[0;34m\u001b[0m\u001b[0;34m\u001b[0m\u001b[0m\n\u001b[0;32m---> 30\u001b[0;31m     \u001b[0;32mreturn\u001b[0m \u001b[0mutil\u001b[0m\u001b[0;34m.\u001b[0m\u001b[0mload_model\u001b[0m\u001b[0;34m(\u001b[0m\u001b[0mname\u001b[0m\u001b[0;34m,\u001b[0m \u001b[0;34m**\u001b[0m\u001b[0moverrides\u001b[0m\u001b[0;34m)\u001b[0m\u001b[0;34m\u001b[0m\u001b[0;34m\u001b[0m\u001b[0m\n\u001b[0m\u001b[1;32m     31\u001b[0m \u001b[0;34m\u001b[0m\u001b[0m\n\u001b[1;32m     32\u001b[0m \u001b[0;34m\u001b[0m\u001b[0m\n",
            "\u001b[0;32m/usr/local/lib/python3.6/dist-packages/spacy/util.py\u001b[0m in \u001b[0;36mload_model\u001b[0;34m(name, **overrides)\u001b[0m\n\u001b[1;32m    167\u001b[0m     \u001b[0;32melif\u001b[0m \u001b[0mhasattr\u001b[0m\u001b[0;34m(\u001b[0m\u001b[0mname\u001b[0m\u001b[0;34m,\u001b[0m \u001b[0;34m\"exists\"\u001b[0m\u001b[0;34m)\u001b[0m\u001b[0;34m:\u001b[0m  \u001b[0;31m# Path or Path-like to model data\u001b[0m\u001b[0;34m\u001b[0m\u001b[0;34m\u001b[0m\u001b[0m\n\u001b[1;32m    168\u001b[0m         \u001b[0;32mreturn\u001b[0m \u001b[0mload_model_from_path\u001b[0m\u001b[0;34m(\u001b[0m\u001b[0mname\u001b[0m\u001b[0;34m,\u001b[0m \u001b[0;34m**\u001b[0m\u001b[0moverrides\u001b[0m\u001b[0;34m)\u001b[0m\u001b[0;34m\u001b[0m\u001b[0;34m\u001b[0m\u001b[0m\n\u001b[0;32m--> 169\u001b[0;31m     \u001b[0;32mraise\u001b[0m \u001b[0mIOError\u001b[0m\u001b[0;34m(\u001b[0m\u001b[0mErrors\u001b[0m\u001b[0;34m.\u001b[0m\u001b[0mE050\u001b[0m\u001b[0;34m.\u001b[0m\u001b[0mformat\u001b[0m\u001b[0;34m(\u001b[0m\u001b[0mname\u001b[0m\u001b[0;34m=\u001b[0m\u001b[0mname\u001b[0m\u001b[0;34m)\u001b[0m\u001b[0;34m)\u001b[0m\u001b[0;34m\u001b[0m\u001b[0;34m\u001b[0m\u001b[0m\n\u001b[0m\u001b[1;32m    170\u001b[0m \u001b[0;34m\u001b[0m\u001b[0m\n\u001b[1;32m    171\u001b[0m \u001b[0;34m\u001b[0m\u001b[0m\n",
            "\u001b[0;31mOSError\u001b[0m: [E050] Can't find model 'de_core_news_sm'. It doesn't seem to be a shortcut link, a Python package or a valid path to a data directory."
          ]
        }
      ]
    },
    {
      "cell_type": "code",
      "metadata": {
        "id": "hRGP3SBp78Hx",
        "colab_type": "code",
        "colab": {
          "base_uri": "https://localhost:8080/",
          "height": 119
        },
        "outputId": "ece1fa57-1425-4002-faf1-b1c9ad51476a"
      },
      "source": [
        "spacy.cli.download(\"de\")"
      ],
      "execution_count": 9,
      "outputs": [
        {
          "output_type": "stream",
          "text": [
            "\u001b[38;5;2m✔ Download and installation successful\u001b[0m\n",
            "You can now load the model via spacy.load('de_core_news_sm')\n",
            "\u001b[38;5;2m✔ Linking successful\u001b[0m\n",
            "/usr/local/lib/python3.6/dist-packages/de_core_news_sm -->\n",
            "/usr/local/lib/python3.6/dist-packages/spacy/data/de\n",
            "You can now load the model via spacy.load('de')\n"
          ],
          "name": "stdout"
        }
      ]
    },
    {
      "cell_type": "code",
      "metadata": {
        "id": "BpWyrbI17_qO",
        "colab_type": "code",
        "colab": {
          "base_uri": "https://localhost:8080/",
          "height": 204
        },
        "outputId": "e1dd422f-61bd-495b-8ad8-04690040a5c8"
      },
      "source": [
        "spacy.cli.validate()"
      ],
      "execution_count": 10,
      "outputs": [
        {
          "output_type": "stream",
          "text": [
            "\u001b[2K\u001b[38;5;2m✔ Loaded compatibility table\u001b[0m\n",
            "\u001b[1m\n",
            "====================== Installed models (spaCy v2.2.4) ======================\u001b[0m\n",
            "\u001b[38;5;4mℹ spaCy installation: /usr/local/lib/python3.6/dist-packages/spacy\u001b[0m\n",
            "\n",
            "TYPE      NAME              MODEL             VERSION                            \n",
            "package   en-core-web-sm    en_core_web_sm    \u001b[38;5;2m2.2.5\u001b[0m   \u001b[38;5;2m✔\u001b[0m\n",
            "package   de-core-news-sm   de_core_news_sm   \u001b[38;5;2m2.2.5\u001b[0m   \u001b[38;5;2m✔\u001b[0m\n",
            "link      en                en_core_web_sm    \u001b[38;5;2m2.2.5\u001b[0m   \u001b[38;5;2m✔\u001b[0m\n",
            "link      de                de_core_news_sm   \u001b[38;5;2m2.2.5\u001b[0m   \u001b[38;5;2m✔\u001b[0m\n",
            "\n"
          ],
          "name": "stdout"
        }
      ]
    },
    {
      "cell_type": "code",
      "metadata": {
        "id": "eBBCQAhK8Evh",
        "colab_type": "code",
        "colab": {}
      },
      "source": [
        "sampleText = \"Hello Guys! The class is going on\""
      ],
      "execution_count": 0,
      "outputs": []
    },
    {
      "cell_type": "code",
      "metadata": {
        "id": "C3zm5CMg8Vfd",
        "colab_type": "code",
        "colab": {}
      },
      "source": [
        "nlp = spacy.load(\"en\")"
      ],
      "execution_count": 0,
      "outputs": []
    },
    {
      "cell_type": "code",
      "metadata": {
        "id": "gLKqaLxB8ZAQ",
        "colab_type": "code",
        "colab": {}
      },
      "source": [
        "doc = nlp(sampleText)"
      ],
      "execution_count": 0,
      "outputs": []
    },
    {
      "cell_type": "code",
      "metadata": {
        "id": "0fil7YE08fzQ",
        "colab_type": "code",
        "colab": {
          "base_uri": "https://localhost:8080/",
          "height": 34
        },
        "outputId": "41922ace-ee12-49b3-9c3b-f635fe0545ae"
      },
      "source": [
        "type (doc)"
      ],
      "execution_count": 25,
      "outputs": [
        {
          "output_type": "execute_result",
          "data": {
            "text/plain": [
              "spacy.tokens.doc.Doc"
            ]
          },
          "metadata": {
            "tags": []
          },
          "execution_count": 25
        }
      ]
    },
    {
      "cell_type": "code",
      "metadata": {
        "id": "r2j9kuvf8hoF",
        "colab_type": "code",
        "colab": {
          "base_uri": "https://localhost:8080/",
          "height": 34
        },
        "outputId": "f3a6c2fa-591a-4c82-8dfb-5674eb6622b1"
      },
      "source": [
        "print(doc)"
      ],
      "execution_count": 26,
      "outputs": [
        {
          "output_type": "stream",
          "text": [
            "Hello Guys! The class is going on\n"
          ],
          "name": "stdout"
        }
      ]
    },
    {
      "cell_type": "code",
      "metadata": {
        "id": "SeE99UZf8uFN",
        "colab_type": "code",
        "colab": {}
      },
      "source": [
        "for token in doc:\n",
        "  print(token.text.upper(), token.is_stop, token.idx)"
      ],
      "execution_count": 0,
      "outputs": []
    },
    {
      "cell_type": "code",
      "metadata": {
        "id": "WIQj2jIe9F57",
        "colab_type": "code",
        "colab": {}
      },
      "source": [
        "#english model date format is like mm/dd/yyyy (month from 0 to 11)\n",
        "amazonText = \"COVID is spreading heavily on 18-Apr-2020. More than last month 04/17/2020. It was must less on t on  11-01-2020 date. Jef Bezos has one company  Last month, Amazon India announced, without much noise, that it would allow Amazon Pay users to transfer money to each other through Unified Payments Interface (UPI), one of the most popular routes for making online transactions in the country. It is the ecommerce giant’s biggest recent decision in the digital payments segment, marking its entry in what promises to be a global battle for this market.\"\n",
        "amazonDoc = nlp(amazonText)"
      ],
      "execution_count": 0,
      "outputs": []
    },
    {
      "cell_type": "code",
      "metadata": {
        "id": "2xeUp3IX-hHq",
        "colab_type": "code",
        "colab": {
          "base_uri": "https://localhost:8080/",
          "height": 204
        },
        "outputId": "e183ea4f-745a-47bd-ac50-c175e3506a40"
      },
      "source": [
        "for entity in amazonDoc.ents:\n",
        "  print(entity, entity.label_, entity.label)\n"
      ],
      "execution_count": 59,
      "outputs": [
        {
          "output_type": "stream",
          "text": [
            "COVID ORG 383\n",
            "18-Apr-2020 DATE 391\n",
            "More than last month 04/17/2020 DATE 391\n",
            "11-01-2020 DATE 391\n",
            "Jef Bezos PERSON 380\n",
            "one CARDINAL 397\n",
            "Last month DATE 391\n",
            "Amazon India ORG 383\n",
            "Amazon ORG 383\n",
            "Unified Payments Interface ORG 383\n",
            "UPI ORG 383\n"
          ],
          "name": "stdout"
        }
      ]
    },
    {
      "cell_type": "code",
      "metadata": {
        "id": "CX_T70KZ-p3v",
        "colab_type": "code",
        "colab": {}
      },
      "source": [
        "from spacy import displacy"
      ],
      "execution_count": 0,
      "outputs": []
    },
    {
      "cell_type": "code",
      "metadata": {
        "id": "HjPXR-WUAUZG",
        "colab_type": "code",
        "colab": {
          "base_uri": "https://localhost:8080/",
          "height": 157
        },
        "outputId": "684e7ee8-621e-4181-e9d1-00e5d4c2fb67"
      },
      "source": [
        "displacy.render(amazonDoc,jupyter=True, style=\"ent\")"
      ],
      "execution_count": 60,
      "outputs": [
        {
          "output_type": "display_data",
          "data": {
            "text/html": [
              "<span class=\"tex2jax_ignore\"><div class=\"entities\" style=\"line-height: 2.5; direction: ltr\">\n",
              "<mark class=\"entity\" style=\"background: #7aecec; padding: 0.45em 0.6em; margin: 0 0.25em; line-height: 1; border-radius: 0.35em;\">\n",
              "    COVID\n",
              "    <span style=\"font-size: 0.8em; font-weight: bold; line-height: 1; border-radius: 0.35em; text-transform: uppercase; vertical-align: middle; margin-left: 0.5rem\">ORG</span>\n",
              "</mark>\n",
              " is spreading heavily on \n",
              "<mark class=\"entity\" style=\"background: #bfe1d9; padding: 0.45em 0.6em; margin: 0 0.25em; line-height: 1; border-radius: 0.35em;\">\n",
              "    18-Apr-2020\n",
              "    <span style=\"font-size: 0.8em; font-weight: bold; line-height: 1; border-radius: 0.35em; text-transform: uppercase; vertical-align: middle; margin-left: 0.5rem\">DATE</span>\n",
              "</mark>\n",
              ". \n",
              "<mark class=\"entity\" style=\"background: #bfe1d9; padding: 0.45em 0.6em; margin: 0 0.25em; line-height: 1; border-radius: 0.35em;\">\n",
              "    More than last month 04/17/2020\n",
              "    <span style=\"font-size: 0.8em; font-weight: bold; line-height: 1; border-radius: 0.35em; text-transform: uppercase; vertical-align: middle; margin-left: 0.5rem\">DATE</span>\n",
              "</mark>\n",
              ". It was must less on t on  \n",
              "<mark class=\"entity\" style=\"background: #bfe1d9; padding: 0.45em 0.6em; margin: 0 0.25em; line-height: 1; border-radius: 0.35em;\">\n",
              "    11-01-2020\n",
              "    <span style=\"font-size: 0.8em; font-weight: bold; line-height: 1; border-radius: 0.35em; text-transform: uppercase; vertical-align: middle; margin-left: 0.5rem\">DATE</span>\n",
              "</mark>\n",
              " date. \n",
              "<mark class=\"entity\" style=\"background: #aa9cfc; padding: 0.45em 0.6em; margin: 0 0.25em; line-height: 1; border-radius: 0.35em;\">\n",
              "    Jef Bezos\n",
              "    <span style=\"font-size: 0.8em; font-weight: bold; line-height: 1; border-radius: 0.35em; text-transform: uppercase; vertical-align: middle; margin-left: 0.5rem\">PERSON</span>\n",
              "</mark>\n",
              " has \n",
              "<mark class=\"entity\" style=\"background: #e4e7d2; padding: 0.45em 0.6em; margin: 0 0.25em; line-height: 1; border-radius: 0.35em;\">\n",
              "    one\n",
              "    <span style=\"font-size: 0.8em; font-weight: bold; line-height: 1; border-radius: 0.35em; text-transform: uppercase; vertical-align: middle; margin-left: 0.5rem\">CARDINAL</span>\n",
              "</mark>\n",
              " company  \n",
              "<mark class=\"entity\" style=\"background: #bfe1d9; padding: 0.45em 0.6em; margin: 0 0.25em; line-height: 1; border-radius: 0.35em;\">\n",
              "    Last month\n",
              "    <span style=\"font-size: 0.8em; font-weight: bold; line-height: 1; border-radius: 0.35em; text-transform: uppercase; vertical-align: middle; margin-left: 0.5rem\">DATE</span>\n",
              "</mark>\n",
              ", \n",
              "<mark class=\"entity\" style=\"background: #7aecec; padding: 0.45em 0.6em; margin: 0 0.25em; line-height: 1; border-radius: 0.35em;\">\n",
              "    Amazon India\n",
              "    <span style=\"font-size: 0.8em; font-weight: bold; line-height: 1; border-radius: 0.35em; text-transform: uppercase; vertical-align: middle; margin-left: 0.5rem\">ORG</span>\n",
              "</mark>\n",
              " announced, without much noise, that it would allow \n",
              "<mark class=\"entity\" style=\"background: #7aecec; padding: 0.45em 0.6em; margin: 0 0.25em; line-height: 1; border-radius: 0.35em;\">\n",
              "    Amazon\n",
              "    <span style=\"font-size: 0.8em; font-weight: bold; line-height: 1; border-radius: 0.35em; text-transform: uppercase; vertical-align: middle; margin-left: 0.5rem\">ORG</span>\n",
              "</mark>\n",
              " Pay users to transfer money to each other through \n",
              "<mark class=\"entity\" style=\"background: #7aecec; padding: 0.45em 0.6em; margin: 0 0.25em; line-height: 1; border-radius: 0.35em;\">\n",
              "    Unified Payments Interface\n",
              "    <span style=\"font-size: 0.8em; font-weight: bold; line-height: 1; border-radius: 0.35em; text-transform: uppercase; vertical-align: middle; margin-left: 0.5rem\">ORG</span>\n",
              "</mark>\n",
              " (\n",
              "<mark class=\"entity\" style=\"background: #7aecec; padding: 0.45em 0.6em; margin: 0 0.25em; line-height: 1; border-radius: 0.35em;\">\n",
              "    UPI\n",
              "    <span style=\"font-size: 0.8em; font-weight: bold; line-height: 1; border-radius: 0.35em; text-transform: uppercase; vertical-align: middle; margin-left: 0.5rem\">ORG</span>\n",
              "</mark>\n",
              "), one of the most popular routes for making online transactions in the country. It is the ecommerce giant’s biggest recent decision in the digital payments segment, marking its entry in what promises to be a global battle for this market.</div></span>"
            ],
            "text/plain": [
              "<IPython.core.display.HTML object>"
            ]
          },
          "metadata": {
            "tags": []
          }
        }
      ]
    },
    {
      "cell_type": "code",
      "metadata": {
        "id": "kVPQpGp9AYfj",
        "colab_type": "code",
        "colab": {
          "base_uri": "https://localhost:8080/",
          "height": 122
        },
        "outputId": "9c66af57-2308-4394-8599-eb622ef957ee"
      },
      "source": [
        "#Sentence tokenizer\n",
        "for sent in amazonDoc.sents:\n",
        "  print(sent)"
      ],
      "execution_count": 62,
      "outputs": [
        {
          "output_type": "stream",
          "text": [
            "COVID is spreading heavily on 18-Apr-2020.\n",
            "More than last month 04/17/2020.\n",
            "It was must less on t on  11-01-2020 date.\n",
            "Jef Bezos has one company  Last month, Amazon India announced, without much noise, that it would allow Amazon Pay users to transfer money to each other through Unified Payments Interface (UPI), one of the most popular routes for making online transactions in the country.\n",
            "It is the ecommerce giant’s biggest recent decision in the digital payments segment, marking its entry in what promises to be a global battle for this market.\n"
          ],
          "name": "stdout"
        }
      ]
    },
    {
      "cell_type": "code",
      "metadata": {
        "id": "2xdciKx7DiKS",
        "colab_type": "code",
        "colab": {}
      },
      "source": [
        "#Filtering\n",
        "for token in amazonDoc:\n",
        "  if token.is_alpha:\n",
        "    if not token.is_stop:\n",
        "      print(token)\n"
      ],
      "execution_count": 0,
      "outputs": []
    },
    {
      "cell_type": "code",
      "metadata": {
        "colab_type": "code",
        "id": "O4kh1rVqFsPD",
        "colab": {}
      },
      "source": [
        "# punctuation in the document\n",
        "for token in amazonDoc:\n",
        "  if token.is_punct:\n",
        "    print(token)"
      ],
      "execution_count": 0,
      "outputs": []
    },
    {
      "cell_type": "code",
      "metadata": {
        "id": "X8TMLXK8EKRq",
        "colab_type": "code",
        "colab": {
          "base_uri": "https://localhost:8080/",
          "height": 54
        },
        "outputId": "b81846ee-8703-498d-b05c-752c04b1ba46"
      },
      "source": [
        "print (nlp.Defaults.stop_words)"
      ],
      "execution_count": 65,
      "outputs": [
        {
          "output_type": "stream",
          "text": [
            "{'any', 'more', 'whoever', 'without', 'get', 'latterly', 'many', 'throughout', 'how', 'put', 'ca', 'from', 'side', 'us', 'we', 'am', 'their', 'which', 'really', 'itself', 'somewhere', 'much', \"'d\", 'yet', '‘ve', 'often', 'least', 'using', 'thereupon', 'why', 'make', 'became', 'ever', 'move', 'whom', 'whose', 'ten', 'at', 'herein', 'were', \"'s\", 'another', 'thereby', 'someone', 'namely', 'two', 'all', 'although', 'few', 'have', 'will', 'below', 'may', 'and', 'should', 'by', 'other', 'yours', 'otherwise', 'indeed', 'give', 'whereby', 'since', 'almost', 'same', 'quite', 'once', 'or', 'them', 'what', 'one', 'upon', 'when', 'while', 'themselves', 'twenty', 'however', 'anyway', 'go', 'serious', 'besides', 'every', 'has', 'is', 'those', 'an', 'even', 'before', 'keep', 'thru', 'over', '‘ll', 'becomes', 'where', 'further', 'sometime', 'me', 'various', 'just', 'nine', 'beyond', 'in', 'whence', 'alone', 'n‘t', 'doing', 'was', '’ll', '’m', 'cannot', '’d', 'name', 'the', 'whole', \"'re\", '‘s', 'everyone', 'herself', 'moreover', 'take', 'everything', 'becoming', 'must', 'done', '’re', 'less', 'against', 'if', 'as', 'its', 'also', 'between', 'therefore', 'something', 'thereafter', 'well', 'he', 'his', 'of', 'amongst', 'four', 'your', 'both', 'elsewhere', 'there', 'had', 'himself', 'under', 'beside', 'might', 'three', 'fifteen', 'fifty', 'twelve', 'nothing', 'some', 'somehow', 'up', 'via', 'own', 'you', 'ours', 'no', 'so', 'amount', 'not', 'sixty', 'can', 'they', 'whenever', 'n’t', 'across', 'rather', '’ve', 'everywhere', 'such', 'towards', 'last', 'sometimes', 'unless', 'whether', 'made', 'here', 'else', 'could', 'six', 'back', 'whereafter', 'become', 'off', 'seem', \"'ll\", 'down', 'nor', 'about', 'that', \"'m\", 'does', 'seemed', 'therein', 'thus', 'empty', 'because', 'show', 'enough', '’s', 'hers', 'whereupon', 'front', 'then', 'though', 'nobody', 'afterwards', 'i', 'others', 'hereafter', 'next', 'only', 'among', 'are', 'anyone', 'formerly', 'this', 'part', 'seems', 'hundred', 'used', 'mine', 'our', 'call', 'each', 'still', 'but', 'anything', 'myself', 'for', 'neither', 'onto', 'until', 'who', 'whither', 'please', \"'ve\", 'again', 'ourselves', 'her', 'perhaps', 'wherein', '‘d', 'would', 'due', 'first', 'toward', 'already', 'after', 'most', 'around', 'hereby', 'latter', 'nevertheless', 'always', 'anywhere', 'my', 'him', 'than', 'former', 'see', 'been', 'full', '‘re', 'whatever', 'none', 'yourself', 'hereupon', 'either', 'third', 'eight', 'mostly', 'very', 're', 'behind', 'with', 'during', 'through', 'regarding', 'too', 'these', 'whereas', 'thence', 'being', 'except', 'yourselves', 'above', 'a', 'it', 'several', 'to', 'forty', 'do', 'hence', 'out', 'top', 'five', 'on', 'be', 'seeming', 'together', 'within', 'bottom', '‘m', 'anyhow', 'into', 'along', 'nowhere', 'never', 'say', 'now', 'she', 'noone', 'did', 'beforehand', 'meanwhile', 'per', 'wherever', 'eleven', \"n't\"}\n"
          ],
          "name": "stdout"
        }
      ]
    },
    {
      "cell_type": "code",
      "metadata": {
        "id": "MlEWW5uAEaNa",
        "colab_type": "code",
        "colab": {}
      },
      "source": [
        "# part of speech\n",
        "for token in amazonDoc:\n",
        "  print(token, token.pos_, token.tag_)"
      ],
      "execution_count": 0,
      "outputs": []
    },
    {
      "cell_type": "code",
      "metadata": {
        "colab_type": "code",
        "id": "kky7Wkp0FTtv",
        "colab": {}
      },
      "source": [
        "# Lemmatization \n",
        "for token in amazonDoc:\n",
        "  print(token, token.lemma_)"
      ],
      "execution_count": 0,
      "outputs": []
    },
    {
      "cell_type": "code",
      "metadata": {
        "id": "2qF3GdH8FZ0l",
        "colab_type": "code",
        "colab": {}
      },
      "source": [
        "# Noun chunks\n",
        "for token in amazonDoc.noun_chunks:\n",
        "  print(token, token.root.text)"
      ],
      "execution_count": 0,
      "outputs": []
    },
    {
      "cell_type": "code",
      "metadata": {
        "id": "kQqMcn-xGYej",
        "colab_type": "code",
        "colab": {}
      },
      "source": [
        "a  = nlp(\"amazon\")\n",
        "g  = nlp(\"google\")\n",
        "f  = nlp(\"facebook\")\n",
        "w  = nlp(\"walmart\")\n",
        "c = nlp(\"costco\")\n"
      ],
      "execution_count": 0,
      "outputs": []
    },
    {
      "cell_type": "code",
      "metadata": {
        "id": "HtlEx7RfHQw_",
        "colab_type": "code",
        "colab": {}
      },
      "source": [
        "c.similarity(w), c.similarity(a)"
      ],
      "execution_count": 0,
      "outputs": []
    },
    {
      "cell_type": "code",
      "metadata": {
        "id": "DCEKy2C6HVL1",
        "colab_type": "code",
        "colab": {}
      },
      "source": [
        "f.similarity(g), f.similarity(w)"
      ],
      "execution_count": 0,
      "outputs": []
    },
    {
      "cell_type": "code",
      "metadata": {
        "id": "03EoHNVKHiWd",
        "colab_type": "code",
        "colab": {}
      },
      "source": [
        "#Sentimental analysis\n",
        "from nltk.sentiment.vader import SentimentIntensityAnalyzer\n",
        "import nltk"
      ],
      "execution_count": 0,
      "outputs": []
    },
    {
      "cell_type": "code",
      "metadata": {
        "id": "OZqH77dbIuaF",
        "colab_type": "code",
        "colab": {}
      },
      "source": [
        "nltk.download('vader_lexicon')\n",
        "sia = SentimentIntensityAnalyzer()"
      ],
      "execution_count": 0,
      "outputs": []
    },
    {
      "cell_type": "code",
      "metadata": {
        "id": "Nx-Lo_caIz9c",
        "colab_type": "code",
        "colab": {
          "base_uri": "https://localhost:8080/",
          "height": 51
        },
        "outputId": "084ba907-e4d8-4521-c1fc-dc4668e97f5a"
      },
      "source": [
        ""
      ],
      "execution_count": 81,
      "outputs": [
        {
          "output_type": "stream",
          "text": [
            "[nltk_data] Downloading package vader_lexicon to /root/nltk_data...\n"
          ],
          "name": "stdout"
        },
        {
          "output_type": "execute_result",
          "data": {
            "text/plain": [
              "True"
            ]
          },
          "metadata": {
            "tags": []
          },
          "execution_count": 81
        }
      ]
    },
    {
      "cell_type": "code",
      "metadata": {
        "id": "02qHxh9AI2tN",
        "colab_type": "code",
        "colab": {}
      },
      "source": [
        "sampleText = \"Food was Very good bad delivery in good weather\""
      ],
      "execution_count": 0,
      "outputs": []
    },
    {
      "cell_type": "code",
      "metadata": {
        "id": "1PZwCP0OJSO1",
        "colab_type": "code",
        "colab": {}
      },
      "source": [
        "sampleDoc = nlp(sampleText)"
      ],
      "execution_count": 0,
      "outputs": []
    },
    {
      "cell_type": "code",
      "metadata": {
        "id": "GLyc_W0xJa0o",
        "colab_type": "code",
        "colab": {
          "base_uri": "https://localhost:8080/",
          "height": 34
        },
        "outputId": "7abacbe1-cb86-465e-c702-cb50760bde4f"
      },
      "source": [
        "sampleDoc.sentiment"
      ],
      "execution_count": 129,
      "outputs": [
        {
          "output_type": "execute_result",
          "data": {
            "text/plain": [
              "0.0"
            ]
          },
          "metadata": {
            "tags": []
          },
          "execution_count": 129
        }
      ]
    },
    {
      "cell_type": "code",
      "metadata": {
        "id": "pPWPC9TbJgbW",
        "colab_type": "code",
        "colab": {
          "base_uri": "https://localhost:8080/",
          "height": 34
        },
        "outputId": "462afcb8-b173-4049-b88b-3b1d13347d3e"
      },
      "source": [
        "sia.polarity_scores(sampleText)"
      ],
      "execution_count": 130,
      "outputs": [
        {
          "output_type": "execute_result",
          "data": {
            "text/plain": [
              "{'compound': 0.3834, 'neg': 0.234, 'neu': 0.371, 'pos': 0.395}"
            ]
          },
          "metadata": {
            "tags": []
          },
          "execution_count": 130
        }
      ]
    },
    {
      "cell_type": "code",
      "metadata": {
        "id": "V295MVZgJoy4",
        "colab_type": "code",
        "colab": {}
      },
      "source": [
        ""
      ],
      "execution_count": 0,
      "outputs": []
    }
  ]
}