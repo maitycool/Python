{
  "nbformat": 4,
  "nbformat_minor": 0,
  "metadata": {
    "colab": {
      "name": "Mar1_TensorFlow_101.ipynb",
      "provenance": [],
      "collapsed_sections": []
    },
    "kernelspec": {
      "name": "python3",
      "display_name": "Python 3"
    },
    "accelerator": "GPU"
  },
  "cells": [
    {
      "cell_type": "code",
      "metadata": {
        "id": "UuIE7kjJVbqh",
        "colab_type": "code",
        "colab": {}
      },
      "source": [
        "#Python Version - 3.x\n",
        "#TensorFlow - 2.x"
      ],
      "execution_count": 0,
      "outputs": []
    },
    {
      "cell_type": "code",
      "metadata": {
        "id": "J-AXTrWyZwM0",
        "colab_type": "code",
        "outputId": "7992e400-8261-41e4-a702-a33c978c5e7b",
        "colab": {
          "base_uri": "https://localhost:8080/",
          "height": 34
        }
      },
      "source": [
        "import sys;sys.version"
      ],
      "execution_count": 2,
      "outputs": [
        {
          "output_type": "execute_result",
          "data": {
            "text/plain": [
              "'3.6.9 (default, Nov  7 2019, 10:44:02) \\n[GCC 8.3.0]'"
            ]
          },
          "metadata": {
            "tags": []
          },
          "execution_count": 2
        }
      ]
    },
    {
      "cell_type": "code",
      "metadata": {
        "id": "cYGVsLH-Z6ai",
        "colab_type": "code",
        "colab": {}
      },
      "source": [
        "# How to check RAM"
      ],
      "execution_count": 0,
      "outputs": []
    },
    {
      "cell_type": "code",
      "metadata": {
        "id": "8aneSaokZ9KF",
        "colab_type": "code",
        "outputId": "96611ce6-faaa-4853-91bd-f963bc4c28e0",
        "colab": {
          "base_uri": "https://localhost:8080/",
          "height": 68
        }
      },
      "source": [
        "!free -m"
      ],
      "execution_count": 4,
      "outputs": [
        {
          "output_type": "stream",
          "text": [
            "              total        used        free      shared  buff/cache   available\n",
            "Mem:          13022         567       10377           0        2077       12177\n",
            "Swap:             0           0           0\n"
          ],
          "name": "stdout"
        }
      ]
    },
    {
      "cell_type": "code",
      "metadata": {
        "id": "1H4BmHp8Z-Qw",
        "colab_type": "code",
        "outputId": "ee478fc9-b988-460a-9069-15581fc4a15c",
        "colab": {
          "base_uri": "https://localhost:8080/",
          "height": 306
        }
      },
      "source": [
        "! nvidia-smi"
      ],
      "execution_count": 5,
      "outputs": [
        {
          "output_type": "stream",
          "text": [
            "Sun Mar  8 14:56:33 2020       \n",
            "+-----------------------------------------------------------------------------+\n",
            "| NVIDIA-SMI 440.59       Driver Version: 418.67       CUDA Version: 10.1     |\n",
            "|-------------------------------+----------------------+----------------------+\n",
            "| GPU  Name        Persistence-M| Bus-Id        Disp.A | Volatile Uncorr. ECC |\n",
            "| Fan  Temp  Perf  Pwr:Usage/Cap|         Memory-Usage | GPU-Util  Compute M. |\n",
            "|===============================+======================+======================|\n",
            "|   0  Tesla P100-PCIE...  Off  | 00000000:00:04.0 Off |                    0 |\n",
            "| N/A   38C    P0    27W / 250W |      0MiB / 16280MiB |      0%      Default |\n",
            "+-------------------------------+----------------------+----------------------+\n",
            "                                                                               \n",
            "+-----------------------------------------------------------------------------+\n",
            "| Processes:                                                       GPU Memory |\n",
            "|  GPU       PID   Type   Process name                             Usage      |\n",
            "|=============================================================================|\n",
            "|  No running processes found                                                 |\n",
            "+-----------------------------------------------------------------------------+\n"
          ],
          "name": "stdout"
        }
      ]
    },
    {
      "cell_type": "code",
      "metadata": {
        "id": "hp5TYl7GaIfD",
        "colab_type": "code",
        "outputId": "618953bb-83de-4034-a031-456af69d9400",
        "colab": {
          "base_uri": "https://localhost:8080/",
          "height": 34
        }
      },
      "source": [
        "! df -h | grep sda1"
      ],
      "execution_count": 6,
      "outputs": [
        {
          "output_type": "stream",
          "text": [
            "/dev/sda1        75G   37G   38G  50% /opt/bin\n"
          ],
          "name": "stdout"
        }
      ]
    },
    {
      "cell_type": "code",
      "metadata": {
        "id": "uMrfe9YHaSU-",
        "colab_type": "code",
        "colab": {}
      },
      "source": [
        "# If you want to install tensorflow - pip install tensorflow==2.0.0   #us e this line if on local Jupyter system"
      ],
      "execution_count": 0,
      "outputs": []
    },
    {
      "cell_type": "code",
      "metadata": {
        "id": "fVnkT4o6alBl",
        "colab_type": "code",
        "outputId": "f1976cc0-da06-436c-a2fa-98f0d2379673",
        "colab": {
          "base_uri": "https://localhost:8080/",
          "height": 102
        }
      },
      "source": [
        "%tensorflow_version 2.0.0     #use this line if on COlab"
      ],
      "execution_count": 8,
      "outputs": [
        {
          "output_type": "stream",
          "text": [
            "`%tensorflow_version` only switches the major version: 1.x or 2.x.\n",
            "You set: `2.0.0     #use this line if on COlab`. This will be interpreted as: `2.x`.\n",
            "\n",
            "\n",
            "TensorFlow 2.x selected.\n"
          ],
          "name": "stdout"
        }
      ]
    },
    {
      "cell_type": "code",
      "metadata": {
        "id": "6tqYcYagao7Q",
        "colab_type": "code",
        "colab": {}
      },
      "source": [
        "import tensorflow as tf"
      ],
      "execution_count": 0,
      "outputs": []
    },
    {
      "cell_type": "code",
      "metadata": {
        "id": "vgwRMpJVcb8N",
        "colab_type": "code",
        "outputId": "fb7e8a24-6d41-4b6e-9e33-727838fd5cd4",
        "colab": {
          "base_uri": "https://localhost:8080/",
          "height": 34
        }
      },
      "source": [
        "tf.__version__"
      ],
      "execution_count": 10,
      "outputs": [
        {
          "output_type": "execute_result",
          "data": {
            "text/plain": [
              "'2.1.0'"
            ]
          },
          "metadata": {
            "tags": []
          },
          "execution_count": 10
        }
      ]
    },
    {
      "cell_type": "code",
      "metadata": {
        "id": "4_wOHpdockDa",
        "colab_type": "code",
        "outputId": "3a2f73e4-aabf-4f3f-f528-2aecc0ca07f1",
        "colab": {
          "base_uri": "https://localhost:8080/",
          "height": 34
        }
      },
      "source": [
        "tf.keras.__version__"
      ],
      "execution_count": 11,
      "outputs": [
        {
          "output_type": "execute_result",
          "data": {
            "text/plain": [
              "'2.2.4-tf'"
            ]
          },
          "metadata": {
            "tags": []
          },
          "execution_count": 11
        }
      ]
    },
    {
      "cell_type": "code",
      "metadata": {
        "id": "RlzVRwNvctz7",
        "colab_type": "code",
        "colab": {}
      },
      "source": [
        "import numpy as np\n",
        "import matplotlib.pyplot as plt\n",
        "import pandas as pd\n",
        "\n"
      ],
      "execution_count": 0,
      "outputs": []
    },
    {
      "cell_type": "code",
      "metadata": {
        "id": "ll37EdlGeEYB",
        "colab_type": "code",
        "colab": {}
      },
      "source": [
        "from tensorflow.keras.datasets import fashion_mnist"
      ],
      "execution_count": 0,
      "outputs": []
    },
    {
      "cell_type": "code",
      "metadata": {
        "id": "JwZRUzCxez9w",
        "colab_type": "code",
        "colab": {
          "base_uri": "https://localhost:8080/",
          "height": 153
        },
        "outputId": "4282bdc3-0844-4339-85da-82a09f275305"
      },
      "source": [
        "#Input to the model is images and output is label \n",
        "# Dataset is divided in 2 parts - test & train \n",
        "(x_train, y_train),(x_test, y_test) = fashion_mnist.load_data()"
      ],
      "execution_count": 14,
      "outputs": [
        {
          "output_type": "stream",
          "text": [
            "Downloading data from https://storage.googleapis.com/tensorflow/tf-keras-datasets/train-labels-idx1-ubyte.gz\n",
            "32768/29515 [=================================] - 0s 0us/step\n",
            "Downloading data from https://storage.googleapis.com/tensorflow/tf-keras-datasets/train-images-idx3-ubyte.gz\n",
            "26427392/26421880 [==============================] - 0s 0us/step\n",
            "Downloading data from https://storage.googleapis.com/tensorflow/tf-keras-datasets/t10k-labels-idx1-ubyte.gz\n",
            "8192/5148 [===============================================] - 0s 0us/step\n",
            "Downloading data from https://storage.googleapis.com/tensorflow/tf-keras-datasets/t10k-images-idx3-ubyte.gz\n",
            "4423680/4422102 [==============================] - 0s 0us/step\n"
          ],
          "name": "stdout"
        }
      ]
    },
    {
      "cell_type": "code",
      "metadata": {
        "id": "ey-7zmqMixZx",
        "colab_type": "code",
        "outputId": "e9302967-ed1c-492c-867e-b78fdd7c94b0",
        "colab": {
          "base_uri": "https://localhost:8080/",
          "height": 34
        }
      },
      "source": [
        "type(x_train), type(y_train), type(x_test), type(y_test)"
      ],
      "execution_count": 15,
      "outputs": [
        {
          "output_type": "execute_result",
          "data": {
            "text/plain": [
              "(numpy.ndarray, numpy.ndarray, numpy.ndarray, numpy.ndarray)"
            ]
          },
          "metadata": {
            "tags": []
          },
          "execution_count": 15
        }
      ]
    },
    {
      "cell_type": "code",
      "metadata": {
        "id": "HMCWvJp9jCh9",
        "colab_type": "code",
        "outputId": "963f4fe0-7650-4b56-d835-386745c2b3b6",
        "colab": {
          "base_uri": "https://localhost:8080/",
          "height": 34
        }
      },
      "source": [
        "x_train.shape, y_train.shape"
      ],
      "execution_count": 16,
      "outputs": [
        {
          "output_type": "execute_result",
          "data": {
            "text/plain": [
              "((60000, 28, 28), (60000,))"
            ]
          },
          "metadata": {
            "tags": []
          },
          "execution_count": 16
        }
      ]
    },
    {
      "cell_type": "code",
      "metadata": {
        "id": "-1c1jj-QjUKM",
        "colab_type": "code",
        "colab": {}
      },
      "source": [
        "#Channels are R G B A"
      ],
      "execution_count": 0,
      "outputs": []
    },
    {
      "cell_type": "code",
      "metadata": {
        "id": "7B3ascX5j4mc",
        "colab_type": "code",
        "colab": {}
      },
      "source": [
        "#Grayscale has only 1 channel"
      ],
      "execution_count": 0,
      "outputs": []
    },
    {
      "cell_type": "code",
      "metadata": {
        "id": "-v_Z8h5mkBOc",
        "colab_type": "code",
        "outputId": "66854770-d266-4eae-93b7-3888b2d53f71",
        "colab": {
          "base_uri": "https://localhost:8080/",
          "height": 34
        }
      },
      "source": [
        "x_test.shape, y_test.shape"
      ],
      "execution_count": 19,
      "outputs": [
        {
          "output_type": "execute_result",
          "data": {
            "text/plain": [
              "((10000, 28, 28), (10000,))"
            ]
          },
          "metadata": {
            "tags": []
          },
          "execution_count": 19
        }
      ]
    },
    {
      "cell_type": "code",
      "metadata": {
        "id": "1ip1E_pokSRc",
        "colab_type": "code",
        "outputId": "b3d6dd8b-9bef-4350-a418-32a5d7441e36",
        "colab": {
          "base_uri": "https://localhost:8080/",
          "height": 282
        }
      },
      "source": [
        "plt.imshow(x_train[3],cmap=\"gray\")"
      ],
      "execution_count": 20,
      "outputs": [
        {
          "output_type": "execute_result",
          "data": {
            "text/plain": [
              "<matplotlib.image.AxesImage at 0x7f1e3e8751d0>"
            ]
          },
          "metadata": {
            "tags": []
          },
          "execution_count": 20
        },
        {
          "output_type": "display_data",
          "data": {
            "image/png": "[encoded data removed]",
            "text/plain": [
              "<Figure size 432x288 with 1 Axes>"
            ]
          },
          "metadata": {
            "tags": []
          }
        }
      ]
    },
    {
      "cell_type": "code",
      "metadata": {
        "id": "UnD9kxuIkvcc",
        "colab_type": "code",
        "outputId": "473887d8-5ad0-4b12-a662-182a1e9fc07f",
        "colab": {
          "base_uri": "https://localhost:8080/",
          "height": 34
        }
      },
      "source": [
        "\n",
        "print( y_train[3])\n"
      ],
      "execution_count": 21,
      "outputs": [
        {
          "output_type": "stream",
          "text": [
            "3\n"
          ],
          "name": "stdout"
        }
      ]
    },
    {
      "cell_type": "markdown",
      "metadata": {
        "id": "UETKwXOplvSS",
        "colab_type": "text"
      },
      "source": [
        "\n",
        "```\n",
        "Label\tDescription\n",
        "0\tT-shirt/top\n",
        "1\tTrouser\n",
        "2\tPullover\n",
        "3\tDress\n",
        "4\tCoat\n",
        "5\tSandal\n",
        "6\tShirt\n",
        "7\tSneaker\n",
        "8\tBag\n",
        "9\tAnkle boot\n",
        "\n",
        "# This is formatted as code\n",
        "```\n",
        "\n"
      ]
    },
    {
      "cell_type": "code",
      "metadata": {
        "id": "5YlfX1zpk6gc",
        "colab_type": "code",
        "outputId": "138b736a-479e-48df-98ca-69daf47fafb8",
        "colab": {
          "base_uri": "https://localhost:8080/",
          "height": 34
        }
      },
      "source": [
        "x_train[3].max(),x_train[3].min()"
      ],
      "execution_count": 22,
      "outputs": [
        {
          "output_type": "execute_result",
          "data": {
            "text/plain": [
              "(255, 0)"
            ]
          },
          "metadata": {
            "tags": []
          },
          "execution_count": 22
        }
      ]
    },
    {
      "cell_type": "code",
      "metadata": {
        "id": "OZfE-74PmVce",
        "colab_type": "code",
        "outputId": "ca896484-c728-4147-e1bd-a434d06d8919",
        "colab": {
          "base_uri": "https://localhost:8080/",
          "height": 34
        }
      },
      "source": [
        "x_train[3].shape"
      ],
      "execution_count": 23,
      "outputs": [
        {
          "output_type": "execute_result",
          "data": {
            "text/plain": [
              "(28, 28)"
            ]
          },
          "metadata": {
            "tags": []
          },
          "execution_count": 23
        }
      ]
    },
    {
      "cell_type": "code",
      "metadata": {
        "id": "WRAQntC0mp69",
        "colab_type": "code",
        "outputId": "206892fc-4bf1-4ca9-9200-27264573d202",
        "colab": {
          "base_uri": "https://localhost:8080/",
          "height": 51
        }
      },
      "source": [
        "np.unique(y_train, return_counts=True)"
      ],
      "execution_count": 24,
      "outputs": [
        {
          "output_type": "execute_result",
          "data": {
            "text/plain": [
              "(array([0, 1, 2, 3, 4, 5, 6, 7, 8, 9], dtype=uint8),\n",
              " array([6000, 6000, 6000, 6000, 6000, 6000, 6000, 6000, 6000, 6000]))"
            ]
          },
          "metadata": {
            "tags": []
          },
          "execution_count": 24
        }
      ]
    },
    {
      "cell_type": "code",
      "metadata": {
        "id": "oUiS964vnRAt",
        "colab_type": "code",
        "colab": {}
      },
      "source": [
        "#normalize dataset\n",
        "\n",
        "x_train = x_train / 255"
      ],
      "execution_count": 0,
      "outputs": []
    },
    {
      "cell_type": "code",
      "metadata": {
        "id": "0aLdLntvn-rt",
        "colab_type": "code",
        "colab": {}
      },
      "source": [
        "# [5, 10, 15]  - [0.33, 0.66, 1]  - MinMaxScaler"
      ],
      "execution_count": 0,
      "outputs": []
    },
    {
      "cell_type": "code",
      "metadata": {
        "id": "K034hUneo7rN",
        "colab_type": "code",
        "outputId": "f419ea9d-638f-43fb-d155-bad512b2b174",
        "colab": {
          "base_uri": "https://localhost:8080/",
          "height": 282
        }
      },
      "source": [
        "plt.imshow(x_train[3],cmap=\"gray\")"
      ],
      "execution_count": 27,
      "outputs": [
        {
          "output_type": "execute_result",
          "data": {
            "text/plain": [
              "<matplotlib.image.AxesImage at 0x7f1e3e3b8da0>"
            ]
          },
          "metadata": {
            "tags": []
          },
          "execution_count": 27
        },
        {
          "output_type": "display_data",
          "data": {
            "image/png": "[encoded data removed]",
            "text/plain": [
              "<Figure size 432x288 with 1 Axes>"
            ]
          },
          "metadata": {
            "tags": []
          }
        }
      ]
    },
    {
      "cell_type": "code",
      "metadata": {
        "id": "rAuRvsN1pPsO",
        "colab_type": "code",
        "outputId": "3071a0c9-dd2c-48f9-c68b-10cc9638f6f7",
        "colab": {
          "base_uri": "https://localhost:8080/",
          "height": 34
        }
      },
      "source": [
        "x_train[3].max(),x_train[3].min()"
      ],
      "execution_count": 28,
      "outputs": [
        {
          "output_type": "execute_result",
          "data": {
            "text/plain": [
              "(1.0, 0.0)"
            ]
          },
          "metadata": {
            "tags": []
          },
          "execution_count": 28
        }
      ]
    },
    {
      "cell_type": "code",
      "metadata": {
        "id": "ypzZlbe1pY9N",
        "colab_type": "code",
        "colab": {}
      },
      "source": [
        "# [I, II, III]\n",
        "# We do onehot encoding for categorical values\n",
        "# I   1     [1,0,0]\n",
        "# II  2     [0,1,0]\n",
        "# III 3     [0,0,1]"
      ],
      "execution_count": 0,
      "outputs": []
    },
    {
      "cell_type": "code",
      "metadata": {
        "id": "DnAmWDIxqSx7",
        "colab_type": "code",
        "colab": {}
      },
      "source": [
        "# Cat       1     [1, 0, 0, 0]\n",
        "# Dog       2     [0, 1, 0, 0]\n",
        "# Elephant  3     [0, 0, 1, 0]\n",
        "# Horse     4     [0, 0, 0, 1]"
      ],
      "execution_count": 0,
      "outputs": []
    },
    {
      "cell_type": "code",
      "metadata": {
        "id": "2DnAS1oIsYn1",
        "colab_type": "code",
        "colab": {}
      },
      "source": [
        "from tensorflow.keras.utils import to_categorical"
      ],
      "execution_count": 0,
      "outputs": []
    },
    {
      "cell_type": "code",
      "metadata": {
        "id": "Gx8QIdETslMO",
        "colab_type": "code",
        "outputId": "5d70afbd-b5d2-4cef-a9f9-9d7fd8de319c",
        "colab": {
          "base_uri": "https://localhost:8080/",
          "height": 34
        }
      },
      "source": [
        "y_train"
      ],
      "execution_count": 32,
      "outputs": [
        {
          "output_type": "execute_result",
          "data": {
            "text/plain": [
              "array([9, 0, 0, ..., 3, 0, 5], dtype=uint8)"
            ]
          },
          "metadata": {
            "tags": []
          },
          "execution_count": 32
        }
      ]
    },
    {
      "cell_type": "code",
      "metadata": {
        "id": "Y9bBFQA2soSQ",
        "colab_type": "code",
        "outputId": "4ed961db-6029-4690-c431-c99d97e527c9",
        "colab": {
          "base_uri": "https://localhost:8080/",
          "height": 136
        }
      },
      "source": [
        "to_categorical(y_train)"
      ],
      "execution_count": 33,
      "outputs": [
        {
          "output_type": "execute_result",
          "data": {
            "text/plain": [
              "array([[0., 0., 0., ..., 0., 0., 1.],\n",
              "       [1., 0., 0., ..., 0., 0., 0.],\n",
              "       [1., 0., 0., ..., 0., 0., 0.],\n",
              "       ...,\n",
              "       [0., 0., 0., ..., 0., 0., 0.],\n",
              "       [1., 0., 0., ..., 0., 0., 0.],\n",
              "       [0., 0., 0., ..., 0., 0., 0.]], dtype=float32)"
            ]
          },
          "metadata": {
            "tags": []
          },
          "execution_count": 33
        }
      ]
    },
    {
      "cell_type": "code",
      "metadata": {
        "id": "IFcFfrpjw4FE",
        "colab_type": "code",
        "colab": {}
      },
      "source": [
        ""
      ],
      "execution_count": 0,
      "outputs": []
    },
    {
      "cell_type": "code",
      "metadata": {
        "id": "G-0AZ5qXwsos",
        "colab_type": "code",
        "colab": {}
      },
      "source": [
        "y_train= to_categorical(y_train)"
      ],
      "execution_count": 0,
      "outputs": []
    },
    {
      "cell_type": "code",
      "metadata": {
        "id": "y03c2KnUst_-",
        "colab_type": "code",
        "colab": {}
      },
      "source": [
        "# 1. Loaded MNIST Dataset\n",
        "# 2. normalized x train (MinMaxScaler similar to dividing by maxValue)\n",
        "# 3. normalized y train (onehot encoding)"
      ],
      "execution_count": 0,
      "outputs": []
    },
    {
      "cell_type": "code",
      "metadata": {
        "id": "v8A9xP4YwREi",
        "colab_type": "code",
        "colab": {}
      },
      "source": [
        "x_test = x_test / 255"
      ],
      "execution_count": 0,
      "outputs": []
    },
    {
      "cell_type": "code",
      "metadata": {
        "id": "SZ_s-Hr4w92E",
        "colab_type": "code",
        "colab": {}
      },
      "source": [
        "y_test = to_categorical(y_test)"
      ],
      "execution_count": 0,
      "outputs": []
    },
    {
      "cell_type": "code",
      "metadata": {
        "id": "HRdMR309w_-D",
        "colab_type": "code",
        "colab": {}
      },
      "source": [
        "from tensorflow.keras.models import Sequential \n",
        "from tensorflow.keras.layers import Dense, Flatten\n",
        "from tensorflow.keras.activations import relu, softmax\n",
        "from tensorflow.keras.losses import categorical_crossentropy\n",
        "from tensorflow.keras.optimizers import SGD"
      ],
      "execution_count": 0,
      "outputs": []
    },
    {
      "cell_type": "code",
      "metadata": {
        "id": "pl2wfuXcxY9g",
        "colab_type": "code",
        "colab": {}
      },
      "source": [
        "# SGD stochastic gradient desent"
      ],
      "execution_count": 0,
      "outputs": []
    },
    {
      "cell_type": "code",
      "metadata": {
        "id": "SyDyQd2y37Yn",
        "colab_type": "code",
        "colab": {}
      },
      "source": [
        "mod=Sequential()\n",
        "mod.add(Flatten(input_shape=(28,28)))\n",
        "mod.add(Dense(512,activation=relu))\n",
        "mod.add(Dense(256,activation=relu))\n",
        "mod.add(Dense(10,activation=softmax))"
      ],
      "execution_count": 0,
      "outputs": []
    },
    {
      "cell_type": "code",
      "metadata": {
        "id": "59wdv3BS6BlZ",
        "colab_type": "code",
        "outputId": "e671e8f6-a923-49b8-cb95-f84123a808bc",
        "colab": {
          "base_uri": "https://localhost:8080/",
          "height": 289
        }
      },
      "source": [
        "mod.summary()"
      ],
      "execution_count": 41,
      "outputs": [
        {
          "output_type": "stream",
          "text": [
            "Model: \"sequential\"\n",
            "_________________________________________________________________\n",
            "Layer (type)                 Output Shape              Param #   \n",
            "=================================================================\n",
            "flatten (Flatten)            (None, 784)               0         \n",
            "_________________________________________________________________\n",
            "dense (Dense)                (None, 512)               401920    \n",
            "_________________________________________________________________\n",
            "dense_1 (Dense)              (None, 256)               131328    \n",
            "_________________________________________________________________\n",
            "dense_2 (Dense)              (None, 10)                2570      \n",
            "=================================================================\n",
            "Total params: 535,818\n",
            "Trainable params: 535,818\n",
            "Non-trainable params: 0\n",
            "_________________________________________________________________\n"
          ],
          "name": "stdout"
        }
      ]
    },
    {
      "cell_type": "code",
      "metadata": {
        "id": "Uy9a0pQ06JlR",
        "colab_type": "code",
        "colab": {}
      },
      "source": [
        "mod.compile(optimizer=SGD(),loss=categorical_crossentropy,metrics=[\"acc\"])"
      ],
      "execution_count": 0,
      "outputs": []
    },
    {
      "cell_type": "code",
      "metadata": {
        "id": "sfrORcVL6ZIL",
        "colab_type": "code",
        "outputId": "36839a84-be99-4258-9517-c4b525bf199f",
        "colab": {
          "base_uri": "https://localhost:8080/",
          "height": 731
        }
      },
      "source": [
        "#Run the model (Dataset inputs, Dataset labels, batch size =1024, epoch=20)\n",
        "mod.fit(x_train,y_train, 1024, 20)"
      ],
      "execution_count": 43,
      "outputs": [
        {
          "output_type": "stream",
          "text": [
            "Train on 60000 samples\n",
            "Epoch 1/20\n",
            "60000/60000 [==============================] - 2s 40us/sample - loss: 1.7792 - acc: 0.5114\n",
            "Epoch 2/20\n",
            "60000/60000 [==============================] - 0s 6us/sample - loss: 1.2129 - acc: 0.6749\n",
            "Epoch 3/20\n",
            "60000/60000 [==============================] - 0s 7us/sample - loss: 0.9818 - acc: 0.7150\n",
            "Epoch 4/20\n",
            "60000/60000 [==============================] - 0s 6us/sample - loss: 0.8646 - acc: 0.7403\n",
            "Epoch 5/20\n",
            "60000/60000 [==============================] - 0s 6us/sample - loss: 0.7932 - acc: 0.7570\n",
            "Epoch 6/20\n",
            "60000/60000 [==============================] - 0s 6us/sample - loss: 0.7442 - acc: 0.7683\n",
            "Epoch 7/20\n",
            "60000/60000 [==============================] - 0s 6us/sample - loss: 0.7072 - acc: 0.7783\n",
            "Epoch 8/20\n",
            "60000/60000 [==============================] - 0s 6us/sample - loss: 0.6780 - acc: 0.7860\n",
            "Epoch 9/20\n",
            "60000/60000 [==============================] - 0s 6us/sample - loss: 0.6540 - acc: 0.7927\n",
            "Epoch 10/20\n",
            "60000/60000 [==============================] - 0s 6us/sample - loss: 0.6338 - acc: 0.7971\n",
            "Epoch 11/20\n",
            "60000/60000 [==============================] - 0s 6us/sample - loss: 0.6162 - acc: 0.8023\n",
            "Epoch 12/20\n",
            "60000/60000 [==============================] - 0s 6us/sample - loss: 0.6011 - acc: 0.8055\n",
            "Epoch 13/20\n",
            "60000/60000 [==============================] - 0s 6us/sample - loss: 0.5881 - acc: 0.8090\n",
            "Epoch 14/20\n",
            "60000/60000 [==============================] - 0s 7us/sample - loss: 0.5763 - acc: 0.8119\n",
            "Epoch 15/20\n",
            "60000/60000 [==============================] - 0s 6us/sample - loss: 0.5656 - acc: 0.8140\n",
            "Epoch 16/20\n",
            "60000/60000 [==============================] - 0s 6us/sample - loss: 0.5560 - acc: 0.8165\n",
            "Epoch 17/20\n",
            "60000/60000 [==============================] - 0s 6us/sample - loss: 0.5478 - acc: 0.8190\n",
            "Epoch 18/20\n",
            "60000/60000 [==============================] - 0s 6us/sample - loss: 0.5399 - acc: 0.8209\n",
            "Epoch 19/20\n",
            "60000/60000 [==============================] - 0s 7us/sample - loss: 0.5328 - acc: 0.8225\n",
            "Epoch 20/20\n",
            "60000/60000 [==============================] - 0s 6us/sample - loss: 0.5259 - acc: 0.8242\n"
          ],
          "name": "stdout"
        },
        {
          "output_type": "execute_result",
          "data": {
            "text/plain": [
              "<tensorflow.python.keras.callbacks.History at 0x7f1e3049b6d8>"
            ]
          },
          "metadata": {
            "tags": []
          },
          "execution_count": 43
        }
      ]
    },
    {
      "cell_type": "code",
      "metadata": {
        "id": "KZ8hhWiX6_tM",
        "colab_type": "code",
        "outputId": "8b39d1ee-dcb1-472e-f223-b45878dd386f",
        "colab": {
          "base_uri": "https://localhost:8080/",
          "height": 1000
        }
      },
      "source": [
        "np.expand_dims(x_test[0],0)"
      ],
      "execution_count": 44,
      "outputs": [
        {
          "output_type": "execute_result",
          "data": {
            "text/plain": [
              "array([[[0.        , 0.        , 0.        , 0.        , 0.        ,\n",
              "         0.        , 0.        , 0.        , 0.        , 0.        ,\n",
              "         0.        , 0.        , 0.        , 0.        , 0.        ,\n",
              "         0.        , 0.        , 0.        , 0.        , 0.        ,\n",
              "         0.        , 0.        , 0.        , 0.        , 0.        ,\n",
              "         0.        , 0.        , 0.        ],\n",
              "        [0.        , 0.        , 0.        , 0.        , 0.        ,\n",
              "         0.        , 0.        , 0.        , 0.        , 0.        ,\n",
              "         0.        , 0.        , 0.        , 0.        , 0.        ,\n",
              "         0.        , 0.        , 0.        , 0.        , 0.        ,\n",
              "         0.        , 0.        , 0.        , 0.        , 0.        ,\n",
              "         0.        , 0.        , 0.        ],\n",
              "        [0.        , 0.        , 0.        , 0.        , 0.        ,\n",
              "         0.        , 0.        , 0.        , 0.        , 0.        ,\n",
              "         0.        , 0.        , 0.        , 0.        , 0.        ,\n",
              "         0.        , 0.        , 0.        , 0.        , 0.        ,\n",
              "         0.        , 0.        , 0.        , 0.        , 0.        ,\n",
              "         0.        , 0.        , 0.        ],\n",
              "        [0.        , 0.        , 0.        , 0.        , 0.        ,\n",
              "         0.        , 0.        , 0.        , 0.        , 0.        ,\n",
              "         0.        , 0.        , 0.        , 0.        , 0.        ,\n",
              "         0.        , 0.        , 0.        , 0.        , 0.        ,\n",
              "         0.        , 0.        , 0.        , 0.        , 0.        ,\n",
              "         0.        , 0.        , 0.        ],\n",
              "        [0.        , 0.        , 0.        , 0.        , 0.        ,\n",
              "         0.        , 0.        , 0.        , 0.        , 0.        ,\n",
              "         0.        , 0.        , 0.        , 0.        , 0.        ,\n",
              "         0.        , 0.        , 0.        , 0.        , 0.        ,\n",
              "         0.        , 0.        , 0.        , 0.        , 0.        ,\n",
              "         0.        , 0.        , 0.        ],\n",
              "        [0.        , 0.        , 0.        , 0.        , 0.        ,\n",
              "         0.        , 0.        , 0.        , 0.        , 0.        ,\n",
              "         0.        , 0.        , 0.        , 0.        , 0.        ,\n",
              "         0.        , 0.        , 0.        , 0.        , 0.        ,\n",
              "         0.        , 0.        , 0.        , 0.        , 0.        ,\n",
              "         0.        , 0.        , 0.        ],\n",
              "        [0.        , 0.        , 0.        , 0.        , 0.        ,\n",
              "         0.        , 0.        , 0.        , 0.        , 0.        ,\n",
              "         0.        , 0.        , 0.        , 0.        , 0.        ,\n",
              "         0.        , 0.        , 0.        , 0.        , 0.        ,\n",
              "         0.        , 0.        , 0.        , 0.        , 0.        ,\n",
              "         0.        , 0.        , 0.        ],\n",
              "        [0.        , 0.        , 0.        , 0.        , 0.        ,\n",
              "         0.        , 0.        , 0.        , 0.        , 0.        ,\n",
              "         0.        , 0.        , 0.        , 0.        , 0.        ,\n",
              "         0.        , 0.        , 0.        , 0.        , 0.01176471,\n",
              "         0.00392157, 0.        , 0.        , 0.02745098, 0.        ,\n",
              "         0.14509804, 0.        , 0.        ],\n",
              "        [0.        , 0.        , 0.        , 0.        , 0.        ,\n",
              "         0.        , 0.        , 0.        , 0.        , 0.        ,\n",
              "         0.        , 0.        , 0.        , 0.00392157, 0.00784314,\n",
              "         0.        , 0.10588235, 0.32941176, 0.04313725, 0.        ,\n",
              "         0.        , 0.        , 0.        , 0.        , 0.        ,\n",
              "         0.46666667, 0.        , 0.        ],\n",
              "        [0.        , 0.        , 0.        , 0.        , 0.        ,\n",
              "         0.        , 0.        , 0.        , 0.        , 0.        ,\n",
              "         0.        , 0.        , 0.        , 0.00392157, 0.        ,\n",
              "         0.        , 0.34509804, 0.56078431, 0.43137255, 0.        ,\n",
              "         0.        , 0.        , 0.        , 0.08627451, 0.36470588,\n",
              "         0.41568627, 0.        , 0.        ],\n",
              "        [0.        , 0.        , 0.        , 0.        , 0.        ,\n",
              "         0.        , 0.        , 0.        , 0.        , 0.        ,\n",
              "         0.        , 0.        , 0.        , 0.01568627, 0.        ,\n",
              "         0.20784314, 0.50588235, 0.47058824, 0.57647059, 0.68627451,\n",
              "         0.61568627, 0.65098039, 0.52941176, 0.60392157, 0.65882353,\n",
              "         0.54901961, 0.        , 0.        ],\n",
              "        [0.        , 0.        , 0.        , 0.        , 0.        ,\n",
              "         0.        , 0.        , 0.        , 0.        , 0.        ,\n",
              "         0.        , 0.        , 0.00784314, 0.        , 0.04313725,\n",
              "         0.5372549 , 0.50980392, 0.50196078, 0.62745098, 0.69019608,\n",
              "         0.62352941, 0.65490196, 0.69803922, 0.58431373, 0.59215686,\n",
              "         0.56470588, 0.        , 0.        ],\n",
              "        [0.        , 0.        , 0.        , 0.        , 0.        ,\n",
              "         0.        , 0.00392157, 0.        , 0.00784314, 0.00392157,\n",
              "         0.        , 0.01176471, 0.        , 0.        , 0.45098039,\n",
              "         0.44705882, 0.41568627, 0.5372549 , 0.65882353, 0.6       ,\n",
              "         0.61176471, 0.64705882, 0.65490196, 0.56078431, 0.61568627,\n",
              "         0.61960784, 0.04313725, 0.        ],\n",
              "        [0.        , 0.        , 0.        , 0.        , 0.00392157,\n",
              "         0.        , 0.        , 0.        , 0.        , 0.        ,\n",
              "         0.01176471, 0.        , 0.        , 0.34901961, 0.54509804,\n",
              "         0.35294118, 0.36862745, 0.6       , 0.58431373, 0.51372549,\n",
              "         0.59215686, 0.6627451 , 0.6745098 , 0.56078431, 0.62352941,\n",
              "         0.6627451 , 0.18823529, 0.        ],\n",
              "        [0.        , 0.        , 0.        , 0.        , 0.        ,\n",
              "         0.        , 0.00784314, 0.01568627, 0.00392157, 0.        ,\n",
              "         0.        , 0.        , 0.38431373, 0.53333333, 0.43137255,\n",
              "         0.42745098, 0.43137255, 0.63529412, 0.52941176, 0.56470588,\n",
              "         0.58431373, 0.62352941, 0.65490196, 0.56470588, 0.61960784,\n",
              "         0.6627451 , 0.46666667, 0.        ],\n",
              "        [0.        , 0.        , 0.00784314, 0.00784314, 0.00392157,\n",
              "         0.00784314, 0.        , 0.        , 0.        , 0.        ,\n",
              "         0.10196078, 0.42352941, 0.45882353, 0.38823529, 0.43529412,\n",
              "         0.45882353, 0.53333333, 0.61176471, 0.5254902 , 0.60392157,\n",
              "         0.60392157, 0.61176471, 0.62745098, 0.55294118, 0.57647059,\n",
              "         0.61176471, 0.69803922, 0.        ],\n",
              "        [0.01176471, 0.        , 0.        , 0.        , 0.        ,\n",
              "         0.        , 0.        , 0.08235294, 0.20784314, 0.36078431,\n",
              "         0.45882353, 0.43529412, 0.40392157, 0.45098039, 0.50588235,\n",
              "         0.5254902 , 0.56078431, 0.60392157, 0.64705882, 0.66666667,\n",
              "         0.60392157, 0.59215686, 0.60392157, 0.56078431, 0.54117647,\n",
              "         0.58823529, 0.64705882, 0.16862745],\n",
              "        [0.        , 0.        , 0.09019608, 0.21176471, 0.25490196,\n",
              "         0.29803922, 0.33333333, 0.4627451 , 0.50196078, 0.48235294,\n",
              "         0.43529412, 0.44313725, 0.4627451 , 0.49803922, 0.49019608,\n",
              "         0.54509804, 0.52156863, 0.53333333, 0.62745098, 0.54901961,\n",
              "         0.60784314, 0.63137255, 0.56470588, 0.60784314, 0.6745098 ,\n",
              "         0.63137255, 0.74117647, 0.24313725],\n",
              "        [0.        , 0.26666667, 0.36862745, 0.35294118, 0.43529412,\n",
              "         0.44705882, 0.43529412, 0.44705882, 0.45098039, 0.49803922,\n",
              "         0.52941176, 0.53333333, 0.56078431, 0.49411765, 0.49803922,\n",
              "         0.59215686, 0.60392157, 0.56078431, 0.58039216, 0.49019608,\n",
              "         0.63529412, 0.63529412, 0.56470588, 0.54117647, 0.6       ,\n",
              "         0.63529412, 0.76862745, 0.22745098],\n",
              "        [0.2745098 , 0.6627451 , 0.50588235, 0.40784314, 0.38431373,\n",
              "         0.39215686, 0.36862745, 0.38039216, 0.38431373, 0.4       ,\n",
              "         0.42352941, 0.41568627, 0.46666667, 0.47058824, 0.50588235,\n",
              "         0.58431373, 0.61176471, 0.65490196, 0.74509804, 0.74509804,\n",
              "         0.76862745, 0.77647059, 0.77647059, 0.73333333, 0.77254902,\n",
              "         0.74117647, 0.72156863, 0.14117647],\n",
              "        [0.0627451 , 0.49411765, 0.67058824, 0.7372549 , 0.7372549 ,\n",
              "         0.72156863, 0.67058824, 0.6       , 0.52941176, 0.47058824,\n",
              "         0.49411765, 0.49803922, 0.57254902, 0.7254902 , 0.76470588,\n",
              "         0.81960784, 0.81568627, 1.        , 0.81960784, 0.69411765,\n",
              "         0.96078431, 0.98823529, 0.98431373, 0.98431373, 0.96862745,\n",
              "         0.8627451 , 0.80784314, 0.19215686],\n",
              "        [0.        , 0.        , 0.        , 0.04705882, 0.2627451 ,\n",
              "         0.41568627, 0.64313725, 0.7254902 , 0.78039216, 0.82352941,\n",
              "         0.82745098, 0.82352941, 0.81568627, 0.74509804, 0.58823529,\n",
              "         0.32156863, 0.03137255, 0.        , 0.        , 0.        ,\n",
              "         0.69803922, 0.81568627, 0.7372549 , 0.68627451, 0.63529412,\n",
              "         0.61960784, 0.59215686, 0.04313725],\n",
              "        [0.        , 0.        , 0.        , 0.        , 0.        ,\n",
              "         0.        , 0.        , 0.        , 0.        , 0.        ,\n",
              "         0.        , 0.        , 0.        , 0.        , 0.        ,\n",
              "         0.        , 0.        , 0.        , 0.        , 0.        ,\n",
              "         0.        , 0.        , 0.        , 0.        , 0.        ,\n",
              "         0.        , 0.        , 0.        ],\n",
              "        [0.        , 0.        , 0.        , 0.        , 0.        ,\n",
              "         0.        , 0.        , 0.        , 0.        , 0.        ,\n",
              "         0.        , 0.        , 0.        , 0.        , 0.        ,\n",
              "         0.        , 0.        , 0.        , 0.        , 0.        ,\n",
              "         0.        , 0.        , 0.        , 0.        , 0.        ,\n",
              "         0.        , 0.        , 0.        ],\n",
              "        [0.        , 0.        , 0.        , 0.        , 0.        ,\n",
              "         0.        , 0.        , 0.        , 0.        , 0.        ,\n",
              "         0.        , 0.        , 0.        , 0.        , 0.        ,\n",
              "         0.        , 0.        , 0.        , 0.        , 0.        ,\n",
              "         0.        , 0.        , 0.        , 0.        , 0.        ,\n",
              "         0.        , 0.        , 0.        ],\n",
              "        [0.        , 0.        , 0.        , 0.        , 0.        ,\n",
              "         0.        , 0.        , 0.        , 0.        , 0.        ,\n",
              "         0.        , 0.        , 0.        , 0.        , 0.        ,\n",
              "         0.        , 0.        , 0.        , 0.        , 0.        ,\n",
              "         0.        , 0.        , 0.        , 0.        , 0.        ,\n",
              "         0.        , 0.        , 0.        ],\n",
              "        [0.        , 0.        , 0.        , 0.        , 0.        ,\n",
              "         0.        , 0.        , 0.        , 0.        , 0.        ,\n",
              "         0.        , 0.        , 0.        , 0.        , 0.        ,\n",
              "         0.        , 0.        , 0.        , 0.        , 0.        ,\n",
              "         0.        , 0.        , 0.        , 0.        , 0.        ,\n",
              "         0.        , 0.        , 0.        ],\n",
              "        [0.        , 0.        , 0.        , 0.        , 0.        ,\n",
              "         0.        , 0.        , 0.        , 0.        , 0.        ,\n",
              "         0.        , 0.        , 0.        , 0.        , 0.        ,\n",
              "         0.        , 0.        , 0.        , 0.        , 0.        ,\n",
              "         0.        , 0.        , 0.        , 0.        , 0.        ,\n",
              "         0.        , 0.        , 0.        ]]])"
            ]
          },
          "metadata": {
            "tags": []
          },
          "execution_count": 44
        }
      ]
    },
    {
      "cell_type": "code",
      "metadata": {
        "id": "hTvkMgDbn6SC",
        "colab_type": "code",
        "outputId": "2ed7a544-a9d0-4d50-d633-4a0eba8cd9f5",
        "colab": {
          "base_uri": "https://localhost:8080/",
          "height": 34
        }
      },
      "source": [
        "np.expand_dims(x_test[0],-1).shape"
      ],
      "execution_count": 45,
      "outputs": [
        {
          "output_type": "execute_result",
          "data": {
            "text/plain": [
              "(28, 28, 1)"
            ]
          },
          "metadata": {
            "tags": []
          },
          "execution_count": 45
        }
      ]
    },
    {
      "cell_type": "code",
      "metadata": {
        "id": "ZyzDMVcCorvM",
        "colab_type": "code",
        "colab": {}
      },
      "source": [
        "predicted_prob = mod.predict(np.expand_dims(x_test[0],0))"
      ],
      "execution_count": 0,
      "outputs": []
    },
    {
      "cell_type": "code",
      "metadata": {
        "id": "iRq3egz_pDrw",
        "colab_type": "code",
        "outputId": "60733f7a-70b3-459a-9293-ef579db5eb38",
        "colab": {
          "base_uri": "https://localhost:8080/",
          "height": 34
        }
      },
      "source": [
        "np.argmax(predicted_prob)"
      ],
      "execution_count": 47,
      "outputs": [
        {
          "output_type": "execute_result",
          "data": {
            "text/plain": [
              "9"
            ]
          },
          "metadata": {
            "tags": []
          },
          "execution_count": 47
        }
      ]
    },
    {
      "cell_type": "code",
      "metadata": {
        "id": "i7uS332ApKhf",
        "colab_type": "code",
        "colab": {}
      },
      "source": [
        ""
      ],
      "execution_count": 0,
      "outputs": []
    }
  ]
}